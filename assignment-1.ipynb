{
 "cells": [
  {
   "cell_type": "markdown",
   "metadata": {},
   "source": [
    "# Assignment 1\n",
    "In this assignment you will create a model that is able to detect fraudulent credit card transactions. The structure of this assignment is as follows:\n",
    "\n",
    "1. Loading the data\n",
    "1. Slicing the data into a training, validation and test set\n",
    "1. Normalising the data\n",
    "1. Building and training an initial model\n",
    "1. Improving to model such that it has sufficient capacity\n",
    "1. Evaluating your trained model on the test set\n",
    "\n",
    "As always, first we load Keras and some helper functions:"
   ]
  },
  {
   "cell_type": "code",
   "execution_count": 6,
   "metadata": {},
   "outputs": [
    {
     "data": {
      "text/html": [
       "2"
      ],
      "text/latex": [
       "2"
      ],
      "text/markdown": [
       "2"
      ],
      "text/plain": [
       "[1] 2"
      ]
     },
     "metadata": {},
     "output_type": "display_data"
    },
    {
     "data": {
      "text/html": [
       "4"
      ],
      "text/latex": [
       "4"
      ],
      "text/markdown": [
       "4"
      ],
      "text/plain": [
       "[1] 4"
      ]
     },
     "metadata": {},
     "output_type": "display_data"
    },
    {
     "data": {
      "text/html": [
       "<ol class=list-inline>\n",
       "\t<li>2</li>\n",
       "\t<li>2</li>\n",
       "</ol>\n"
      ],
      "text/latex": [
       "\\begin{enumerate*}\n",
       "\\item 2\n",
       "\\item 2\n",
       "\\end{enumerate*}\n"
      ],
      "text/markdown": [
       "1. 2\n",
       "2. 2\n",
       "\n",
       "\n"
      ],
      "text/plain": [
       "[1] 2 2"
      ]
     },
     "metadata": {},
     "output_type": "display_data"
    }
   ],
   "source": [
    "mat = matrix(c(1,1,1,1), ncol = 2, nrow = 2)\n",
    "vec = c(1,1)\n",
    "length(vec)\n",
    "length(mat)\n",
    "dim(mat)"
   ]
  },
  {
   "cell_type": "code",
   "execution_count": 7,
   "metadata": {},
   "outputs": [],
   "source": [
    "library(keras)\n",
    "source('assignment-1-helpers.R')\n",
    "library(tensorflow)"
   ]
  },
  {
   "cell_type": "code",
   "execution_count": 8,
   "metadata": {},
   "outputs": [],
   "source": [
    "k_clear_session()\n",
    "threads <- 8L\n",
    "config <- tf$ConfigProto(intra_op_parallelism_threads = 1L, \n",
    "                         inter_op_parallelism_threads = 1L)\n",
    "session = tf$Session(config=config)\n",
    "k_set_session(session)"
   ]
  },
  {
   "cell_type": "markdown",
   "metadata": {},
   "source": [
    "## Exercise 1: loading the data\n",
    "Load the dataset from the `dataset_creditcard_fraud_shuffled` function like we have done in the previous notebooks. Store the data in variables `x` and `y`.\n",
    "\n",
    "Inspect the data set and its dimensions using the `head` and `dim` functions. How many feature columns do we have? How many samples? Write down your answer as a comment in the second cell below."
   ]
  },
  {
   "cell_type": "code",
   "execution_count": 9,
   "metadata": {},
   "outputs": [],
   "source": [
    "data = dataset_creditcard_fraud_shuffled()"
   ]
  },
  {
   "cell_type": "code",
   "execution_count": 10,
   "metadata": {},
   "outputs": [
    {
     "data": {
      "text/html": [
       "<ol class=list-inline>\n",
       "\t<li>28430</li>\n",
       "\t<li>29</li>\n",
       "</ol>\n"
      ],
      "text/latex": [
       "\\begin{enumerate*}\n",
       "\\item 28430\n",
       "\\item 29\n",
       "\\end{enumerate*}\n"
      ],
      "text/markdown": [
       "1. 28430\n",
       "2. 29\n",
       "\n",
       "\n"
      ],
      "text/plain": [
       "[1] 28430    29"
      ]
     },
     "metadata": {},
     "output_type": "display_data"
    },
    {
     "data": {
      "text/html": [
       "28430"
      ],
      "text/latex": [
       "28430"
      ],
      "text/markdown": [
       "28430"
      ],
      "text/plain": [
       "[1] 28430"
      ]
     },
     "metadata": {},
     "output_type": "display_data"
    }
   ],
   "source": [
    "dim(data$x)\n",
    "length(data$y)"
   ]
  },
  {
   "cell_type": "markdown",
   "metadata": {},
   "source": [
    "## Exercise 2: splitting the data\n",
    "Divide the data set into a training and test set, split 80%-20%. Divide the training set again into a training and validation set, again split 80%-20%. Show the dimensions of the three different sets."
   ]
  },
  {
   "cell_type": "code",
   "execution_count": 11,
   "metadata": {},
   "outputs": [],
   "source": [
    "index <- 0.8 * length(data$y)\n",
    "x_test <- data$x[-(1:index),]\n",
    "y_test <- data$y[-(1:index)]\n",
    "\n",
    "x_train <- data$x[1:index,]\n",
    "y_train <- data$y[1:index]\n",
    "\n",
    "index <- 0.8 * length(y_train)\n",
    "x_val <- x_train[-(1:index),]\n",
    "y_val <- y_train[-(1:index)]\n",
    "\n",
    "x_train <- x_train[1:index,]\n",
    "y_train <- y_train[1:index]"
   ]
  },
  {
   "cell_type": "code",
   "execution_count": 12,
   "metadata": {},
   "outputs": [
    {
     "data": {
      "text/html": [
       "<ol class=list-inline>\n",
       "\t<li>5686</li>\n",
       "\t<li>29</li>\n",
       "</ol>\n"
      ],
      "text/latex": [
       "\\begin{enumerate*}\n",
       "\\item 5686\n",
       "\\item 29\n",
       "\\end{enumerate*}\n"
      ],
      "text/markdown": [
       "1. 5686\n",
       "2. 29\n",
       "\n",
       "\n"
      ],
      "text/plain": [
       "[1] 5686   29"
      ]
     },
     "metadata": {},
     "output_type": "display_data"
    },
    {
     "data": {
      "text/html": [
       "5686"
      ],
      "text/latex": [
       "5686"
      ],
      "text/markdown": [
       "5686"
      ],
      "text/plain": [
       "[1] 5686"
      ]
     },
     "metadata": {},
     "output_type": "display_data"
    },
    {
     "data": {
      "text/html": [
       "<ol class=list-inline>\n",
       "\t<li>4549</li>\n",
       "\t<li>29</li>\n",
       "</ol>\n"
      ],
      "text/latex": [
       "\\begin{enumerate*}\n",
       "\\item 4549\n",
       "\\item 29\n",
       "\\end{enumerate*}\n"
      ],
      "text/markdown": [
       "1. 4549\n",
       "2. 29\n",
       "\n",
       "\n"
      ],
      "text/plain": [
       "[1] 4549   29"
      ]
     },
     "metadata": {},
     "output_type": "display_data"
    },
    {
     "data": {
      "text/html": [
       "4549"
      ],
      "text/latex": [
       "4549"
      ],
      "text/markdown": [
       "4549"
      ],
      "text/plain": [
       "[1] 4549"
      ]
     },
     "metadata": {},
     "output_type": "display_data"
    },
    {
     "data": {
      "text/html": [
       "<ol class=list-inline>\n",
       "\t<li>18195</li>\n",
       "\t<li>29</li>\n",
       "</ol>\n"
      ],
      "text/latex": [
       "\\begin{enumerate*}\n",
       "\\item 18195\n",
       "\\item 29\n",
       "\\end{enumerate*}\n"
      ],
      "text/markdown": [
       "1. 18195\n",
       "2. 29\n",
       "\n",
       "\n"
      ],
      "text/plain": [
       "[1] 18195    29"
      ]
     },
     "metadata": {},
     "output_type": "display_data"
    },
    {
     "data": {
      "text/html": [
       "18195"
      ],
      "text/latex": [
       "18195"
      ],
      "text/markdown": [
       "18195"
      ],
      "text/plain": [
       "[1] 18195"
      ]
     },
     "metadata": {},
     "output_type": "display_data"
    }
   ],
   "source": [
    "dim(x_test)\n",
    "length(y_test)\n",
    "dim(x_val)\n",
    "length(y_val)\n",
    "dim(x_train)\n",
    "length(y_train)"
   ]
  },
  {
   "cell_type": "markdown",
   "metadata": {},
   "source": [
    "## Exercise 3: normalising the data\n",
    "Inspect the data set with `head`. You will see that the first 28 columns of `x` are the output of a principal components analysis (PCA) transformation. The last column, `amount`, is the amount charged.\n",
    "`y` contains the labels, where a value of `1` denotes fraud, `0` no fraud.\n",
    "\n",
    "Normalise the `amount` column in the training, validation and test sets by **standardising** the values. That is: converting all values in this column into **z-scores**. You can do this by subtracting the column's mean from the values, and then dividing the resulting values by the standard deviation of the column, like so:\n",
    "\n",
    "$$\n",
    "z = \\frac{x - \\mu}{\\sigma}\n",
    "$$\n",
    "\n",
    "You can either do this by hand, or use R's [`scale`](https://www.rdocumentation.org/packages/base/versions/3.5.1/topics/scale) function for this.\n",
    "\n",
    "**Hint**: be careful to minimise **information leakage** across the data sets. Calculate the mean and standard deviation on the training set, then use these values to standardise the training set, validation set and test set."
   ]
  },
  {
   "cell_type": "code",
   "execution_count": 13,
   "metadata": {},
   "outputs": [
    {
     "data": {
      "text/html": [
       "<dl class=dl-horizontal>\n",
       "\t<dt>PCA1</dt>\n",
       "\t\t<dd>-17.7284243019203</dd>\n",
       "\t<dt>PCA2</dt>\n",
       "\t\t<dd>12.0652097257982</dd>\n",
       "\t<dt>PCA3</dt>\n",
       "\t\t<dd>-19.2080176623361</dd>\n",
       "\t<dt>PCA4</dt>\n",
       "\t\t<dd>10.3646338526802</dd>\n",
       "\t<dt>PCA5</dt>\n",
       "\t\t<dd>-15.3941576759599</dd>\n",
       "\t<dt>PCA6</dt>\n",
       "\t\t<dd>2.94650880537718</dd>\n",
       "\t<dt>PCA7</dt>\n",
       "\t\t<dd>-21.193947271816</dd>\n",
       "\t<dt>PCA8</dt>\n",
       "\t\t<dd>-3.90917652537851</dd>\n",
       "\t<dt>PCA9</dt>\n",
       "\t\t<dd>-10.0591948772686</dd>\n",
       "\t<dt>PCA10</dt>\n",
       "\t\t<dd>-14.8821121765005</dd>\n",
       "\t<dt>PCA11</dt>\n",
       "\t\t<dd>4.95807143872664</dd>\n",
       "\t<dt>PCA12</dt>\n",
       "\t\t<dd>-12.2409176807506</dd>\n",
       "\t<dt>PCA13</dt>\n",
       "\t\t<dd>3.1824933468057</dd>\n",
       "\t<dt>PCA14</dt>\n",
       "\t\t<dd>-2.55832013135095</dd>\n",
       "\t<dt>PCA15</dt>\n",
       "\t\t<dd>-0.513298808048698</dd>\n",
       "\t<dt>PCA16</dt>\n",
       "\t\t<dd>-8.49399331649095</dd>\n",
       "\t<dt>PCA17</dt>\n",
       "\t\t<dd>-17.4678150825432</dd>\n",
       "\t<dt>PCA18</dt>\n",
       "\t\t<dd>-8.72342088255078</dd>\n",
       "\t<dt>PCA19</dt>\n",
       "\t\t<dd>3.21242621352049</dd>\n",
       "\t<dt>PCA20</dt>\n",
       "\t\t<dd>1.39029053805865</dd>\n",
       "\t<dt>PCA21</dt>\n",
       "\t\t<dd>-9.17103318732699</dd>\n",
       "\t<dt>PCA22</dt>\n",
       "\t\t<dd>-0.928309651163903</dd>\n",
       "\t<dt>PCA23</dt>\n",
       "\t\t<dd>1.19986445642792</dd>\n",
       "\t<dt>PCA24</dt>\n",
       "\t\t<dd>-0.562050468837839</dd>\n",
       "\t<dt>PCA25</dt>\n",
       "\t\t<dd>-4.30149999869586</dd>\n",
       "\t<dt>PCA26</dt>\n",
       "\t\t<dd>-0.0466727501484511</dd>\n",
       "\t<dt>PCA27</dt>\n",
       "\t\t<dd>-5.41385785817112</dd>\n",
       "\t<dt>PCA28</dt>\n",
       "\t\t<dd>2.12056833397602</dd>\n",
       "\t<dt>amount</dt>\n",
       "\t\t<dd>6.26398038043059</dd>\n",
       "</dl>\n"
      ],
      "text/latex": [
       "\\begin{description*}\n",
       "\\item[PCA1] -17.7284243019203\n",
       "\\item[PCA2] 12.0652097257982\n",
       "\\item[PCA3] -19.2080176623361\n",
       "\\item[PCA4] 10.3646338526802\n",
       "\\item[PCA5] -15.3941576759599\n",
       "\\item[PCA6] 2.94650880537718\n",
       "\\item[PCA7] -21.193947271816\n",
       "\\item[PCA8] -3.90917652537851\n",
       "\\item[PCA9] -10.0591948772686\n",
       "\\item[PCA10] -14.8821121765005\n",
       "\\item[PCA11] 4.95807143872664\n",
       "\\item[PCA12] -12.2409176807506\n",
       "\\item[PCA13] 3.1824933468057\n",
       "\\item[PCA14] -2.55832013135095\n",
       "\\item[PCA15] -0.513298808048698\n",
       "\\item[PCA16] -8.49399331649095\n",
       "\\item[PCA17] -17.4678150825432\n",
       "\\item[PCA18] -8.72342088255078\n",
       "\\item[PCA19] 3.21242621352049\n",
       "\\item[PCA20] 1.39029053805865\n",
       "\\item[PCA21] -9.17103318732699\n",
       "\\item[PCA22] -0.928309651163903\n",
       "\\item[PCA23] 1.19986445642792\n",
       "\\item[PCA24] -0.562050468837839\n",
       "\\item[PCA25] -4.30149999869586\n",
       "\\item[PCA26] -0.0466727501484511\n",
       "\\item[PCA27] -5.41385785817112\n",
       "\\item[PCA28] 2.12056833397602\n",
       "\\item[amount] 6.26398038043059\n",
       "\\end{description*}\n"
      ],
      "text/markdown": [
       "PCA1\n",
       ":   -17.7284243019203PCA2\n",
       ":   12.0652097257982PCA3\n",
       ":   -19.2080176623361PCA4\n",
       ":   10.3646338526802PCA5\n",
       ":   -15.3941576759599PCA6\n",
       ":   2.94650880537718PCA7\n",
       ":   -21.193947271816PCA8\n",
       ":   -3.90917652537851PCA9\n",
       ":   -10.0591948772686PCA10\n",
       ":   -14.8821121765005PCA11\n",
       ":   4.95807143872664PCA12\n",
       ":   -12.2409176807506PCA13\n",
       ":   3.1824933468057PCA14\n",
       ":   -2.55832013135095PCA15\n",
       ":   -0.513298808048698PCA16\n",
       ":   -8.49399331649095PCA17\n",
       ":   -17.4678150825432PCA18\n",
       ":   -8.72342088255078PCA19\n",
       ":   3.21242621352049PCA20\n",
       ":   1.39029053805865PCA21\n",
       ":   -9.17103318732699PCA22\n",
       ":   -0.928309651163903PCA23\n",
       ":   1.19986445642792PCA24\n",
       ":   -0.562050468837839PCA25\n",
       ":   -4.30149999869586PCA26\n",
       ":   -0.0466727501484511PCA27\n",
       ":   -5.41385785817112PCA28\n",
       ":   2.12056833397602amount\n",
       ":   6.26398038043059\n",
       "\n"
      ],
      "text/plain": [
       "        PCA1         PCA2         PCA3         PCA4         PCA5         PCA6 \n",
       "-17.72842430  12.06520973 -19.20801766  10.36463385 -15.39415768   2.94650881 \n",
       "        PCA7         PCA8         PCA9        PCA10        PCA11        PCA12 \n",
       "-21.19394727  -3.90917653 -10.05919488 -14.88211218   4.95807144 -12.24091768 \n",
       "       PCA13        PCA14        PCA15        PCA16        PCA17        PCA18 \n",
       "  3.18249335  -2.55832013  -0.51329881  -8.49399332 -17.46781508  -8.72342088 \n",
       "       PCA19        PCA20        PCA21        PCA22        PCA23        PCA24 \n",
       "  3.21242621   1.39029054  -9.17103319  -0.92830965   1.19986446  -0.56205047 \n",
       "       PCA25        PCA26        PCA27        PCA28       amount \n",
       " -4.30150000  -0.04667275  -5.41385786   2.12056833   6.26398038 "
      ]
     },
     "metadata": {},
     "output_type": "display_data"
    }
   ],
   "source": [
    "x_train[1, ]"
   ]
  },
  {
   "cell_type": "code",
   "execution_count": 14,
   "metadata": {},
   "outputs": [
    {
     "data": {
      "text/html": [
       "<strong>amount:</strong> 101.365895245736"
      ],
      "text/latex": [
       "\\textbf{amount:} 101.365895245736"
      ],
      "text/markdown": [
       "**amount:** 101.365895245736"
      ],
      "text/plain": [
       "  amount \n",
       "101.3659 "
      ]
     },
     "metadata": {},
     "output_type": "display_data"
    },
    {
     "data": {
      "text/html": [
       "<strong>amount:</strong> 234.676670621819"
      ],
      "text/latex": [
       "\\textbf{amount:} 234.676670621819"
      ],
      "text/markdown": [
       "**amount:** 234.676670621819"
      ],
      "text/plain": [
       "  amount \n",
       "234.6767 "
      ]
     },
     "metadata": {},
     "output_type": "display_data"
    }
   ],
   "source": [
    "mean <- apply(x_train, 2, mean)\n",
    "sd <- apply(x_train, 2, sd)\n",
    "mean['amount']\n",
    "sd['amount']"
   ]
  },
  {
   "cell_type": "code",
   "execution_count": 15,
   "metadata": {},
   "outputs": [
    {
     "data": {
      "text/html": [
       "<table>\n",
       "<tbody>\n",
       "\t<tr><td>-0.40524657</td></tr>\n",
       "\t<tr><td>-0.39065535</td></tr>\n",
       "\t<tr><td>-0.42081684</td></tr>\n",
       "\t<tr><td> 5.38993890</td></tr>\n",
       "\t<tr><td>-0.24018534</td></tr>\n",
       "\t<tr><td>-0.42767734</td></tr>\n",
       "\t<tr><td>-0.35264008</td></tr>\n",
       "\t<tr><td>-0.43033127</td></tr>\n",
       "\t<tr><td>-0.42865742</td></tr>\n",
       "\t<tr><td>-0.12517604</td></tr>\n",
       "\t<tr><td>-0.39780646</td></tr>\n",
       "\t<tr><td>-0.42767734</td></tr>\n",
       "\t<tr><td>-0.28152350</td></tr>\n",
       "\t<tr><td>-0.28570657</td></tr>\n",
       "\t<tr><td>-0.42350139</td></tr>\n",
       "\t<tr><td> 0.18459302</td></tr>\n",
       "\t<tr><td> 0.94597945</td></tr>\n",
       "\t<tr><td>-0.42767734</td></tr>\n",
       "\t<tr><td>-0.42593669</td></tr>\n",
       "\t<tr><td>-0.33126269</td></tr>\n",
       "\t<tr><td>-0.42767734</td></tr>\n",
       "\t<tr><td>-0.28906109</td></tr>\n",
       "\t<tr><td> 0.22803334</td></tr>\n",
       "\t<tr><td> 0.30524596</td></tr>\n",
       "\t<tr><td>-0.39763601</td></tr>\n",
       "\t<tr><td>-0.39955354</td></tr>\n",
       "\t<tr><td>-0.00586294</td></tr>\n",
       "\t<tr><td>-0.39773897</td></tr>\n",
       "\t<tr><td> 1.04578290</td></tr>\n",
       "\t<tr><td>-0.09956633</td></tr>\n",
       "\t<tr><td>⋮</td></tr>\n",
       "\t<tr><td> 2.00852562</td></tr>\n",
       "\t<tr><td>-0.43186192</td></tr>\n",
       "\t<tr><td>-0.42767734</td></tr>\n",
       "\t<tr><td>-0.31688661</td></tr>\n",
       "\t<tr><td>-0.30193406</td></tr>\n",
       "\t<tr><td> 1.22992245</td></tr>\n",
       "\t<tr><td>-0.41632766</td></tr>\n",
       "\t<tr><td>-0.42899831</td></tr>\n",
       "\t<tr><td> 0.13522480</td></tr>\n",
       "\t<tr><td>-0.08054408</td></tr>\n",
       "\t<tr><td>-0.29523981</td></tr>\n",
       "\t<tr><td> 1.47486148</td></tr>\n",
       "\t<tr><td>-0.24764241</td></tr>\n",
       "\t<tr><td>-0.04438403</td></tr>\n",
       "\t<tr><td>-0.37509436</td></tr>\n",
       "\t<tr><td>-0.29153258</td></tr>\n",
       "\t<tr><td>-0.00586294</td></tr>\n",
       "\t<tr><td>-0.36205514</td></tr>\n",
       "\t<tr><td>-0.42222303</td></tr>\n",
       "\t<tr><td>-0.17337000</td></tr>\n",
       "\t<tr><td>-0.30708589</td></tr>\n",
       "\t<tr><td>-0.24339048</td></tr>\n",
       "\t<tr><td>-0.39742295</td></tr>\n",
       "\t<tr><td> 2.94108465</td></tr>\n",
       "\t<tr><td>-0.01434269</td></tr>\n",
       "\t<tr><td>-0.39375834</td></tr>\n",
       "\t<tr><td> 0.31483362</td></tr>\n",
       "\t<tr><td>-0.07630376</td></tr>\n",
       "\t<tr><td>-0.41280582</td></tr>\n",
       "\t<tr><td>-0.16476242</td></tr>\n",
       "</tbody>\n",
       "</table>\n"
      ],
      "text/latex": [
       "\\begin{tabular}{l}\n",
       "\t -0.40524657\\\\\n",
       "\t -0.39065535\\\\\n",
       "\t -0.42081684\\\\\n",
       "\t  5.38993890\\\\\n",
       "\t -0.24018534\\\\\n",
       "\t -0.42767734\\\\\n",
       "\t -0.35264008\\\\\n",
       "\t -0.43033127\\\\\n",
       "\t -0.42865742\\\\\n",
       "\t -0.12517604\\\\\n",
       "\t -0.39780646\\\\\n",
       "\t -0.42767734\\\\\n",
       "\t -0.28152350\\\\\n",
       "\t -0.28570657\\\\\n",
       "\t -0.42350139\\\\\n",
       "\t  0.18459302\\\\\n",
       "\t  0.94597945\\\\\n",
       "\t -0.42767734\\\\\n",
       "\t -0.42593669\\\\\n",
       "\t -0.33126269\\\\\n",
       "\t -0.42767734\\\\\n",
       "\t -0.28906109\\\\\n",
       "\t  0.22803334\\\\\n",
       "\t  0.30524596\\\\\n",
       "\t -0.39763601\\\\\n",
       "\t -0.39955354\\\\\n",
       "\t -0.00586294\\\\\n",
       "\t -0.39773897\\\\\n",
       "\t  1.04578290\\\\\n",
       "\t -0.09956633\\\\\n",
       "\t ⋮\\\\\n",
       "\t  2.00852562\\\\\n",
       "\t -0.43186192\\\\\n",
       "\t -0.42767734\\\\\n",
       "\t -0.31688661\\\\\n",
       "\t -0.30193406\\\\\n",
       "\t  1.22992245\\\\\n",
       "\t -0.41632766\\\\\n",
       "\t -0.42899831\\\\\n",
       "\t  0.13522480\\\\\n",
       "\t -0.08054408\\\\\n",
       "\t -0.29523981\\\\\n",
       "\t  1.47486148\\\\\n",
       "\t -0.24764241\\\\\n",
       "\t -0.04438403\\\\\n",
       "\t -0.37509436\\\\\n",
       "\t -0.29153258\\\\\n",
       "\t -0.00586294\\\\\n",
       "\t -0.36205514\\\\\n",
       "\t -0.42222303\\\\\n",
       "\t -0.17337000\\\\\n",
       "\t -0.30708589\\\\\n",
       "\t -0.24339048\\\\\n",
       "\t -0.39742295\\\\\n",
       "\t  2.94108465\\\\\n",
       "\t -0.01434269\\\\\n",
       "\t -0.39375834\\\\\n",
       "\t  0.31483362\\\\\n",
       "\t -0.07630376\\\\\n",
       "\t -0.41280582\\\\\n",
       "\t -0.16476242\\\\\n",
       "\\end{tabular}\n"
      ],
      "text/markdown": [
       "\n",
       "| -0.40524657 |\n",
       "| -0.39065535 |\n",
       "| -0.42081684 |\n",
       "|  5.38993890 |\n",
       "| -0.24018534 |\n",
       "| -0.42767734 |\n",
       "| -0.35264008 |\n",
       "| -0.43033127 |\n",
       "| -0.42865742 |\n",
       "| -0.12517604 |\n",
       "| -0.39780646 |\n",
       "| -0.42767734 |\n",
       "| -0.28152350 |\n",
       "| -0.28570657 |\n",
       "| -0.42350139 |\n",
       "|  0.18459302 |\n",
       "|  0.94597945 |\n",
       "| -0.42767734 |\n",
       "| -0.42593669 |\n",
       "| -0.33126269 |\n",
       "| -0.42767734 |\n",
       "| -0.28906109 |\n",
       "|  0.22803334 |\n",
       "|  0.30524596 |\n",
       "| -0.39763601 |\n",
       "| -0.39955354 |\n",
       "| -0.00586294 |\n",
       "| -0.39773897 |\n",
       "|  1.04578290 |\n",
       "| -0.09956633 |\n",
       "| ⋮ |\n",
       "|  2.00852562 |\n",
       "| -0.43186192 |\n",
       "| -0.42767734 |\n",
       "| -0.31688661 |\n",
       "| -0.30193406 |\n",
       "|  1.22992245 |\n",
       "| -0.41632766 |\n",
       "| -0.42899831 |\n",
       "|  0.13522480 |\n",
       "| -0.08054408 |\n",
       "| -0.29523981 |\n",
       "|  1.47486148 |\n",
       "| -0.24764241 |\n",
       "| -0.04438403 |\n",
       "| -0.37509436 |\n",
       "| -0.29153258 |\n",
       "| -0.00586294 |\n",
       "| -0.36205514 |\n",
       "| -0.42222303 |\n",
       "| -0.17337000 |\n",
       "| -0.30708589 |\n",
       "| -0.24339048 |\n",
       "| -0.39742295 |\n",
       "|  2.94108465 |\n",
       "| -0.01434269 |\n",
       "| -0.39375834 |\n",
       "|  0.31483362 |\n",
       "| -0.07630376 |\n",
       "| -0.41280582 |\n",
       "| -0.16476242 |\n",
       "\n"
      ],
      "text/plain": [
       "      [,1]       \n",
       " [1,] -0.40524657\n",
       " [2,] -0.39065535\n",
       " [3,] -0.42081684\n",
       " [4,]  5.38993890\n",
       " [5,] -0.24018534\n",
       " [6,] -0.42767734\n",
       " [7,] -0.35264008\n",
       " [8,] -0.43033127\n",
       " [9,] -0.42865742\n",
       "[10,] -0.12517604\n",
       "[11,] -0.39780646\n",
       "[12,] -0.42767734\n",
       "[13,] -0.28152350\n",
       "[14,] -0.28570657\n",
       "[15,] -0.42350139\n",
       "[16,]  0.18459302\n",
       "[17,]  0.94597945\n",
       "[18,] -0.42767734\n",
       "[19,] -0.42593669\n",
       "[20,] -0.33126269\n",
       "[21,] -0.42767734\n",
       "[22,] -0.28906109\n",
       "[23,]  0.22803334\n",
       "[24,]  0.30524596\n",
       "[25,] -0.39763601\n",
       "[26,] -0.39955354\n",
       "[27,] -0.00586294\n",
       "[28,] -0.39773897\n",
       "[29,]  1.04578290\n",
       "[30,] -0.09956633\n",
       "[31,] ⋮          \n",
       "[32,]  2.00852562\n",
       "[33,] -0.43186192\n",
       "[34,] -0.42767734\n",
       "[35,] -0.31688661\n",
       "[36,] -0.30193406\n",
       "[37,]  1.22992245\n",
       "[38,] -0.41632766\n",
       "[39,] -0.42899831\n",
       "[40,]  0.13522480\n",
       "[41,] -0.08054408\n",
       "[42,] -0.29523981\n",
       "[43,]  1.47486148\n",
       "[44,] -0.24764241\n",
       "[45,] -0.04438403\n",
       "[46,] -0.37509436\n",
       "[47,] -0.29153258\n",
       "[48,] -0.00586294\n",
       "[49,] -0.36205514\n",
       "[50,] -0.42222303\n",
       "[51,] -0.17337000\n",
       "[52,] -0.30708589\n",
       "[53,] -0.24339048\n",
       "[54,] -0.39742295\n",
       "[55,]  2.94108465\n",
       "[56,] -0.01434269\n",
       "[57,] -0.39375834\n",
       "[58,]  0.31483362\n",
       "[59,] -0.07630376\n",
       "[60,] -0.41280582\n",
       "[61,] -0.16476242"
      ]
     },
     "metadata": {},
     "output_type": "display_data"
    }
   ],
   "source": [
    "scale(x_train[, 29], center = mean['amount'], scale = sd['amount'])"
   ]
  },
  {
   "cell_type": "code",
   "execution_count": 16,
   "metadata": {},
   "outputs": [],
   "source": [
    "x_train[, 29] <- scale(x_train[, 29], center = mean['amount'], scale = sd['amount'])\n",
    "x_val[, 29] <- scale(x_val[, 29], center = mean['amount'], scale = sd['amount'])\n",
    "x_test[, 29]  <- scale(x_test[, 29], center = mean['amount'], scale = sd['amount'])"
   ]
  },
  {
   "cell_type": "markdown",
   "metadata": {},
   "source": [
    "## Exercise 4: building an initial model\n",
    "Build a neural network suitable for this binary classification problem. As a start, build the network according to the following specifications:\n",
    "\n",
    "1. Architecture: a single hidden layer with four neurons\n",
    "1. Optimizer: ADAM, with learning rate 0.001\n",
    "1. Number of epochs: 250\n",
    "\n",
    "We will leave the rest of the network configuration up to you. Please try to remember the rules of thumb we mentioned in the slides.\n",
    "\n",
    "Train the network with these settings, and show the loss and accuracy plot. Do you think this particular network has sufficient capacity to model the problem? Why or why not? Motivate your answer in a few sentences."
   ]
  },
  {
   "cell_type": "code",
   "execution_count": 17,
   "metadata": {},
   "outputs": [],
   "source": [
    "y_train = matrix(y_train)\n",
    "x_train = matrix(x_train, ncol = 29)\n",
    "y_val = matrix(y_val)\n",
    "x_val = matrix(x_val, ncol = 29)\n",
    "\n",
    "\n",
    "y_train = as.array(y_train)\n",
    "x_train = as.array(x_train)\n",
    "y_val = as.array(y_val)\n",
    "x_val = as.array(x_val)"
   ]
  },
  {
   "cell_type": "code",
   "execution_count": 19,
   "metadata": {},
   "outputs": [
    {
     "data": {
      "text/plain": [
       "Model\n",
       "________________________________________________________________________________\n",
       "Layer (type)                        Output Shape                    Param #     \n",
       "================================================================================\n",
       "dense_3 (Dense)                     (None, 4)                       120         \n",
       "________________________________________________________________________________\n",
       "dense_4 (Dense)                     (None, 1)                       5           \n",
       "================================================================================\n",
       "Total params: 125\n",
       "Trainable params: 125\n",
       "Non-trainable params: 0\n",
       "________________________________________________________________________________\n",
       "\n"
      ]
     },
     "metadata": {},
     "output_type": "display_data"
    },
    {
     "data": {
      "text/plain": [
       "Time difference of 19.00274 secs"
      ]
     },
     "metadata": {},
     "output_type": "display_data"
    },
    {
     "data": {
      "image/png": "[encoded data removed]",
      "text/plain": [
       "plot without title"
      ]
     },
     "metadata": {},
     "output_type": "display_data"
    }
   ],
   "source": [
    "start <- Sys.time()\n",
    "model <- keras_model_sequential() %>%\n",
    "    layer_dense(units = 4, activation = \"relu\", input_shape = c(29)) %>%\n",
    "    layer_dense(units = 1, activation = \"sigmoid\")\n",
    "\n",
    "model\n",
    "\n",
    "\n",
    "model %>% compile(\n",
    "    optimizer = optimizer_adam(lr = 0.001),\n",
    "    loss = \"binary_crossentropy\",\n",
    "    metrics = c(\"accuracy\")\n",
    ")\n",
    "\n",
    "history <- model %>% fit(\n",
    "    x = x_train,\n",
    "    y = y_train,\n",
    "    validation_data = list(x_val, y_val),\n",
    "    epochs = 250,\n",
    "    batch_size = 512\n",
    ")\n",
    "end <- Sys.time()\n",
    "end - start\n",
    "plot(history)"
   ]
  },
  {
   "cell_type": "code",
   "execution_count": 13,
   "metadata": {},
   "outputs": [],
   "source": [
    "# <MOTIVATE YOUR ANSWER HERE>"
   ]
  },
  {
   "cell_type": "markdown",
   "metadata": {},
   "source": [
    "## Exercise 5: improving the model\n",
    "Increase model capacity and try to obtain close to zero loss on the training set (and an accuracy of 1). You can also modify the learning rate, batch size or any other hyperparameter you see fit.\n",
    "\n",
    "Show the loss and accuracy graph. Around what epoch does the model start overfitting given your model? Motivate your answer with a few sentences.\n",
    "\n",
    "**Hint**: try not to create an overly complex model. The number of parameters should be in the low ten thousands."
   ]
  },
  {
   "cell_type": "code",
   "execution_count": 14,
   "metadata": {},
   "outputs": [
    {
     "data": {
      "text/plain": [
       "Model\n",
       "________________________________________________________________________________\n",
       "Layer (type)                        Output Shape                    Param #     \n",
       "================================================================================\n",
       "dense_3 (Dense)                     (None, 64)                      1920        \n",
       "________________________________________________________________________________\n",
       "dense_4 (Dense)                     (None, 64)                      4160        \n",
       "________________________________________________________________________________\n",
       "dense_5 (Dense)                     (None, 64)                      4160        \n",
       "________________________________________________________________________________\n",
       "dense_6 (Dense)                     (None, 1)                       65          \n",
       "================================================================================\n",
       "Total params: 10,305\n",
       "Trainable params: 10,305\n",
       "Non-trainable params: 0\n",
       "________________________________________________________________________________\n",
       "\n"
      ]
     },
     "metadata": {},
     "output_type": "display_data"
    },
    {
     "name": "stdout",
     "output_type": "stream",
     "text": [
      "Epoch 147 - loss: 0.001936162, acc.: 0.999945, val loss: 0.96004096238947, val acc.: 0.884370188853012    \r"
     ]
    }
   ],
   "source": [
    "model <- keras_model_sequential() %>%\n",
    "    layer_dense(units = 64, activation = \"relu\", input_shape = c(29)) %>%\n",
    "    layer_dense(units = 64, activation = \"relu\") %>%\n",
    "    layer_dense(units = 64, activation = \"relu\") %>%\n",
    "    layer_dense(units = 1, activation = \"sigmoid\")\n",
    "\n",
    "model\n",
    "\n",
    "\n",
    "model %>% compile(\n",
    "    optimizer = optimizer_adam(lr = 0.001),\n",
    "    loss = \"binary_crossentropy\",\n",
    "    metrics = c(\"accuracy\")\n",
    ")\n",
    "\n",
    "history <- model %>% fit(\n",
    "    x = x_train,\n",
    "    y = y_train,\n",
    "    validation_data = list(x_val, y_val),\n",
    "    epochs = 250,\n",
    "    batch_size = 512,\n",
    "    callbacks=list(Progress$new())\n",
    ")\n",
    "plot(history)"
   ]
  },
  {
   "cell_type": "code",
   "execution_count": null,
   "metadata": {},
   "outputs": [],
   "source": [
    "# <MOTIVATE YOUR ANSWER HERE>"
   ]
  },
  {
   "cell_type": "markdown",
   "metadata": {},
   "source": [
    "## Exercise 6: evaluating the model\n",
    "Train your model again, this time with the number of epochs just lower than where you would start overfitting. \n",
    "\n",
    "Evaluate your model on the test set and report the final loss and accuracy. The accuracy should be close to the accuracy you got on your validation set, and is usually slightly lower. Why is that? Motivate your answer in a few sentences."
   ]
  },
  {
   "cell_type": "code",
   "execution_count": null,
   "metadata": {},
   "outputs": [],
   "source": [
    "<TRAIN AND EVALUATE YOUR MODEL HERE>"
   ]
  },
  {
   "cell_type": "code",
   "execution_count": null,
   "metadata": {},
   "outputs": [],
   "source": [
    "# <MOTIVATE YOUR ANSWER HERE>"
   ]
  }
 ],
 "metadata": {
  "kernelspec": {
   "display_name": "R",
   "language": "R",
   "name": "ir"
  },
  "language_info": {
   "codemirror_mode": "r",
   "file_extension": ".r",
   "mimetype": "text/x-r-source",
   "name": "R",
   "pygments_lexer": "r",
   "version": "3.5.1"
  }
 },
 "nbformat": 4,
 "nbformat_minor": 2
}
