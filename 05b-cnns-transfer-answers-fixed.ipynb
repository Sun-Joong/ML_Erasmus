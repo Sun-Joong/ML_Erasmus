{
 "cells": [
  {
   "cell_type": "markdown",
   "metadata": {},
   "source": [
    "# The Fashion MNIST - transfer learning\n",
    "This is the last time we will see the **fashion MNIST dataset**. This time we will use a pretrained CNN to process the images. For every image we want to classify it into **10 distinct clothing categories**. We will use the first layers from a known CNN, **ResNet50** and only use 10% of the dataset to speed up processing.\n",
    "\n",
    "The **ResNet50** expects the input to have **3 colors**, but the Fashion MNIST dataset is only grayscale. We will \"fix\" this issue by copying the grayscale values as the colors Red, Green, Blue. These images will undboutably look strange, but this allows us to use the ResNet50 model. Furthermore, the minimal image input size is **32 by 32** pixels, and our images are 28 by 28. To fix this, we will resize our images. Thus, our training set will have dimensions `(6000, 32, 32, 1)`. Lastly, we will do our normal **Min/Max scaling** and map the labels to their **one-hot encoding representation**. \n",
    "\n",
    "We will then download the ResNet50 model and chop off the last layers. We will then construct a new model which uses the first layers of the ResNet50 as the input layer and **freeze** the weights, so we do not train them. After feeding the input to the ResNet50 we will use the computed representation as input to a **dense layer** and then to a **softmax layer**. This will allow us to output a 10 class probability distribution specific to our problem and train the CNN using **categorical_crossentropy**. "
   ]
  },
  {
   "cell_type": "markdown",
   "metadata": {},
   "source": [
    "Let's load the data set and inspect the dimensions."
   ]
  },
  {
   "cell_type": "code",
   "execution_count": 38,
   "metadata": {},
   "outputs": [
    {
     "data": {
      "text/html": [
       "<ol class=list-inline>\n",
       "\t<li>60000</li>\n",
       "\t<li>28</li>\n",
       "\t<li>28</li>\n",
       "</ol>\n"
      ],
      "text/latex": [
       "\\begin{enumerate*}\n",
       "\\item 60000\n",
       "\\item 28\n",
       "\\item 28\n",
       "\\end{enumerate*}\n"
      ],
      "text/markdown": [
       "1. 60000\n",
       "2. 28\n",
       "3. 28\n",
       "\n",
       "\n"
      ],
      "text/plain": [
       "[1] 60000    28    28"
      ]
     },
     "metadata": {},
     "output_type": "display_data"
    },
    {
     "data": {
      "text/html": [
       "60000"
      ],
      "text/latex": [
       "60000"
      ],
      "text/markdown": [
       "60000"
      ],
      "text/plain": [
       "[1] 60000"
      ]
     },
     "metadata": {},
     "output_type": "display_data"
    },
    {
     "data": {
      "text/html": [
       "<ol class=list-inline>\n",
       "\t<li>10000</li>\n",
       "\t<li>28</li>\n",
       "\t<li>28</li>\n",
       "</ol>\n"
      ],
      "text/latex": [
       "\\begin{enumerate*}\n",
       "\\item 10000\n",
       "\\item 28\n",
       "\\item 28\n",
       "\\end{enumerate*}\n"
      ],
      "text/markdown": [
       "1. 10000\n",
       "2. 28\n",
       "3. 28\n",
       "\n",
       "\n"
      ],
      "text/plain": [
       "[1] 10000    28    28"
      ]
     },
     "metadata": {},
     "output_type": "display_data"
    },
    {
     "data": {
      "text/html": [
       "10000"
      ],
      "text/latex": [
       "10000"
      ],
      "text/markdown": [
       "10000"
      ],
      "text/plain": [
       "[1] 10000"
      ]
     },
     "metadata": {},
     "output_type": "display_data"
    }
   ],
   "source": [
    "library(tensorflow)\n",
    "library(keras)\n",
    "library(abind)\n",
    "source(\"06-helpers.R\")\n",
    "\n",
    "use_multi_cpu(4L)\n",
    "\n",
    "data <- dataset_fashion_mnist()\n",
    "dim(data$train$x)\n",
    "length(data$train$y)\n",
    "dim(data$test$x)\n",
    "length(data$test$y)"
   ]
  },
  {
   "cell_type": "markdown",
   "metadata": {},
   "source": [
    "## 1.1 Reshape and subsampling\n",
    "\n",
    "The network we will be using accepts input shapes of (32, 32, 3). To rescale the FMNIST data to this shape, we first create a placeholder array of zeros. "
   ]
  },
  {
   "cell_type": "code",
   "execution_count": 39,
   "metadata": {},
   "outputs": [],
   "source": [
    "x_train_resized <- array(0, dim = c(60000, 32, 32, 3))"
   ]
  },
  {
   "cell_type": "markdown",
   "metadata": {},
   "source": [
    "Next, we repeat the FMNIST grayscale values three time to create RGB images."
   ]
  },
  {
   "cell_type": "code",
   "execution_count": 7,
   "metadata": {},
   "outputs": [],
   "source": [
    "x_train <- data$train$x\n",
    "x_train <- array_reshape(x_train, dim=c(60000 * 784))\n",
    "x_train <- cbind(x_train, x_train, x_train)\n",
    "x_train = array_reshape(x_train, dim=c(60000, 28, 28, 3))"
   ]
  },
  {
   "cell_type": "markdown",
   "metadata": {},
   "source": [
    "Finally, we fill the FMNIST values in the placeholder array. Now, we essentially created a zero-padding around the FMNIST images such that they are (32, 32, 3)."
   ]
  },
  {
   "cell_type": "code",
   "execution_count": 8,
   "metadata": {},
   "outputs": [],
   "source": [
    "x_train_resized[,3:30,3:30,] = x_train"
   ]
  },
  {
   "cell_type": "markdown",
   "metadata": {},
   "source": [
    "Try to do the same for the test data!"
   ]
  },
  {
   "cell_type": "code",
   "execution_count": 10,
   "metadata": {
    "scrolled": true
   },
   "outputs": [
    {
     "ename": "ERROR",
     "evalue": "Error in parse(text = x, srcfile = src): <text>:1:1: unexpected '<'\n1: <\n    ^\n",
     "output_type": "error",
     "traceback": [
      "Error in parse(text = x, srcfile = src): <text>:1:1: unexpected '<'\n1: <\n    ^\nTraceback:\n"
     ]
    }
   ],
   "source": []
  },
  {
   "cell_type": "code",
   "execution_count": 21,
   "metadata": {},
   "outputs": [],
   "source": [
    "x_test_resized <- array(0, dim = c(10000, 32, 32, 3))\n",
    "\n",
    "x_test <- data$test$x\n",
    "x_test <- array_reshape(x_test, dim=c(10000 * 784))\n",
    "x_test <- cbind(x_test, x_test, x_test)\n",
    "x_test = array_reshape(x_test, dim=c(10000, 28, 28, 3))\n",
    "\n",
    "x_test_resized[,3:30,3:30,] = x_test"
   ]
  },
  {
   "cell_type": "markdown",
   "metadata": {},
   "source": [
    "## 1.5 One-hot encoding\n",
    "Lastly, the one-hot encoding."
   ]
  },
  {
   "cell_type": "code",
   "execution_count": 22,
   "metadata": {},
   "outputs": [],
   "source": [
    "y_train = to_categorical(y = data$train$y[1:60000], num_classes = 10)\n",
    "y_test = to_categorical(y = data$test$y[1:10000], num_classes = 10)"
   ]
  },
  {
   "cell_type": "markdown",
   "metadata": {},
   "source": [
    "## 2.1 ResNet50\n",
    "Now we want to use the first layers of the ResNet50 model, pretrained, as feature extractors for our final model. We start by downloading the model description along with the weights. \n",
    "\n",
    "The ResNet50 model which we download has been trained with a known dataset called [ImageNet](http://www.image-net.org/). This is a very large dataset (14 million images) thus we can benefitted from someone else spending a long time training on this dataset. The model was trained in the multiclass classification task over 1000 classes. We do not care to classify our clothing images as these classes so we specify `include_top = FALSE`, to indicate that we will not use the last layer of the model, which is the softmax layer over 1000 classes."
   ]
  },
  {
   "cell_type": "code",
   "execution_count": 23,
   "metadata": {},
   "outputs": [
    {
     "data": {
      "text/plain": [
       "Time difference of 5.256554 secs"
      ]
     },
     "metadata": {},
     "output_type": "display_data"
    }
   ],
   "source": [
    "start <- Sys.time()\n",
    "\n",
    "k_clear_session()\n",
    "resnet_50_model <- application_resnet50(weights = 'imagenet', include_top = FALSE, input_shape = c(32, 32, 3))\n",
    "\n",
    "end <- Sys.time()\n",
    "end - start"
   ]
  },
  {
   "cell_type": "markdown",
   "metadata": {},
   "source": [
    "Let us check the layers on this model."
   ]
  },
  {
   "cell_type": "code",
   "execution_count": 24,
   "metadata": {
    "scrolled": false
   },
   "outputs": [
    {
     "name": "stdout",
     "output_type": "stream",
     "text": [
      "Model: \"resnet50\"\n",
      "________________________________________________________________________________\n",
      "Layer (type)              Output Shape      Param #  Connected to               \n",
      "================================================================================\n",
      "input_1 (InputLayer)      [(None, 32, 32, 3 0                                   \n",
      "________________________________________________________________________________\n",
      "conv1_pad (ZeroPadding2D) (None, 38, 38, 3) 0        input_1[0][0]              \n",
      "________________________________________________________________________________\n",
      "conv1 (Conv2D)            (None, 16, 16, 64 9472     conv1_pad[0][0]            \n",
      "________________________________________________________________________________\n",
      "bn_conv1 (BatchNormalizat (None, 16, 16, 64 256      conv1[0][0]                \n",
      "________________________________________________________________________________\n",
      "activation (Activation)   (None, 16, 16, 64 0        bn_conv1[0][0]             \n",
      "________________________________________________________________________________\n",
      "pool1_pad (ZeroPadding2D) (None, 18, 18, 64 0        activation[0][0]           \n",
      "________________________________________________________________________________\n",
      "max_pooling2d (MaxPooling (None, 8, 8, 64)  0        pool1_pad[0][0]            \n",
      "________________________________________________________________________________\n",
      "res2a_branch2a (Conv2D)   (None, 8, 8, 64)  4160     max_pooling2d[0][0]        \n",
      "________________________________________________________________________________\n",
      "bn2a_branch2a (BatchNorma (None, 8, 8, 64)  256      res2a_branch2a[0][0]       \n",
      "________________________________________________________________________________\n",
      "activation_1 (Activation) (None, 8, 8, 64)  0        bn2a_branch2a[0][0]        \n",
      "________________________________________________________________________________\n",
      "res2a_branch2b (Conv2D)   (None, 8, 8, 64)  36928    activation_1[0][0]         \n",
      "________________________________________________________________________________\n",
      "bn2a_branch2b (BatchNorma (None, 8, 8, 64)  256      res2a_branch2b[0][0]       \n",
      "________________________________________________________________________________\n",
      "activation_2 (Activation) (None, 8, 8, 64)  0        bn2a_branch2b[0][0]        \n",
      "________________________________________________________________________________\n",
      "res2a_branch2c (Conv2D)   (None, 8, 8, 256) 16640    activation_2[0][0]         \n",
      "________________________________________________________________________________\n",
      "res2a_branch1 (Conv2D)    (None, 8, 8, 256) 16640    max_pooling2d[0][0]        \n",
      "________________________________________________________________________________\n",
      "bn2a_branch2c (BatchNorma (None, 8, 8, 256) 1024     res2a_branch2c[0][0]       \n",
      "________________________________________________________________________________\n",
      "bn2a_branch1 (BatchNormal (None, 8, 8, 256) 1024     res2a_branch1[0][0]        \n",
      "________________________________________________________________________________\n",
      "add (Add)                 (None, 8, 8, 256) 0        bn2a_branch2c[0][0]        \n",
      "                                                     bn2a_branch1[0][0]         \n",
      "________________________________________________________________________________\n",
      "activation_3 (Activation) (None, 8, 8, 256) 0        add[0][0]                  \n",
      "________________________________________________________________________________\n",
      "res2b_branch2a (Conv2D)   (None, 8, 8, 64)  16448    activation_3[0][0]         \n",
      "________________________________________________________________________________\n",
      "bn2b_branch2a (BatchNorma (None, 8, 8, 64)  256      res2b_branch2a[0][0]       \n",
      "________________________________________________________________________________\n",
      "activation_4 (Activation) (None, 8, 8, 64)  0        bn2b_branch2a[0][0]        \n",
      "________________________________________________________________________________\n",
      "res2b_branch2b (Conv2D)   (None, 8, 8, 64)  36928    activation_4[0][0]         \n",
      "________________________________________________________________________________\n",
      "bn2b_branch2b (BatchNorma (None, 8, 8, 64)  256      res2b_branch2b[0][0]       \n",
      "________________________________________________________________________________\n",
      "activation_5 (Activation) (None, 8, 8, 64)  0        bn2b_branch2b[0][0]        \n",
      "________________________________________________________________________________\n",
      "res2b_branch2c (Conv2D)   (None, 8, 8, 256) 16640    activation_5[0][0]         \n",
      "________________________________________________________________________________\n",
      "bn2b_branch2c (BatchNorma (None, 8, 8, 256) 1024     res2b_branch2c[0][0]       \n",
      "________________________________________________________________________________\n",
      "add_1 (Add)               (None, 8, 8, 256) 0        bn2b_branch2c[0][0]        \n",
      "                                                     activation_3[0][0]         \n",
      "________________________________________________________________________________\n",
      "activation_6 (Activation) (None, 8, 8, 256) 0        add_1[0][0]                \n",
      "________________________________________________________________________________\n",
      "res2c_branch2a (Conv2D)   (None, 8, 8, 64)  16448    activation_6[0][0]         \n",
      "________________________________________________________________________________\n",
      "bn2c_branch2a (BatchNorma (None, 8, 8, 64)  256      res2c_branch2a[0][0]       \n",
      "________________________________________________________________________________\n",
      "activation_7 (Activation) (None, 8, 8, 64)  0        bn2c_branch2a[0][0]        \n",
      "________________________________________________________________________________\n",
      "res2c_branch2b (Conv2D)   (None, 8, 8, 64)  36928    activation_7[0][0]         \n",
      "________________________________________________________________________________\n",
      "bn2c_branch2b (BatchNorma (None, 8, 8, 64)  256      res2c_branch2b[0][0]       \n",
      "________________________________________________________________________________\n",
      "activation_8 (Activation) (None, 8, 8, 64)  0        bn2c_branch2b[0][0]        \n",
      "________________________________________________________________________________\n",
      "res2c_branch2c (Conv2D)   (None, 8, 8, 256) 16640    activation_8[0][0]         \n",
      "________________________________________________________________________________\n",
      "bn2c_branch2c (BatchNorma (None, 8, 8, 256) 1024     res2c_branch2c[0][0]       \n",
      "________________________________________________________________________________\n",
      "add_2 (Add)               (None, 8, 8, 256) 0        bn2c_branch2c[0][0]        \n",
      "                                                     activation_6[0][0]         \n",
      "________________________________________________________________________________\n",
      "activation_9 (Activation) (None, 8, 8, 256) 0        add_2[0][0]                \n",
      "________________________________________________________________________________\n",
      "res3a_branch2a (Conv2D)   (None, 4, 4, 128) 32896    activation_9[0][0]         \n",
      "________________________________________________________________________________\n",
      "bn3a_branch2a (BatchNorma (None, 4, 4, 128) 512      res3a_branch2a[0][0]       \n",
      "________________________________________________________________________________\n",
      "activation_10 (Activation (None, 4, 4, 128) 0        bn3a_branch2a[0][0]        \n",
      "________________________________________________________________________________\n",
      "res3a_branch2b (Conv2D)   (None, 4, 4, 128) 147584   activation_10[0][0]        \n",
      "________________________________________________________________________________\n",
      "bn3a_branch2b (BatchNorma (None, 4, 4, 128) 512      res3a_branch2b[0][0]       \n",
      "________________________________________________________________________________\n",
      "activation_11 (Activation (None, 4, 4, 128) 0        bn3a_branch2b[0][0]        \n",
      "________________________________________________________________________________\n",
      "res3a_branch2c (Conv2D)   (None, 4, 4, 512) 66048    activation_11[0][0]        \n",
      "________________________________________________________________________________\n",
      "res3a_branch1 (Conv2D)    (None, 4, 4, 512) 131584   activation_9[0][0]         \n",
      "________________________________________________________________________________\n",
      "bn3a_branch2c (BatchNorma (None, 4, 4, 512) 2048     res3a_branch2c[0][0]       \n",
      "________________________________________________________________________________\n",
      "bn3a_branch1 (BatchNormal (None, 4, 4, 512) 2048     res3a_branch1[0][0]        \n",
      "________________________________________________________________________________\n",
      "add_3 (Add)               (None, 4, 4, 512) 0        bn3a_branch2c[0][0]        \n",
      "                                                     bn3a_branch1[0][0]         \n",
      "________________________________________________________________________________\n",
      "activation_12 (Activation (None, 4, 4, 512) 0        add_3[0][0]                \n",
      "________________________________________________________________________________\n",
      "res3b_branch2a (Conv2D)   (None, 4, 4, 128) 65664    activation_12[0][0]        \n",
      "________________________________________________________________________________\n",
      "bn3b_branch2a (BatchNorma (None, 4, 4, 128) 512      res3b_branch2a[0][0]       \n",
      "________________________________________________________________________________\n",
      "activation_13 (Activation (None, 4, 4, 128) 0        bn3b_branch2a[0][0]        \n",
      "________________________________________________________________________________\n",
      "res3b_branch2b (Conv2D)   (None, 4, 4, 128) 147584   activation_13[0][0]        \n",
      "________________________________________________________________________________\n",
      "bn3b_branch2b (BatchNorma (None, 4, 4, 128) 512      res3b_branch2b[0][0]       \n",
      "________________________________________________________________________________\n",
      "activation_14 (Activation (None, 4, 4, 128) 0        bn3b_branch2b[0][0]        \n",
      "________________________________________________________________________________\n",
      "res3b_branch2c (Conv2D)   (None, 4, 4, 512) 66048    activation_14[0][0]        \n",
      "________________________________________________________________________________\n",
      "bn3b_branch2c (BatchNorma (None, 4, 4, 512) 2048     res3b_branch2c[0][0]       \n",
      "________________________________________________________________________________\n",
      "add_4 (Add)               (None, 4, 4, 512) 0        bn3b_branch2c[0][0]        \n",
      "                                                     activation_12[0][0]        \n",
      "________________________________________________________________________________\n",
      "activation_15 (Activation (None, 4, 4, 512) 0        add_4[0][0]                \n",
      "________________________________________________________________________________\n",
      "res3c_branch2a (Conv2D)   (None, 4, 4, 128) 65664    activation_15[0][0]        \n",
      "________________________________________________________________________________\n",
      "bn3c_branch2a (BatchNorma (None, 4, 4, 128) 512      res3c_branch2a[0][0]       \n",
      "________________________________________________________________________________\n",
      "activation_16 (Activation (None, 4, 4, 128) 0        bn3c_branch2a[0][0]        \n",
      "________________________________________________________________________________\n",
      "res3c_branch2b (Conv2D)   (None, 4, 4, 128) 147584   activation_16[0][0]        \n",
      "________________________________________________________________________________\n",
      "bn3c_branch2b (BatchNorma (None, 4, 4, 128) 512      res3c_branch2b[0][0]       \n",
      "________________________________________________________________________________\n",
      "activation_17 (Activation (None, 4, 4, 128) 0        bn3c_branch2b[0][0]        \n",
      "________________________________________________________________________________\n",
      "res3c_branch2c (Conv2D)   (None, 4, 4, 512) 66048    activation_17[0][0]        \n",
      "________________________________________________________________________________\n",
      "bn3c_branch2c (BatchNorma (None, 4, 4, 512) 2048     res3c_branch2c[0][0]       \n",
      "________________________________________________________________________________\n",
      "add_5 (Add)               (None, 4, 4, 512) 0        bn3c_branch2c[0][0]        \n",
      "                                                     activation_15[0][0]        \n",
      "________________________________________________________________________________\n",
      "activation_18 (Activation (None, 4, 4, 512) 0        add_5[0][0]                \n",
      "________________________________________________________________________________\n",
      "res3d_branch2a (Conv2D)   (None, 4, 4, 128) 65664    activation_18[0][0]        \n",
      "________________________________________________________________________________\n",
      "bn3d_branch2a (BatchNorma (None, 4, 4, 128) 512      res3d_branch2a[0][0]       \n",
      "________________________________________________________________________________\n",
      "activation_19 (Activation (None, 4, 4, 128) 0        bn3d_branch2a[0][0]        \n",
      "________________________________________________________________________________\n",
      "res3d_branch2b (Conv2D)   (None, 4, 4, 128) 147584   activation_19[0][0]        \n",
      "________________________________________________________________________________\n",
      "bn3d_branch2b (BatchNorma (None, 4, 4, 128) 512      res3d_branch2b[0][0]       \n",
      "________________________________________________________________________________\n",
      "activation_20 (Activation (None, 4, 4, 128) 0        bn3d_branch2b[0][0]        \n",
      "________________________________________________________________________________\n",
      "res3d_branch2c (Conv2D)   (None, 4, 4, 512) 66048    activation_20[0][0]        \n",
      "________________________________________________________________________________\n",
      "bn3d_branch2c (BatchNorma (None, 4, 4, 512) 2048     res3d_branch2c[0][0]       \n",
      "________________________________________________________________________________\n",
      "add_6 (Add)               (None, 4, 4, 512) 0        bn3d_branch2c[0][0]        \n",
      "                                                     activation_18[0][0]        \n",
      "________________________________________________________________________________\n",
      "activation_21 (Activation (None, 4, 4, 512) 0        add_6[0][0]                \n",
      "________________________________________________________________________________\n",
      "res4a_branch2a (Conv2D)   (None, 2, 2, 256) 131328   activation_21[0][0]        \n",
      "________________________________________________________________________________\n",
      "bn4a_branch2a (BatchNorma (None, 2, 2, 256) 1024     res4a_branch2a[0][0]       \n",
      "________________________________________________________________________________\n",
      "activation_22 (Activation (None, 2, 2, 256) 0        bn4a_branch2a[0][0]        \n",
      "________________________________________________________________________________\n",
      "res4a_branch2b (Conv2D)   (None, 2, 2, 256) 590080   activation_22[0][0]        \n",
      "________________________________________________________________________________\n",
      "bn4a_branch2b (BatchNorma (None, 2, 2, 256) 1024     res4a_branch2b[0][0]       \n",
      "________________________________________________________________________________\n",
      "activation_23 (Activation (None, 2, 2, 256) 0        bn4a_branch2b[0][0]        \n",
      "________________________________________________________________________________\n",
      "res4a_branch2c (Conv2D)   (None, 2, 2, 1024 263168   activation_23[0][0]        \n",
      "________________________________________________________________________________\n",
      "res4a_branch1 (Conv2D)    (None, 2, 2, 1024 525312   activation_21[0][0]        \n",
      "________________________________________________________________________________\n",
      "bn4a_branch2c (BatchNorma (None, 2, 2, 1024 4096     res4a_branch2c[0][0]       \n",
      "________________________________________________________________________________\n",
      "bn4a_branch1 (BatchNormal (None, 2, 2, 1024 4096     res4a_branch1[0][0]        \n",
      "________________________________________________________________________________\n",
      "add_7 (Add)               (None, 2, 2, 1024 0        bn4a_branch2c[0][0]        \n",
      "                                                     bn4a_branch1[0][0]         \n",
      "________________________________________________________________________________\n",
      "activation_24 (Activation (None, 2, 2, 1024 0        add_7[0][0]                \n",
      "________________________________________________________________________________\n",
      "res4b_branch2a (Conv2D)   (None, 2, 2, 256) 262400   activation_24[0][0]        \n",
      "________________________________________________________________________________\n",
      "bn4b_branch2a (BatchNorma (None, 2, 2, 256) 1024     res4b_branch2a[0][0]       \n",
      "________________________________________________________________________________\n",
      "activation_25 (Activation (None, 2, 2, 256) 0        bn4b_branch2a[0][0]        \n",
      "________________________________________________________________________________\n",
      "res4b_branch2b (Conv2D)   (None, 2, 2, 256) 590080   activation_25[0][0]        \n",
      "________________________________________________________________________________\n",
      "bn4b_branch2b (BatchNorma (None, 2, 2, 256) 1024     res4b_branch2b[0][0]       \n",
      "________________________________________________________________________________\n",
      "activation_26 (Activation (None, 2, 2, 256) 0        bn4b_branch2b[0][0]        \n",
      "________________________________________________________________________________\n",
      "res4b_branch2c (Conv2D)   (None, 2, 2, 1024 263168   activation_26[0][0]        \n",
      "________________________________________________________________________________\n",
      "bn4b_branch2c (BatchNorma (None, 2, 2, 1024 4096     res4b_branch2c[0][0]       \n",
      "________________________________________________________________________________\n",
      "add_8 (Add)               (None, 2, 2, 1024 0        bn4b_branch2c[0][0]        \n",
      "                                                     activation_24[0][0]        \n",
      "________________________________________________________________________________\n",
      "activation_27 (Activation (None, 2, 2, 1024 0        add_8[0][0]                \n",
      "________________________________________________________________________________\n",
      "res4c_branch2a (Conv2D)   (None, 2, 2, 256) 262400   activation_27[0][0]        \n",
      "________________________________________________________________________________\n",
      "bn4c_branch2a (BatchNorma (None, 2, 2, 256) 1024     res4c_branch2a[0][0]       \n",
      "________________________________________________________________________________\n",
      "activation_28 (Activation (None, 2, 2, 256) 0        bn4c_branch2a[0][0]        \n",
      "________________________________________________________________________________\n",
      "res4c_branch2b (Conv2D)   (None, 2, 2, 256) 590080   activation_28[0][0]        \n",
      "________________________________________________________________________________\n",
      "bn4c_branch2b (BatchNorma (None, 2, 2, 256) 1024     res4c_branch2b[0][0]       \n",
      "________________________________________________________________________________\n",
      "activation_29 (Activation (None, 2, 2, 256) 0        bn4c_branch2b[0][0]        \n",
      "________________________________________________________________________________\n",
      "res4c_branch2c (Conv2D)   (None, 2, 2, 1024 263168   activation_29[0][0]        \n",
      "________________________________________________________________________________\n",
      "bn4c_branch2c (BatchNorma (None, 2, 2, 1024 4096     res4c_branch2c[0][0]       \n",
      "________________________________________________________________________________\n",
      "add_9 (Add)               (None, 2, 2, 1024 0        bn4c_branch2c[0][0]        \n",
      "                                                     activation_27[0][0]        \n",
      "________________________________________________________________________________\n",
      "activation_30 (Activation (None, 2, 2, 1024 0        add_9[0][0]                \n",
      "________________________________________________________________________________\n",
      "res4d_branch2a (Conv2D)   (None, 2, 2, 256) 262400   activation_30[0][0]        \n",
      "________________________________________________________________________________\n",
      "bn4d_branch2a (BatchNorma (None, 2, 2, 256) 1024     res4d_branch2a[0][0]       \n",
      "________________________________________________________________________________\n",
      "activation_31 (Activation (None, 2, 2, 256) 0        bn4d_branch2a[0][0]        \n",
      "________________________________________________________________________________\n",
      "res4d_branch2b (Conv2D)   (None, 2, 2, 256) 590080   activation_31[0][0]        \n",
      "________________________________________________________________________________\n",
      "bn4d_branch2b (BatchNorma (None, 2, 2, 256) 1024     res4d_branch2b[0][0]       \n",
      "________________________________________________________________________________\n",
      "activation_32 (Activation (None, 2, 2, 256) 0        bn4d_branch2b[0][0]        \n",
      "________________________________________________________________________________\n",
      "res4d_branch2c (Conv2D)   (None, 2, 2, 1024 263168   activation_32[0][0]        \n",
      "________________________________________________________________________________\n",
      "bn4d_branch2c (BatchNorma (None, 2, 2, 1024 4096     res4d_branch2c[0][0]       \n",
      "________________________________________________________________________________\n",
      "add_10 (Add)              (None, 2, 2, 1024 0        bn4d_branch2c[0][0]        \n",
      "                                                     activation_30[0][0]        \n",
      "________________________________________________________________________________\n",
      "activation_33 (Activation (None, 2, 2, 1024 0        add_10[0][0]               \n",
      "________________________________________________________________________________\n",
      "res4e_branch2a (Conv2D)   (None, 2, 2, 256) 262400   activation_33[0][0]        \n",
      "________________________________________________________________________________\n",
      "bn4e_branch2a (BatchNorma (None, 2, 2, 256) 1024     res4e_branch2a[0][0]       \n",
      "________________________________________________________________________________\n",
      "activation_34 (Activation (None, 2, 2, 256) 0        bn4e_branch2a[0][0]        \n",
      "________________________________________________________________________________\n",
      "res4e_branch2b (Conv2D)   (None, 2, 2, 256) 590080   activation_34[0][0]        \n",
      "________________________________________________________________________________\n",
      "bn4e_branch2b (BatchNorma (None, 2, 2, 256) 1024     res4e_branch2b[0][0]       \n",
      "________________________________________________________________________________\n",
      "activation_35 (Activation (None, 2, 2, 256) 0        bn4e_branch2b[0][0]        \n",
      "________________________________________________________________________________\n",
      "res4e_branch2c (Conv2D)   (None, 2, 2, 1024 263168   activation_35[0][0]        \n",
      "________________________________________________________________________________\n",
      "bn4e_branch2c (BatchNorma (None, 2, 2, 1024 4096     res4e_branch2c[0][0]       \n",
      "________________________________________________________________________________\n",
      "add_11 (Add)              (None, 2, 2, 1024 0        bn4e_branch2c[0][0]        \n",
      "                                                     activation_33[0][0]        \n",
      "________________________________________________________________________________\n",
      "activation_36 (Activation (None, 2, 2, 1024 0        add_11[0][0]               \n",
      "________________________________________________________________________________\n",
      "res4f_branch2a (Conv2D)   (None, 2, 2, 256) 262400   activation_36[0][0]        \n",
      "________________________________________________________________________________\n",
      "bn4f_branch2a (BatchNorma (None, 2, 2, 256) 1024     res4f_branch2a[0][0]       \n",
      "________________________________________________________________________________\n",
      "activation_37 (Activation (None, 2, 2, 256) 0        bn4f_branch2a[0][0]        \n",
      "________________________________________________________________________________\n",
      "res4f_branch2b (Conv2D)   (None, 2, 2, 256) 590080   activation_37[0][0]        \n",
      "________________________________________________________________________________\n",
      "bn4f_branch2b (BatchNorma (None, 2, 2, 256) 1024     res4f_branch2b[0][0]       \n",
      "________________________________________________________________________________\n",
      "activation_38 (Activation (None, 2, 2, 256) 0        bn4f_branch2b[0][0]        \n",
      "________________________________________________________________________________\n",
      "res4f_branch2c (Conv2D)   (None, 2, 2, 1024 263168   activation_38[0][0]        \n",
      "________________________________________________________________________________\n",
      "bn4f_branch2c (BatchNorma (None, 2, 2, 1024 4096     res4f_branch2c[0][0]       \n",
      "________________________________________________________________________________\n",
      "add_12 (Add)              (None, 2, 2, 1024 0        bn4f_branch2c[0][0]        \n",
      "                                                     activation_36[0][0]        \n",
      "________________________________________________________________________________\n",
      "activation_39 (Activation (None, 2, 2, 1024 0        add_12[0][0]               \n",
      "________________________________________________________________________________\n",
      "res5a_branch2a (Conv2D)   (None, 1, 1, 512) 524800   activation_39[0][0]        \n",
      "________________________________________________________________________________\n",
      "bn5a_branch2a (BatchNorma (None, 1, 1, 512) 2048     res5a_branch2a[0][0]       \n",
      "________________________________________________________________________________\n",
      "activation_40 (Activation (None, 1, 1, 512) 0        bn5a_branch2a[0][0]        \n",
      "________________________________________________________________________________\n",
      "res5a_branch2b (Conv2D)   (None, 1, 1, 512) 2359808  activation_40[0][0]        \n",
      "________________________________________________________________________________\n",
      "bn5a_branch2b (BatchNorma (None, 1, 1, 512) 2048     res5a_branch2b[0][0]       \n",
      "________________________________________________________________________________\n",
      "activation_41 (Activation (None, 1, 1, 512) 0        bn5a_branch2b[0][0]        \n",
      "________________________________________________________________________________\n",
      "res5a_branch2c (Conv2D)   (None, 1, 1, 2048 1050624  activation_41[0][0]        \n",
      "________________________________________________________________________________\n",
      "res5a_branch1 (Conv2D)    (None, 1, 1, 2048 2099200  activation_39[0][0]        \n",
      "________________________________________________________________________________\n",
      "bn5a_branch2c (BatchNorma (None, 1, 1, 2048 8192     res5a_branch2c[0][0]       \n",
      "________________________________________________________________________________\n",
      "bn5a_branch1 (BatchNormal (None, 1, 1, 2048 8192     res5a_branch1[0][0]        \n",
      "________________________________________________________________________________\n",
      "add_13 (Add)              (None, 1, 1, 2048 0        bn5a_branch2c[0][0]        \n",
      "                                                     bn5a_branch1[0][0]         \n",
      "________________________________________________________________________________\n",
      "activation_42 (Activation (None, 1, 1, 2048 0        add_13[0][0]               \n",
      "________________________________________________________________________________\n",
      "res5b_branch2a (Conv2D)   (None, 1, 1, 512) 1049088  activation_42[0][0]        \n",
      "________________________________________________________________________________\n",
      "bn5b_branch2a (BatchNorma (None, 1, 1, 512) 2048     res5b_branch2a[0][0]       \n",
      "________________________________________________________________________________\n",
      "activation_43 (Activation (None, 1, 1, 512) 0        bn5b_branch2a[0][0]        \n",
      "________________________________________________________________________________\n",
      "res5b_branch2b (Conv2D)   (None, 1, 1, 512) 2359808  activation_43[0][0]        \n",
      "________________________________________________________________________________\n",
      "bn5b_branch2b (BatchNorma (None, 1, 1, 512) 2048     res5b_branch2b[0][0]       \n",
      "________________________________________________________________________________\n",
      "activation_44 (Activation (None, 1, 1, 512) 0        bn5b_branch2b[0][0]        \n",
      "________________________________________________________________________________\n",
      "res5b_branch2c (Conv2D)   (None, 1, 1, 2048 1050624  activation_44[0][0]        \n",
      "________________________________________________________________________________\n",
      "bn5b_branch2c (BatchNorma (None, 1, 1, 2048 8192     res5b_branch2c[0][0]       \n",
      "________________________________________________________________________________\n",
      "add_14 (Add)              (None, 1, 1, 2048 0        bn5b_branch2c[0][0]        \n",
      "                                                     activation_42[0][0]        \n",
      "________________________________________________________________________________\n",
      "activation_45 (Activation (None, 1, 1, 2048 0        add_14[0][0]               \n",
      "________________________________________________________________________________\n",
      "res5c_branch2a (Conv2D)   (None, 1, 1, 512) 1049088  activation_45[0][0]        \n",
      "________________________________________________________________________________\n",
      "bn5c_branch2a (BatchNorma (None, 1, 1, 512) 2048     res5c_branch2a[0][0]       \n",
      "________________________________________________________________________________\n",
      "activation_46 (Activation (None, 1, 1, 512) 0        bn5c_branch2a[0][0]        \n",
      "________________________________________________________________________________\n",
      "res5c_branch2b (Conv2D)   (None, 1, 1, 512) 2359808  activation_46[0][0]        \n",
      "________________________________________________________________________________\n",
      "bn5c_branch2b (BatchNorma (None, 1, 1, 512) 2048     res5c_branch2b[0][0]       \n",
      "________________________________________________________________________________\n",
      "activation_47 (Activation (None, 1, 1, 512) 0        bn5c_branch2b[0][0]        \n",
      "________________________________________________________________________________\n",
      "res5c_branch2c (Conv2D)   (None, 1, 1, 2048 1050624  activation_47[0][0]        \n",
      "________________________________________________________________________________\n",
      "bn5c_branch2c (BatchNorma (None, 1, 1, 2048 8192     res5c_branch2c[0][0]       \n",
      "________________________________________________________________________________\n",
      "add_15 (Add)              (None, 1, 1, 2048 0        bn5c_branch2c[0][0]        \n",
      "                                                     activation_45[0][0]        \n",
      "________________________________________________________________________________\n",
      "activation_48 (Activation (None, 1, 1, 2048 0        add_15[0][0]               \n",
      "================================================================================\n",
      "Total params: 23,587,712\n",
      "Trainable params: 23,534,592\n",
      "Non-trainable params: 53,120\n",
      "________________________________________________________________________________\n"
     ]
    }
   ],
   "source": [
    "summary(resnet_50_model)"
   ]
  },
  {
   "cell_type": "markdown",
   "metadata": {},
   "source": [
    "Wow! This is a very big model, 23 million parameters with lots of layers. In fact, processing our images through this network takes some time and we also expect the first features learned by the network to be beneficial to our problem so in the next cell we only use the layers up to the layer `activation_6`."
   ]
  },
  {
   "cell_type": "code",
   "execution_count": 25,
   "metadata": {},
   "outputs": [],
   "source": [
    "smaller_resnet_50 <- keras_model(inputs = resnet_50_model$input, \n",
    "                                 outputs = get_layer(resnet_50_model, 'activation_6')$output)"
   ]
  },
  {
   "cell_type": "markdown",
   "metadata": {},
   "source": [
    "Furthermore, we do not want to train those layers. Let's make sure that we do not train all of these layers by freezing the weights."
   ]
  },
  {
   "cell_type": "code",
   "execution_count": 26,
   "metadata": {},
   "outputs": [
    {
     "name": "stdout",
     "output_type": "stream",
     "text": [
      "Model: \"model\"\n",
      "________________________________________________________________________________\n",
      "Layer (type)              Output Shape      Param #  Connected to               \n",
      "================================================================================\n",
      "input_1 (InputLayer)      [(None, 32, 32, 3 0                                   \n",
      "________________________________________________________________________________\n",
      "conv1_pad (ZeroPadding2D) (None, 38, 38, 3) 0        input_1[0][0]              \n",
      "________________________________________________________________________________\n",
      "conv1 (Conv2D)            (None, 16, 16, 64 9472     conv1_pad[0][0]            \n",
      "________________________________________________________________________________\n",
      "bn_conv1 (BatchNormalizat (None, 16, 16, 64 256      conv1[0][0]                \n",
      "________________________________________________________________________________\n",
      "activation (Activation)   (None, 16, 16, 64 0        bn_conv1[0][0]             \n",
      "________________________________________________________________________________\n",
      "pool1_pad (ZeroPadding2D) (None, 18, 18, 64 0        activation[0][0]           \n",
      "________________________________________________________________________________\n",
      "max_pooling2d (MaxPooling (None, 8, 8, 64)  0        pool1_pad[0][0]            \n",
      "________________________________________________________________________________\n",
      "res2a_branch2a (Conv2D)   (None, 8, 8, 64)  4160     max_pooling2d[0][0]        \n",
      "________________________________________________________________________________\n",
      "bn2a_branch2a (BatchNorma (None, 8, 8, 64)  256      res2a_branch2a[0][0]       \n",
      "________________________________________________________________________________\n",
      "activation_1 (Activation) (None, 8, 8, 64)  0        bn2a_branch2a[0][0]        \n",
      "________________________________________________________________________________\n",
      "res2a_branch2b (Conv2D)   (None, 8, 8, 64)  36928    activation_1[0][0]         \n",
      "________________________________________________________________________________\n",
      "bn2a_branch2b (BatchNorma (None, 8, 8, 64)  256      res2a_branch2b[0][0]       \n",
      "________________________________________________________________________________\n",
      "activation_2 (Activation) (None, 8, 8, 64)  0        bn2a_branch2b[0][0]        \n",
      "________________________________________________________________________________\n",
      "res2a_branch2c (Conv2D)   (None, 8, 8, 256) 16640    activation_2[0][0]         \n",
      "________________________________________________________________________________\n",
      "res2a_branch1 (Conv2D)    (None, 8, 8, 256) 16640    max_pooling2d[0][0]        \n",
      "________________________________________________________________________________\n",
      "bn2a_branch2c (BatchNorma (None, 8, 8, 256) 1024     res2a_branch2c[0][0]       \n",
      "________________________________________________________________________________\n",
      "bn2a_branch1 (BatchNormal (None, 8, 8, 256) 1024     res2a_branch1[0][0]        \n",
      "________________________________________________________________________________\n",
      "add (Add)                 (None, 8, 8, 256) 0        bn2a_branch2c[0][0]        \n",
      "                                                     bn2a_branch1[0][0]         \n",
      "________________________________________________________________________________\n",
      "activation_3 (Activation) (None, 8, 8, 256) 0        add[0][0]                  \n",
      "________________________________________________________________________________\n",
      "res2b_branch2a (Conv2D)   (None, 8, 8, 64)  16448    activation_3[0][0]         \n",
      "________________________________________________________________________________\n",
      "bn2b_branch2a (BatchNorma (None, 8, 8, 64)  256      res2b_branch2a[0][0]       \n",
      "________________________________________________________________________________\n",
      "activation_4 (Activation) (None, 8, 8, 64)  0        bn2b_branch2a[0][0]        \n",
      "________________________________________________________________________________\n",
      "res2b_branch2b (Conv2D)   (None, 8, 8, 64)  36928    activation_4[0][0]         \n",
      "________________________________________________________________________________\n",
      "bn2b_branch2b (BatchNorma (None, 8, 8, 64)  256      res2b_branch2b[0][0]       \n",
      "________________________________________________________________________________\n",
      "activation_5 (Activation) (None, 8, 8, 64)  0        bn2b_branch2b[0][0]        \n",
      "________________________________________________________________________________\n",
      "res2b_branch2c (Conv2D)   (None, 8, 8, 256) 16640    activation_5[0][0]         \n",
      "________________________________________________________________________________\n",
      "bn2b_branch2c (BatchNorma (None, 8, 8, 256) 1024     res2b_branch2c[0][0]       \n",
      "________________________________________________________________________________\n",
      "add_1 (Add)               (None, 8, 8, 256) 0        bn2b_branch2c[0][0]        \n",
      "                                                     activation_3[0][0]         \n",
      "________________________________________________________________________________\n",
      "activation_6 (Activation) (None, 8, 8, 256) 0        add_1[0][0]                \n",
      "================================================================================\n",
      "Total params: 158,208\n",
      "Trainable params: 0\n",
      "Non-trainable params: 158,208\n",
      "________________________________________________________________________________\n"
     ]
    }
   ],
   "source": [
    "freeze_weights(smaller_resnet_50)\n",
    "summary(smaller_resnet_50)"
   ]
  },
  {
   "cell_type": "markdown",
   "metadata": {},
   "source": [
    "Now we can see that there are no trainable parameters in this model. Good!"
   ]
  },
  {
   "cell_type": "markdown",
   "metadata": {},
   "source": [
    "## 2.2 Our model\n",
    "Let us add a dense layer and our own softmax layer to the `smaller_resnet_50` model and start training it.\n",
    "\n",
    "Take notice of\n",
    "- The first \"layer\" in our network is the `smaller_resnet_50` model. It takes the initial input and outputs some features.\n",
    "- The small learning rate. A small learning rate is very common when training with pretrained networks.\n",
    "- Long training time."
   ]
  },
  {
   "cell_type": "code",
   "execution_count": 30,
   "metadata": {},
   "outputs": [],
   "source": [
    "x_train <- imagenet_preprocess_input(x_train_resized, mode='tf')\n",
    "x_test <- imagenet_preprocess_input(x_test_resized, mode='tf')"
   ]
  },
  {
   "cell_type": "code",
   "execution_count": 36,
   "metadata": {},
   "outputs": [
    {
     "name": "stdout",
     "output_type": "stream",
     "text": [
      "Model: \"sequential_6\"\n",
      "________________________________________________________________________________\n",
      "Layer (type)                        Output Shape                    Param #     \n",
      "================================================================================\n",
      "model (Model)                       (None, 8, 8, 256)               158208      \n",
      "________________________________________________________________________________\n",
      "batch_normalization_6 (BatchNormali (None, 8, 8, 256)               1024        \n",
      "________________________________________________________________________________\n",
      "flatten_3 (Flatten)                 (None, 16384)                   0           \n",
      "________________________________________________________________________________\n",
      "dense1 (Dense)                      (None, 10)                      163850      \n",
      "================================================================================\n",
      "Total params: 323,082\n",
      "Trainable params: 164,362\n",
      "Non-trainable params: 158,720\n",
      "________________________________________________________________________________\n",
      "Epoch 5 - loss: 0.2071848, acc.: 0.9322292, val loss: 2.62665552393595, val acc.: 0.637916684150696  \r"
     ]
    },
    {
     "data": {
      "image/png": "[encoded data removed]",
      "text/plain": [
       "plot without title"
      ]
     },
     "metadata": {},
     "output_type": "display_data"
    }
   ],
   "source": [
    "model <- keras_model_sequential() %>%\n",
    "    smaller_resnet_50() %>%\n",
    "    layer_batch_normalization() %>%\n",
    "    layer_flatten() %>%\n",
    "    layer_dense(units = 10, activation = \"softmax\", name = 'dense1')\n",
    "\n",
    "cat(summary(model))\n",
    "\n",
    "model %>% compile(\n",
    "    optimizer = optimizer_adam(lr = 0.001),\n",
    "    loss = \"categorical_crossentropy\",\n",
    "    metric = \"acc\"\n",
    ")\n",
    "\n",
    "history <- model %>% fit(\n",
    "    x = x_train,\n",
    "    y = y_train,\n",
    "    validation_split=0.2,\n",
    "    epochs = 5,\n",
    "    batch_size = 512,\n",
    "    callbacks=list(Progress$new())\n",
    ")\n",
    "\n",
    "plot(history)"
   ]
  },
  {
   "cell_type": "markdown",
   "metadata": {},
   "source": [
    "From the plot we can see that our model is fairly expressive and we could maybe continue to train it and seen some performance improvements but we leave this is a bonus exercise."
   ]
  },
  {
   "cell_type": "code",
   "execution_count": 37,
   "metadata": {},
   "outputs": [
    {
     "data": {
      "text/html": [
       "<dl>\n",
       "\t<dt>$loss</dt>\n",
       "\t\t<dd>2.59368507003784</dd>\n",
       "\t<dt>$acc</dt>\n",
       "\t\t<dd>0.645099997520447</dd>\n",
       "</dl>\n"
      ],
      "text/latex": [
       "\\begin{description}\n",
       "\\item[\\$loss] 2.59368507003784\n",
       "\\item[\\$acc] 0.645099997520447\n",
       "\\end{description}\n"
      ],
      "text/markdown": [
       "$loss\n",
       ":   2.59368507003784\n",
       "$acc\n",
       ":   0.645099997520447\n",
       "\n",
       "\n"
      ],
      "text/plain": [
       "$loss\n",
       "[1] 2.593685\n",
       "\n",
       "$acc\n",
       "[1] 0.6451\n"
      ]
     },
     "metadata": {},
     "output_type": "display_data"
    }
   ],
   "source": [
    "model %>% evaluate(x_test, y_test)"
   ]
  },
  {
   "cell_type": "markdown",
   "metadata": {},
   "source": [
    "In this notebook we saw how to use a pretrained CNN and how we could add our layers to the model so that we can benefit from the generic features learned by the model. Some notes about this notebook.\n",
    "- Our images are only grayscale, but the model assumed colors. We can expect this to have some negative (or at least wasted computation) on our performance.\n",
    "- We needed to resize our images in order for them to fit. We can also expect this to have negative impact on performance."
   ]
  },
  {
   "cell_type": "markdown",
   "metadata": {},
   "source": [
    "## Bonus Excercise\n",
    "Try improving the model above. Consider the options below\n",
    "- Adding more layers from the ResNet50 model\n",
    "- Adding dropout.\n",
    "- Adding more dense layers/more dense units."
   ]
  },
  {
   "cell_type": "code",
   "execution_count": null,
   "metadata": {},
   "outputs": [],
   "source": [
    "smaller_resnet_50 <- keras_model(inputs = resnet_50_model$input, \n",
    "                                 outputs = get_layer(resnet_50_model, 'activation_48')$output)\n",
    "freeze_weights(smaller_resnet_50)\n",
    "model <- keras_model_sequential() %>%\n",
    "    smaller_resnet_50 %>%\n",
    "    layer_dropout(0.2) %>%\n",
    "    layer_flatten() %>%\n",
    "    layer_dense(units = 32, activation = \"relu\") %>%\n",
    "    layer_dropout(0.2) %>%\n",
    "    layer_dense(units = 10, activation = \"softmax\")\n",
    "\n",
    "cat(summary(model))\n",
    "\n",
    "model %>% compile(\n",
    "    optimizer = optimizer_adam(lr = 0.0001),\n",
    "    loss = \"categorical_crossentropy\",\n",
    "    metric = \"acc\"\n",
    ")\n",
    "\n",
    "history <- model %>% fit(\n",
    "    x = x_train,\n",
    "    y = y_train,\n",
    "    validation_split = 0.2,\n",
    "    epochs = 20,\n",
    "    batch_size = 128,\n",
    "    callbacks=list(Progress$new())\n",
    ")\n",
    "\n",
    "plot(history)"
   ]
  }
 ],
 "metadata": {
  "kernelspec": {
   "display_name": "R",
   "language": "R",
   "name": "ir"
  },
  "language_info": {
   "codemirror_mode": "r",
   "file_extension": ".r",
   "mimetype": "text/x-r-source",
   "name": "R",
   "pygments_lexer": "r",
   "version": "3.5.1"
  }
 },
 "nbformat": 4,
 "nbformat_minor": 2
}
