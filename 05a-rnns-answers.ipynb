{
 "cells": [
  {
   "cell_type": "markdown",
   "metadata": {},
   "source": [
    "# Sequential data modelling\n",
    "We have added a `?` in the exercises where you need to fill in.\n",
    "\n",
    "In this notebook we will use RNNs to predict future temperature using the Jena weather dataset. We will start by using a SimpleRNN and then see whether we can improve our predictions using a GRU.\n",
    "\n",
    "Before the modelling step we need to do our usual preprocessing. This time you will see a few things you have not seen before.\n",
    "\n",
    "1. We will resample the data. The data consists of measurements every 10 minutes, we will instead select a datapoint every hour using the `seq()` function to select our data. We do this to make our training a little faster and have a somewhat meaningful problem.\n",
    "1. We will see a different way to create sequences from a dataset. This approach is more dynamic than the reshape approach as it can produce more sequences than the reshape approach. Hopefully, it is also more intuitive.\n",
    "1. We will not split our training data into a validation set, as we will leave that splitting up to Keras when we try to fit our data. Thus, we only split into train/test.\n",
    "\n",
    "In short;\n",
    "1. Load data and some cleaning.\n",
    "1. Sub-sample data for every hour.\n",
    "1. Create sequences.\n",
    "1. Split data.\n",
    "1. Scale data.\n",
    "1. Baseline SimpleRNN\n",
    "1. GRU RNN\n",
    "1. LSTM RNN"
   ]
  },
  {
   "cell_type": "code",
   "execution_count": 53,
   "metadata": {},
   "outputs": [],
   "source": [
    "library(keras)\n",
    "library(ggplot2)\n",
    "source(\"05-helpers.R\")\n",
    "\n",
    "use_multi_cpu(2L)\n",
    "# This specifies the number of threads TensorFlow will use. You can change this number, \n",
    "# but it depends on the model, what the optimal number of threads might be.\n",
    "# In my experiments 2 threads performed quite well for simpleRNNs.\n",
    "# Using more than 2 threads increased communication overhead between CPUs and decreased the training speed.\n",
    "# To change this value simply set the value which you want and then -\n",
    "# click \"Kernel\" -> \"Shutdown\" and then \"Kernel\" -> \"Restart\".\n",
    "# If you do not shutdown the kernel, the change will not take effect."
   ]
  },
  {
   "cell_type": "markdown",
   "metadata": {},
   "source": [
    "## 1. Load and clean data"
   ]
  },
  {
   "cell_type": "code",
   "execution_count": 4,
   "metadata": {},
   "outputs": [
    {
     "name": "stderr",
     "output_type": "stream",
     "text": [
      "Parsed with column specification:\n",
      "cols(\n",
      "  `Date Time` = col_character(),\n",
      "  `p (mbar)` = col_double(),\n",
      "  `T (degC)` = col_double(),\n",
      "  `Tpot (K)` = col_double(),\n",
      "  `Tdew (degC)` = col_double(),\n",
      "  `rh (%)` = col_double(),\n",
      "  `VPmax (mbar)` = col_double(),\n",
      "  `VPact (mbar)` = col_double(),\n",
      "  `VPdef (mbar)` = col_double(),\n",
      "  `sh (g/kg)` = col_double(),\n",
      "  `H2OC (mmol/mol)` = col_double(),\n",
      "  `rho (g/m**3)` = col_double(),\n",
      "  `wv (m/s)` = col_double(),\n",
      "  `max. wv (m/s)` = col_double(),\n",
      "  `wd (deg)` = col_double()\n",
      ")\n"
     ]
    }
   ],
   "source": [
    "raw_data <- load_jena_dataset()"
   ]
  },
  {
   "cell_type": "markdown",
   "metadata": {},
   "source": [
    "## Excercise 1\n",
    "Remove the `Date Time` feature from `raw_data` and store the result in a variable called `data`. Verify your work using the `dim()` function. The data should have dimension `(420551, 14)`.\n",
    "\n",
    "**Hint** `Date Time` is the first column in `raw_data`."
   ]
  },
  {
   "cell_type": "code",
   "execution_count": null,
   "metadata": {},
   "outputs": [],
   "source": []
  },
  {
   "cell_type": "code",
   "execution_count": 7,
   "metadata": {},
   "outputs": [
    {
     "data": {
      "text/html": [
       "<ol class=list-inline>\n",
       "\t<li>420551</li>\n",
       "\t<li>14</li>\n",
       "</ol>\n"
      ],
      "text/latex": [
       "\\begin{enumerate*}\n",
       "\\item 420551\n",
       "\\item 14\n",
       "\\end{enumerate*}\n"
      ],
      "text/markdown": [
       "1. 420551\n",
       "2. 14\n",
       "\n",
       "\n"
      ],
      "text/plain": [
       "[1] 420551     14"
      ]
     },
     "metadata": {},
     "output_type": "display_data"
    }
   ],
   "source": [
    "data <- raw_data[,-1]\n",
    "dim(data)"
   ]
  },
  {
   "cell_type": "markdown",
   "metadata": {},
   "source": [
    "## 2. Sub-sampling\n",
    "Let us now sub-sample our data by selecting every 6th data point. This will leave us with a data point for every hour instead of every 10 minutes.\n",
    "\n",
    "To do this we will use slicing in conjunction with the [`seq()`](https://www.rdocumentation.org/packages/base/versions/3.5.3/topics/seq) to specify the indices we want to select. To see how it works, run the cell below."
   ]
  },
  {
   "cell_type": "code",
   "execution_count": 8,
   "metadata": {},
   "outputs": [
    {
     "data": {
      "text/html": [
       "<ol class=list-inline>\n",
       "\t<li>1</li>\n",
       "\t<li>3</li>\n",
       "\t<li>5</li>\n",
       "</ol>\n"
      ],
      "text/latex": [
       "\\begin{enumerate*}\n",
       "\\item 1\n",
       "\\item 3\n",
       "\\item 5\n",
       "\\end{enumerate*}\n"
      ],
      "text/markdown": [
       "1. 1\n",
       "2. 3\n",
       "3. 5\n",
       "\n",
       "\n"
      ],
      "text/plain": [
       "[1] 1 3 5"
      ]
     },
     "metadata": {},
     "output_type": "display_data"
    },
    {
     "data": {
      "text/html": [
       "<ol class=list-inline>\n",
       "\t<li>2</li>\n",
       "\t<li>4</li>\n",
       "\t<li>6</li>\n",
       "</ol>\n"
      ],
      "text/latex": [
       "\\begin{enumerate*}\n",
       "\\item 2\n",
       "\\item 4\n",
       "\\item 6\n",
       "\\end{enumerate*}\n"
      ],
      "text/markdown": [
       "1. 2\n",
       "2. 4\n",
       "3. 6\n",
       "\n",
       "\n"
      ],
      "text/plain": [
       "[1] 2 4 6"
      ]
     },
     "metadata": {},
     "output_type": "display_data"
    }
   ],
   "source": [
    "vec = c(1,2,3,4,5,6)\n",
    "odds = vec[seq(1, length(vec), 2)]\n",
    "odds\n",
    "evens = vec[seq(2, length(vec), 2)]\n",
    "evens"
   ]
  },
  {
   "cell_type": "markdown",
   "metadata": {},
   "source": [
    "## Exercise 2\n",
    "Select every 6th datapoint from the dataset using the `seq()` function. Save the resampled data in a variable called `data_hourly`. Verify your work using the `dim()` function."
   ]
  },
  {
   "cell_type": "code",
   "execution_count": null,
   "metadata": {},
   "outputs": [],
   "source": []
  },
  {
   "cell_type": "code",
   "execution_count": 9,
   "metadata": {},
   "outputs": [
    {
     "data": {
      "text/html": [
       "<ol class=list-inline>\n",
       "\t<li>420551</li>\n",
       "\t<li>14</li>\n",
       "</ol>\n"
      ],
      "text/latex": [
       "\\begin{enumerate*}\n",
       "\\item 420551\n",
       "\\item 14\n",
       "\\end{enumerate*}\n"
      ],
      "text/markdown": [
       "1. 420551\n",
       "2. 14\n",
       "\n",
       "\n"
      ],
      "text/plain": [
       "[1] 420551     14"
      ]
     },
     "metadata": {},
     "output_type": "display_data"
    },
    {
     "data": {
      "text/html": [
       "<ol class=list-inline>\n",
       "\t<li>70092</li>\n",
       "\t<li>14</li>\n",
       "</ol>\n"
      ],
      "text/latex": [
       "\\begin{enumerate*}\n",
       "\\item 70092\n",
       "\\item 14\n",
       "\\end{enumerate*}\n"
      ],
      "text/markdown": [
       "1. 70092\n",
       "2. 14\n",
       "\n",
       "\n"
      ],
      "text/plain": [
       "[1] 70092    14"
      ]
     },
     "metadata": {},
     "output_type": "display_data"
    }
   ],
   "source": [
    "dim(data)\n",
    "data_hourly = data[seq(1, nrow(data), 6),]\n",
    "dim(data_hourly)"
   ]
  },
  {
   "cell_type": "markdown",
   "metadata": {},
   "source": [
    "Like last week we want to predict the temperature, `T (degC)`. Let us plot that feature and see how the temperature varies over those years using the resampled dataset."
   ]
  },
  {
   "cell_type": "code",
   "execution_count": 4,
   "metadata": {},
   "outputs": [
    {
     "data": {
      "image/png": "[encoded data removed]",
      "text/plain": [
       "plot without title"
      ]
     },
     "metadata": {},
     "output_type": "display_data"
    }
   ],
   "source": [
    "ggplot(data_hourly, aes(x = 1:nrow(data_hourly),y=`T (degC)`)) + geom_line()"
   ]
  },
  {
   "cell_type": "markdown",
   "metadata": {},
   "source": [
    "## 3. Creating sequences\n",
    "Now we will create sequences from the data using a function. The function accepts a number of parameters and returns a list containing two objects, the sequcences (`x`) and the targets (`y`).\n",
    "\n",
    "Let us briefly explain what the parameters do. First you specify the `data` (the function expects 2D tensor / matrix) which is used to generate the sequences. The `sequence_length` is the length of the sequence to generate, each sequence will have that length. The `target_shift` is the number of time-steps between the end of each sequence until the target, the time-step we want to predict. The `step_shift` is the number of time-steps between the start of each sequence. The function will try to use as many datapoints as possible given the parameters to create the sequences.\n",
    "\n",
    "Run the cell below to define the function and continue reading below. There is no need to read through the function and try to understand it. We just need to know how to use it."
   ]
  },
  {
   "cell_type": "code",
   "execution_count": 14,
   "metadata": {},
   "outputs": [],
   "source": [
    "create_sequences_x_y <- function(data, sequence_length, target_shift, step_shift) {\n",
    "    data <- as.matrix(data)\n",
    "    start_index = 1\n",
    "    end_index = dim(data)[1]\n",
    "    # We assume that the input is in legal ranges\n",
    "    elements = end_index - start_index + 1\n",
    "    # our targets are a single data point\n",
    "    target_len = 1\n",
    "    single_sequence_length = sequence_length + target_shift + target_len\n",
    "    number_of_sequences = floor((elements - single_sequence_length)/step_shift) + 1\n",
    "    \n",
    "    # Initialise variables we need in the loop\n",
    "    # We store the index which we should start with in each loop in current_start_index\n",
    "    current_start_index = start_index\n",
    "    sequence_x <- array(0, dim = c(number_of_sequences, sequence_length, dim(data)[2]))\n",
    "    sequence_y <- array(0, dim = c(number_of_sequences, dim(data)[2]))\n",
    "    for (sequence_index in 1:number_of_sequences) {\n",
    "        # We get the current sequence data\n",
    "        sequence_x[sequence_index,,] <- data[current_start_index:(current_start_index+sequence_length-1),]\n",
    "        sequence_y[sequence_index,] <- data[(current_start_index+sequence_length+target_shift):(current_start_index+sequence_length+target_shift+target_len-1),]\n",
    "        # We update our next start\n",
    "        current_start_index <- current_start_index + step_shift\n",
    "    }\n",
    "    list(x = sequence_x, y = sequence_y)\n",
    "}"
   ]
  },
  {
   "cell_type": "markdown",
   "metadata": {},
   "source": [
    "## Exercise 3.1\n",
    "To get a clearer idea of how this function works. Take the first 7 elements from `data_hourly` and pass it as `data` to the function. Set the `sequence_length` to 3, `target_shift` to 1 and `step_shift` to 1. The function returns a list which has two objects, `x` and `y`. Check the dimensions of `x` and `y` and see if they make sense."
   ]
  },
  {
   "cell_type": "code",
   "execution_count": null,
   "metadata": {},
   "outputs": [],
   "source": [
    "sequence_test_data <- create_sequences_x_y(data = ?, sequence_length = ?, target_shift = ?, step_shift = ?)\n"
   ]
  },
  {
   "cell_type": "code",
   "execution_count": 15,
   "metadata": {},
   "outputs": [
    {
     "data": {
      "text/html": [
       "<ol class=list-inline>\n",
       "\t<li>3</li>\n",
       "\t<li>3</li>\n",
       "\t<li>14</li>\n",
       "</ol>\n"
      ],
      "text/latex": [
       "\\begin{enumerate*}\n",
       "\\item 3\n",
       "\\item 3\n",
       "\\item 14\n",
       "\\end{enumerate*}\n"
      ],
      "text/markdown": [
       "1. 3\n",
       "2. 3\n",
       "3. 14\n",
       "\n",
       "\n"
      ],
      "text/plain": [
       "[1]  3  3 14"
      ]
     },
     "metadata": {},
     "output_type": "display_data"
    },
    {
     "data": {
      "text/html": [
       "<table>\n",
       "<tbody>\n",
       "\t<tr><td>996.52 </td><td>-8.02  </td><td>265.40 </td><td>-8.9   </td><td>93.3   </td><td>3.33   </td><td>3.11   </td><td>0.22   </td><td>1.94   </td><td>3.12   </td><td>1307.75</td><td>1.03   </td><td>1.75   </td><td>152.3  </td></tr>\n",
       "\t<tr><td>996.50 </td><td>-7.62  </td><td>265.81 </td><td>-8.3   </td><td>94.8   </td><td>3.44   </td><td>3.26   </td><td>0.18   </td><td>2.04   </td><td>3.27   </td><td>1305.68</td><td>0.18   </td><td>0.63   </td><td>166.5  </td></tr>\n",
       "\t<tr><td>996.63 </td><td>-8.85  </td><td>264.57 </td><td>-9.7   </td><td>93.5   </td><td>3.12   </td><td>2.92   </td><td>0.20   </td><td>1.82   </td><td>2.93   </td><td>1312.11</td><td>0.16   </td><td>0.50   </td><td>158.3  </td></tr>\n",
       "</tbody>\n",
       "</table>\n"
      ],
      "text/latex": [
       "\\begin{tabular}{llllllllllllll}\n",
       "\t 996.52  & -8.02   & 265.40  & -8.9    & 93.3    & 3.33    & 3.11    & 0.22    & 1.94    & 3.12    & 1307.75 & 1.03    & 1.75    & 152.3  \\\\\n",
       "\t 996.50  & -7.62   & 265.81  & -8.3    & 94.8    & 3.44    & 3.26    & 0.18    & 2.04    & 3.27    & 1305.68 & 0.18    & 0.63    & 166.5  \\\\\n",
       "\t 996.63  & -8.85   & 264.57  & -9.7    & 93.5    & 3.12    & 2.92    & 0.20    & 1.82    & 2.93    & 1312.11 & 0.16    & 0.50    & 158.3  \\\\\n",
       "\\end{tabular}\n"
      ],
      "text/markdown": [
       "\n",
       "| 996.52  | -8.02   | 265.40  | -8.9    | 93.3    | 3.33    | 3.11    | 0.22    | 1.94    | 3.12    | 1307.75 | 1.03    | 1.75    | 152.3   |\n",
       "| 996.50  | -7.62   | 265.81  | -8.3    | 94.8    | 3.44    | 3.26    | 0.18    | 2.04    | 3.27    | 1305.68 | 0.18    | 0.63    | 166.5   |\n",
       "| 996.63  | -8.85   | 264.57  | -9.7    | 93.5    | 3.12    | 2.92    | 0.20    | 1.82    | 2.93    | 1312.11 | 0.16    | 0.50    | 158.3   |\n",
       "\n"
      ],
      "text/plain": [
       "     [,1]   [,2]  [,3]   [,4] [,5] [,6] [,7] [,8] [,9] [,10] [,11]   [,12]\n",
       "[1,] 996.52 -8.02 265.40 -8.9 93.3 3.33 3.11 0.22 1.94 3.12  1307.75 1.03 \n",
       "[2,] 996.50 -7.62 265.81 -8.3 94.8 3.44 3.26 0.18 2.04 3.27  1305.68 0.18 \n",
       "[3,] 996.63 -8.85 264.57 -9.7 93.5 3.12 2.92 0.20 1.82 2.93  1312.11 0.16 \n",
       "     [,13] [,14]\n",
       "[1,] 1.75  152.3\n",
       "[2,] 0.63  166.5\n",
       "[3,] 0.50  158.3"
      ]
     },
     "metadata": {},
     "output_type": "display_data"
    },
    {
     "data": {
      "text/html": [
       "<table>\n",
       "<tbody>\n",
       "\t<tr><td>996.50 </td><td>-7.62  </td><td>265.81 </td><td>-8.30  </td><td>94.8   </td><td>3.44   </td><td>3.26   </td><td>0.18   </td><td>2.04   </td><td>3.27   </td><td>1305.68</td><td>0.18   </td><td>0.63   </td><td>166.5  </td></tr>\n",
       "\t<tr><td>996.63 </td><td>-8.85  </td><td>264.57 </td><td>-9.70  </td><td>93.5   </td><td>3.12   </td><td>2.92   </td><td>0.20   </td><td>1.82   </td><td>2.93   </td><td>1312.11</td><td>0.16   </td><td>0.50   </td><td>158.3  </td></tr>\n",
       "\t<tr><td>996.87 </td><td>-8.84  </td><td>264.56 </td><td>-9.69  </td><td>93.5   </td><td>3.13   </td><td>2.92   </td><td>0.20   </td><td>1.83   </td><td>2.93   </td><td>1312.37</td><td>0.07   </td><td>0.25   </td><td>129.3  </td></tr>\n",
       "</tbody>\n",
       "</table>\n"
      ],
      "text/latex": [
       "\\begin{tabular}{llllllllllllll}\n",
       "\t 996.50  & -7.62   & 265.81  & -8.30   & 94.8    & 3.44    & 3.26    & 0.18    & 2.04    & 3.27    & 1305.68 & 0.18    & 0.63    & 166.5  \\\\\n",
       "\t 996.63  & -8.85   & 264.57  & -9.70   & 93.5    & 3.12    & 2.92    & 0.20    & 1.82    & 2.93    & 1312.11 & 0.16    & 0.50    & 158.3  \\\\\n",
       "\t 996.87  & -8.84   & 264.56  & -9.69   & 93.5    & 3.13    & 2.92    & 0.20    & 1.83    & 2.93    & 1312.37 & 0.07    & 0.25    & 129.3  \\\\\n",
       "\\end{tabular}\n"
      ],
      "text/markdown": [
       "\n",
       "| 996.50  | -7.62   | 265.81  | -8.30   | 94.8    | 3.44    | 3.26    | 0.18    | 2.04    | 3.27    | 1305.68 | 0.18    | 0.63    | 166.5   |\n",
       "| 996.63  | -8.85   | 264.57  | -9.70   | 93.5    | 3.12    | 2.92    | 0.20    | 1.82    | 2.93    | 1312.11 | 0.16    | 0.50    | 158.3   |\n",
       "| 996.87  | -8.84   | 264.56  | -9.69   | 93.5    | 3.13    | 2.92    | 0.20    | 1.83    | 2.93    | 1312.37 | 0.07    | 0.25    | 129.3   |\n",
       "\n"
      ],
      "text/plain": [
       "     [,1]   [,2]  [,3]   [,4]  [,5] [,6] [,7] [,8] [,9] [,10] [,11]   [,12]\n",
       "[1,] 996.50 -7.62 265.81 -8.30 94.8 3.44 3.26 0.18 2.04 3.27  1305.68 0.18 \n",
       "[2,] 996.63 -8.85 264.57 -9.70 93.5 3.12 2.92 0.20 1.82 2.93  1312.11 0.16 \n",
       "[3,] 996.87 -8.84 264.56 -9.69 93.5 3.13 2.92 0.20 1.83 2.93  1312.37 0.07 \n",
       "     [,13] [,14]\n",
       "[1,] 0.63  166.5\n",
       "[2,] 0.50  158.3\n",
       "[3,] 0.25  129.3"
      ]
     },
     "metadata": {},
     "output_type": "display_data"
    },
    {
     "data": {
      "text/html": [
       "<table>\n",
       "<tbody>\n",
       "\t<tr><td>996.63 </td><td>-8.85  </td><td>264.57 </td><td> -9.70 </td><td>93.5   </td><td>3.12   </td><td>2.92   </td><td>0.20   </td><td>1.82   </td><td>2.93   </td><td>1312.11</td><td>0.16   </td><td>0.50   </td><td>158.3  </td></tr>\n",
       "\t<tr><td>996.87 </td><td>-8.84  </td><td>264.56 </td><td> -9.69 </td><td>93.5   </td><td>3.13   </td><td>2.92   </td><td>0.20   </td><td>1.83   </td><td>2.93   </td><td>1312.37</td><td>0.07   </td><td>0.25   </td><td>129.3  </td></tr>\n",
       "\t<tr><td>997.05 </td><td>-9.23  </td><td>264.15 </td><td>-10.25 </td><td>92.2   </td><td>3.03   </td><td>2.79   </td><td>0.24   </td><td>1.74   </td><td>2.80   </td><td>1314.62</td><td>0.10   </td><td>0.38   </td><td>203.9  </td></tr>\n",
       "</tbody>\n",
       "</table>\n"
      ],
      "text/latex": [
       "\\begin{tabular}{llllllllllllll}\n",
       "\t 996.63  & -8.85   & 264.57  &  -9.70  & 93.5    & 3.12    & 2.92    & 0.20    & 1.82    & 2.93    & 1312.11 & 0.16    & 0.50    & 158.3  \\\\\n",
       "\t 996.87  & -8.84   & 264.56  &  -9.69  & 93.5    & 3.13    & 2.92    & 0.20    & 1.83    & 2.93    & 1312.37 & 0.07    & 0.25    & 129.3  \\\\\n",
       "\t 997.05  & -9.23   & 264.15  & -10.25  & 92.2    & 3.03    & 2.79    & 0.24    & 1.74    & 2.80    & 1314.62 & 0.10    & 0.38    & 203.9  \\\\\n",
       "\\end{tabular}\n"
      ],
      "text/markdown": [
       "\n",
       "| 996.63  | -8.85   | 264.57  |  -9.70  | 93.5    | 3.12    | 2.92    | 0.20    | 1.82    | 2.93    | 1312.11 | 0.16    | 0.50    | 158.3   |\n",
       "| 996.87  | -8.84   | 264.56  |  -9.69  | 93.5    | 3.13    | 2.92    | 0.20    | 1.83    | 2.93    | 1312.37 | 0.07    | 0.25    | 129.3   |\n",
       "| 997.05  | -9.23   | 264.15  | -10.25  | 92.2    | 3.03    | 2.79    | 0.24    | 1.74    | 2.80    | 1314.62 | 0.10    | 0.38    | 203.9   |\n",
       "\n"
      ],
      "text/plain": [
       "     [,1]   [,2]  [,3]   [,4]   [,5] [,6] [,7] [,8] [,9] [,10] [,11]   [,12]\n",
       "[1,] 996.63 -8.85 264.57  -9.70 93.5 3.12 2.92 0.20 1.82 2.93  1312.11 0.16 \n",
       "[2,] 996.87 -8.84 264.56  -9.69 93.5 3.13 2.92 0.20 1.83 2.93  1312.37 0.07 \n",
       "[3,] 997.05 -9.23 264.15 -10.25 92.2 3.03 2.79 0.24 1.74 2.80  1314.62 0.10 \n",
       "     [,13] [,14]\n",
       "[1,] 0.50  158.3\n",
       "[2,] 0.25  129.3\n",
       "[3,] 0.38  203.9"
      ]
     },
     "metadata": {},
     "output_type": "display_data"
    },
    {
     "data": {
      "text/html": [
       "<ol class=list-inline>\n",
       "\t<li>3</li>\n",
       "\t<li>14</li>\n",
       "</ol>\n"
      ],
      "text/latex": [
       "\\begin{enumerate*}\n",
       "\\item 3\n",
       "\\item 14\n",
       "\\end{enumerate*}\n"
      ],
      "text/markdown": [
       "1. 3\n",
       "2. 14\n",
       "\n",
       "\n"
      ],
      "text/plain": [
       "[1]  3 14"
      ]
     },
     "metadata": {},
     "output_type": "display_data"
    },
    {
     "data": {
      "text/html": [
       "<ol class=list-inline>\n",
       "\t<li>997.05</li>\n",
       "\t<li>-9.23</li>\n",
       "\t<li>264.15</li>\n",
       "\t<li>-10.25</li>\n",
       "\t<li>92.2</li>\n",
       "\t<li>3.03</li>\n",
       "\t<li>2.79</li>\n",
       "\t<li>0.24</li>\n",
       "\t<li>1.74</li>\n",
       "\t<li>2.8</li>\n",
       "\t<li>1314.62</li>\n",
       "\t<li>0.1</li>\n",
       "\t<li>0.38</li>\n",
       "\t<li>203.9</li>\n",
       "</ol>\n"
      ],
      "text/latex": [
       "\\begin{enumerate*}\n",
       "\\item 997.05\n",
       "\\item -9.23\n",
       "\\item 264.15\n",
       "\\item -10.25\n",
       "\\item 92.2\n",
       "\\item 3.03\n",
       "\\item 2.79\n",
       "\\item 0.24\n",
       "\\item 1.74\n",
       "\\item 2.8\n",
       "\\item 1314.62\n",
       "\\item 0.1\n",
       "\\item 0.38\n",
       "\\item 203.9\n",
       "\\end{enumerate*}\n"
      ],
      "text/markdown": [
       "1. 997.05\n",
       "2. -9.23\n",
       "3. 264.15\n",
       "4. -10.25\n",
       "5. 92.2\n",
       "6. 3.03\n",
       "7. 2.79\n",
       "8. 0.24\n",
       "9. 1.74\n",
       "10. 2.8\n",
       "11. 1314.62\n",
       "12. 0.1\n",
       "13. 0.38\n",
       "14. 203.9\n",
       "\n",
       "\n"
      ],
      "text/plain": [
       " [1]  997.05   -9.23  264.15  -10.25   92.20    3.03    2.79    0.24    1.74\n",
       "[10]    2.80 1314.62    0.10    0.38  203.90"
      ]
     },
     "metadata": {},
     "output_type": "display_data"
    },
    {
     "data": {
      "text/html": [
       "<ol class=list-inline>\n",
       "\t<li>997.43</li>\n",
       "\t<li>-9.67</li>\n",
       "\t<li>263.68</li>\n",
       "\t<li>-10.63</li>\n",
       "\t<li>92.6</li>\n",
       "\t<li>2.93</li>\n",
       "\t<li>2.71</li>\n",
       "\t<li>0.22</li>\n",
       "\t<li>1.69</li>\n",
       "\t<li>2.72</li>\n",
       "\t<li>1317.35</li>\n",
       "\t<li>0.36</li>\n",
       "\t<li>0.75</li>\n",
       "\t<li>132.5</li>\n",
       "</ol>\n"
      ],
      "text/latex": [
       "\\begin{enumerate*}\n",
       "\\item 997.43\n",
       "\\item -9.67\n",
       "\\item 263.68\n",
       "\\item -10.63\n",
       "\\item 92.6\n",
       "\\item 2.93\n",
       "\\item 2.71\n",
       "\\item 0.22\n",
       "\\item 1.69\n",
       "\\item 2.72\n",
       "\\item 1317.35\n",
       "\\item 0.36\n",
       "\\item 0.75\n",
       "\\item 132.5\n",
       "\\end{enumerate*}\n"
      ],
      "text/markdown": [
       "1. 997.43\n",
       "2. -9.67\n",
       "3. 263.68\n",
       "4. -10.63\n",
       "5. 92.6\n",
       "6. 2.93\n",
       "7. 2.71\n",
       "8. 0.22\n",
       "9. 1.69\n",
       "10. 2.72\n",
       "11. 1317.35\n",
       "12. 0.36\n",
       "13. 0.75\n",
       "14. 132.5\n",
       "\n",
       "\n"
      ],
      "text/plain": [
       " [1]  997.43   -9.67  263.68  -10.63   92.60    2.93    2.71    0.22    1.69\n",
       "[10]    2.72 1317.35    0.36    0.75  132.50"
      ]
     },
     "metadata": {},
     "output_type": "display_data"
    },
    {
     "data": {
      "text/html": [
       "<ol class=list-inline>\n",
       "\t<li>997.81</li>\n",
       "\t<li>-9.59</li>\n",
       "\t<li>263.74</li>\n",
       "\t<li>-10.47</li>\n",
       "\t<li>93.2</li>\n",
       "\t<li>2.95</li>\n",
       "\t<li>2.74</li>\n",
       "\t<li>0.2</li>\n",
       "\t<li>1.71</li>\n",
       "\t<li>2.75</li>\n",
       "\t<li>1317.44</li>\n",
       "\t<li>0.24</li>\n",
       "\t<li>0.75</li>\n",
       "\t<li>161.6</li>\n",
       "</ol>\n"
      ],
      "text/latex": [
       "\\begin{enumerate*}\n",
       "\\item 997.81\n",
       "\\item -9.59\n",
       "\\item 263.74\n",
       "\\item -10.47\n",
       "\\item 93.2\n",
       "\\item 2.95\n",
       "\\item 2.74\n",
       "\\item 0.2\n",
       "\\item 1.71\n",
       "\\item 2.75\n",
       "\\item 1317.44\n",
       "\\item 0.24\n",
       "\\item 0.75\n",
       "\\item 161.6\n",
       "\\end{enumerate*}\n"
      ],
      "text/markdown": [
       "1. 997.81\n",
       "2. -9.59\n",
       "3. 263.74\n",
       "4. -10.47\n",
       "5. 93.2\n",
       "6. 2.95\n",
       "7. 2.74\n",
       "8. 0.2\n",
       "9. 1.71\n",
       "10. 2.75\n",
       "11. 1317.44\n",
       "12. 0.24\n",
       "13. 0.75\n",
       "14. 161.6\n",
       "\n",
       "\n"
      ],
      "text/plain": [
       " [1]  997.81   -9.59  263.74  -10.47   93.20    2.95    2.74    0.20    1.71\n",
       "[10]    2.75 1317.44    0.24    0.75  161.60"
      ]
     },
     "metadata": {},
     "output_type": "display_data"
    },
    {
     "data": {
      "text/html": [
       "<table>\n",
       "<thead><tr><th scope=col>p (mbar)</th><th scope=col>T (degC)</th><th scope=col>Tpot (K)</th><th scope=col>Tdew (degC)</th><th scope=col>rh (%)</th><th scope=col>VPmax (mbar)</th><th scope=col>VPact (mbar)</th><th scope=col>VPdef (mbar)</th><th scope=col>sh (g/kg)</th><th scope=col>H2OC (mmol/mol)</th><th scope=col>rho (g/m**3)</th><th scope=col>wv (m/s)</th><th scope=col>max. wv (m/s)</th><th scope=col>wd (deg)</th></tr></thead>\n",
       "<tbody>\n",
       "\t<tr><td>997.43 </td><td>-9.67  </td><td>263.68 </td><td>-10.63 </td><td>92.6   </td><td>2.93   </td><td>2.71   </td><td>0.22   </td><td>1.69   </td><td>2.72   </td><td>1317.35</td><td>0.36   </td><td>0.75   </td><td>132.5  </td></tr>\n",
       "</tbody>\n",
       "</table>\n"
      ],
      "text/latex": [
       "\\begin{tabular}{r|llllllllllllll}\n",
       " p (mbar) & T (degC) & Tpot (K) & Tdew (degC) & rh (\\%) & VPmax (mbar) & VPact (mbar) & VPdef (mbar) & sh (g/kg) & H2OC (mmol/mol) & rho (g/m**3) & wv (m/s) & max. wv (m/s) & wd (deg)\\\\\n",
       "\\hline\n",
       "\t 997.43  & -9.67   & 263.68  & -10.63  & 92.6    & 2.93    & 2.71    & 0.22    & 1.69    & 2.72    & 1317.35 & 0.36    & 0.75    & 132.5  \\\\\n",
       "\\end{tabular}\n"
      ],
      "text/markdown": [
       "\n",
       "| p (mbar) | T (degC) | Tpot (K) | Tdew (degC) | rh (%) | VPmax (mbar) | VPact (mbar) | VPdef (mbar) | sh (g/kg) | H2OC (mmol/mol) | rho (g/m**3) | wv (m/s) | max. wv (m/s) | wd (deg) |\n",
       "|---|---|---|---|---|---|---|---|---|---|---|---|---|---|\n",
       "| 997.43  | -9.67   | 263.68  | -10.63  | 92.6    | 2.93    | 2.71    | 0.22    | 1.69    | 2.72    | 1317.35 | 0.36    | 0.75    | 132.5   |\n",
       "\n"
      ],
      "text/plain": [
       "  p (mbar) T (degC) Tpot (K) Tdew (degC) rh (%) VPmax (mbar) VPact (mbar)\n",
       "1 997.43   -9.67    263.68   -10.63      92.6   2.93         2.71        \n",
       "  VPdef (mbar) sh (g/kg) H2OC (mmol/mol) rho (g/m**3) wv (m/s) max. wv (m/s)\n",
       "1 0.22         1.69      2.72            1317.35      0.36     0.75         \n",
       "  wd (deg)\n",
       "1 132.5   "
      ]
     },
     "metadata": {},
     "output_type": "display_data"
    },
    {
     "data": {
      "text/html": [
       "<table>\n",
       "<thead><tr><th scope=col>p (mbar)</th><th scope=col>T (degC)</th><th scope=col>Tpot (K)</th><th scope=col>Tdew (degC)</th><th scope=col>rh (%)</th><th scope=col>VPmax (mbar)</th><th scope=col>VPact (mbar)</th><th scope=col>VPdef (mbar)</th><th scope=col>sh (g/kg)</th><th scope=col>H2OC (mmol/mol)</th><th scope=col>rho (g/m**3)</th><th scope=col>wv (m/s)</th><th scope=col>max. wv (m/s)</th><th scope=col>wd (deg)</th></tr></thead>\n",
       "<tbody>\n",
       "\t<tr><td>997.81 </td><td>-9.59  </td><td>263.74 </td><td>-10.47 </td><td>93.2   </td><td>2.95   </td><td>2.74   </td><td>0.2    </td><td>1.71   </td><td>2.75   </td><td>1317.44</td><td>0.24   </td><td>0.75   </td><td>161.6  </td></tr>\n",
       "</tbody>\n",
       "</table>\n"
      ],
      "text/latex": [
       "\\begin{tabular}{r|llllllllllllll}\n",
       " p (mbar) & T (degC) & Tpot (K) & Tdew (degC) & rh (\\%) & VPmax (mbar) & VPact (mbar) & VPdef (mbar) & sh (g/kg) & H2OC (mmol/mol) & rho (g/m**3) & wv (m/s) & max. wv (m/s) & wd (deg)\\\\\n",
       "\\hline\n",
       "\t 997.81  & -9.59   & 263.74  & -10.47  & 93.2    & 2.95    & 2.74    & 0.2     & 1.71    & 2.75    & 1317.44 & 0.24    & 0.75    & 161.6  \\\\\n",
       "\\end{tabular}\n"
      ],
      "text/markdown": [
       "\n",
       "| p (mbar) | T (degC) | Tpot (K) | Tdew (degC) | rh (%) | VPmax (mbar) | VPact (mbar) | VPdef (mbar) | sh (g/kg) | H2OC (mmol/mol) | rho (g/m**3) | wv (m/s) | max. wv (m/s) | wd (deg) |\n",
       "|---|---|---|---|---|---|---|---|---|---|---|---|---|---|\n",
       "| 997.81  | -9.59   | 263.74  | -10.47  | 93.2    | 2.95    | 2.74    | 0.2     | 1.71    | 2.75    | 1317.44 | 0.24    | 0.75    | 161.6   |\n",
       "\n"
      ],
      "text/plain": [
       "  p (mbar) T (degC) Tpot (K) Tdew (degC) rh (%) VPmax (mbar) VPact (mbar)\n",
       "1 997.81   -9.59    263.74   -10.47      93.2   2.95         2.74        \n",
       "  VPdef (mbar) sh (g/kg) H2OC (mmol/mol) rho (g/m**3) wv (m/s) max. wv (m/s)\n",
       "1 0.2          1.71      2.75            1317.44      0.24     0.75         \n",
       "  wd (deg)\n",
       "1 161.6   "
      ]
     },
     "metadata": {},
     "output_type": "display_data"
    }
   ],
   "source": [
    "sequence_test_data <- create_sequences_x_y(data = data_hourly[1:7,], sequence_length = 3, target_shift = 1, step_shift = 1)\n",
    "dim(sequence_test_data$x)\n",
    "sequence_test_data$x[1,,]\n",
    "sequence_test_data$x[2,,]\n",
    "sequence_test_data$x[3,,]\n",
    "dim(sequence_test_data$y)\n",
    "sequence_test_data$y[1,]\n",
    "sequence_test_data$y[2,]\n",
    "sequence_test_data$y[3,]\n",
    "data_hourly[6,]\n",
    "data_hourly[7,]"
   ]
  },
  {
   "cell_type": "markdown",
   "metadata": {},
   "source": [
    "## Exercise 3.2\n",
    "Copy your solution to exercise 3.1 and try using the first 8 (instead of 7) elements of `data_hourly` as `data`. What are the dimensions now? Does it make sense that a new sequence was added? What if we increase the `step_shift` to 2?"
   ]
  },
  {
   "cell_type": "code",
   "execution_count": null,
   "metadata": {},
   "outputs": [],
   "source": []
  },
  {
   "cell_type": "code",
   "execution_count": 17,
   "metadata": {},
   "outputs": [
    {
     "data": {
      "text/html": [
       "<ol class=list-inline>\n",
       "\t<li>4</li>\n",
       "\t<li>3</li>\n",
       "\t<li>14</li>\n",
       "</ol>\n"
      ],
      "text/latex": [
       "\\begin{enumerate*}\n",
       "\\item 4\n",
       "\\item 3\n",
       "\\item 14\n",
       "\\end{enumerate*}\n"
      ],
      "text/markdown": [
       "1. 4\n",
       "2. 3\n",
       "3. 14\n",
       "\n",
       "\n"
      ],
      "text/plain": [
       "[1]  4  3 14"
      ]
     },
     "metadata": {},
     "output_type": "display_data"
    },
    {
     "data": {
      "text/html": [
       "<ol class=list-inline>\n",
       "\t<li>4</li>\n",
       "\t<li>14</li>\n",
       "</ol>\n"
      ],
      "text/latex": [
       "\\begin{enumerate*}\n",
       "\\item 4\n",
       "\\item 14\n",
       "\\end{enumerate*}\n"
      ],
      "text/markdown": [
       "1. 4\n",
       "2. 14\n",
       "\n",
       "\n"
      ],
      "text/plain": [
       "[1]  4 14"
      ]
     },
     "metadata": {},
     "output_type": "display_data"
    }
   ],
   "source": [
    "sequence_test_data <- create_sequences_x_y(data = data_hourly[1:8,], sequence_length = 3, target_shift = 1, step_shift = 1)\n",
    "dim(sequence_test_data$x)\n",
    "dim(sequence_test_data$y)"
   ]
  },
  {
   "cell_type": "markdown",
   "metadata": {},
   "source": [
    "## Exercise 3.3\n",
    "Now input all `data_hourly` as `data` and set the `sequence_length` to 96 (3 days), `target_shift` to 23 (23 hours) and `step_shift` to 24 (1 day). Store the `x` part of the output as `x_hourly` and `y` part as `y_hourly`. Check the dimensions."
   ]
  },
  {
   "cell_type": "code",
   "execution_count": null,
   "metadata": {},
   "outputs": [],
   "source": [
    "sequence_data <- create_sequences_x_y(data = ?, sequence_length = ?, target_shift = ?, step_shift = ?)"
   ]
  },
  {
   "cell_type": "code",
   "execution_count": 18,
   "metadata": {},
   "outputs": [
    {
     "data": {
      "text/html": [
       "<ol class=list-inline>\n",
       "\t<li>2916</li>\n",
       "\t<li>96</li>\n",
       "\t<li>14</li>\n",
       "</ol>\n"
      ],
      "text/latex": [
       "\\begin{enumerate*}\n",
       "\\item 2916\n",
       "\\item 96\n",
       "\\item 14\n",
       "\\end{enumerate*}\n"
      ],
      "text/markdown": [
       "1. 2916\n",
       "2. 96\n",
       "3. 14\n",
       "\n",
       "\n"
      ],
      "text/plain": [
       "[1] 2916   96   14"
      ]
     },
     "metadata": {},
     "output_type": "display_data"
    },
    {
     "data": {
      "text/html": [
       "<ol class=list-inline>\n",
       "\t<li>2916</li>\n",
       "\t<li>14</li>\n",
       "</ol>\n"
      ],
      "text/latex": [
       "\\begin{enumerate*}\n",
       "\\item 2916\n",
       "\\item 14\n",
       "\\end{enumerate*}\n"
      ],
      "text/markdown": [
       "1. 2916\n",
       "2. 14\n",
       "\n",
       "\n"
      ],
      "text/plain": [
       "[1] 2916   14"
      ]
     },
     "metadata": {},
     "output_type": "display_data"
    }
   ],
   "source": [
    "sequence_data <- create_sequences_x_y(data = data_hourly, sequence_length = 96, target_shift = 23, step_shift = 24)\n",
    "x_hourly <- sequence_data$x\n",
    "y_hourly <- sequence_data$y\n",
    "dim(x_hourly)\n",
    "dim(y_hourly)"
   ]
  },
  {
   "cell_type": "markdown",
   "metadata": {},
   "source": [
    "## Exercise 3.4\n",
    "Notice that `y_hourly`, our targets, have 14 features in them. Since we only want to predict the temperature, we should remove all other features from `y_hourly` and save it as `y_hourly_temp`. Put differently, only keep the temperature feature. Verify the dimensions as always."
   ]
  },
  {
   "cell_type": "code",
   "execution_count": null,
   "metadata": {},
   "outputs": [],
   "source": [
    "y_hourly_temp <- ?"
   ]
  },
  {
   "cell_type": "code",
   "execution_count": 19,
   "metadata": {},
   "outputs": [
    {
     "data": {
      "text/html": [
       "2916"
      ],
      "text/latex": [
       "2916"
      ],
      "text/markdown": [
       "2916"
      ],
      "text/plain": [
       "[1] 2916"
      ]
     },
     "metadata": {},
     "output_type": "display_data"
    }
   ],
   "source": [
    "y_hourly_temp <- y_hourly[,2]\n",
    "length(y_hourly_temp)"
   ]
  },
  {
   "cell_type": "markdown",
   "metadata": {},
   "source": [
    "## 4. Splitting\n",
    "Now we split our data to train/test. Unlike usually, we will not split our data to a validation set. We will let Keras handle that for us in the `fit()` function.\n",
    "\n",
    "Like above, we have provided a function which splits the data for you. The function accepts three parameters `x_data` and `y_data`, the data it is supposed to split and a `fraction`, the fraction of the data that should be used as test data. The function will select the last elements from the to create the test set. The function assumes that the number of rows in `x_data` and `y_data` is the same.\n",
    "\n",
    "The function returns a list containing `x_train`, `y_train`, `x_test` and `y_test`."
   ]
  },
  {
   "cell_type": "code",
   "execution_count": 20,
   "metadata": {},
   "outputs": [],
   "source": [
    "split_dataset <- function(x_data, y_data, fraction = 0.2) {\n",
    "    train_start_index <- 1\n",
    "    train_end_index <- train_start_index + floor((1-fraction) * dim(x_data)[1]) - 1\n",
    "    test_start_index <- train_end_index + 1\n",
    "    test_end_index <- dim(x_data)[1]\n",
    "    \n",
    "    x_train <- x_data[train_start_index:train_end_index,,]\n",
    "    x_test <- x_data[test_start_index:test_end_index,,]\n",
    "    \n",
    "    y_train <- y_data[train_start_index:train_end_index]\n",
    "    y_test <- y_data[test_start_index:test_end_index]\n",
    "    \n",
    "    list(x_train = x_train,\n",
    "        y_train = y_train,\n",
    "        x_test = x_test,\n",
    "        y_test = y_test)\n",
    "}"
   ]
  },
  {
   "cell_type": "markdown",
   "metadata": {},
   "source": [
    "## Exercise 4 \n",
    "Use the function to split `x_hourly` and `y_hourly_temp`, using `fraction = 0.2`. "
   ]
  },
  {
   "cell_type": "code",
   "execution_count": null,
   "metadata": {},
   "outputs": [],
   "source": [
    "split_data <- ?\n",
    "\n",
    "x_train = split_data$x_train\n",
    "y_train = split_data$y_train\n",
    "x_test = split_data$x_test\n",
    "y_test = split_data$y_test\n",
    "dim(x_train)\n",
    "length(y_train)\n",
    "dim(x_test)\n",
    "length(y_test)"
   ]
  },
  {
   "cell_type": "code",
   "execution_count": 21,
   "metadata": {},
   "outputs": [
    {
     "data": {
      "text/html": [
       "<ol class=list-inline>\n",
       "\t<li>2332</li>\n",
       "\t<li>96</li>\n",
       "\t<li>14</li>\n",
       "</ol>\n"
      ],
      "text/latex": [
       "\\begin{enumerate*}\n",
       "\\item 2332\n",
       "\\item 96\n",
       "\\item 14\n",
       "\\end{enumerate*}\n"
      ],
      "text/markdown": [
       "1. 2332\n",
       "2. 96\n",
       "3. 14\n",
       "\n",
       "\n"
      ],
      "text/plain": [
       "[1] 2332   96   14"
      ]
     },
     "metadata": {},
     "output_type": "display_data"
    },
    {
     "data": {
      "text/html": [
       "2332"
      ],
      "text/latex": [
       "2332"
      ],
      "text/markdown": [
       "2332"
      ],
      "text/plain": [
       "[1] 2332"
      ]
     },
     "metadata": {},
     "output_type": "display_data"
    },
    {
     "data": {
      "text/html": [
       "<ol class=list-inline>\n",
       "\t<li>584</li>\n",
       "\t<li>96</li>\n",
       "\t<li>14</li>\n",
       "</ol>\n"
      ],
      "text/latex": [
       "\\begin{enumerate*}\n",
       "\\item 584\n",
       "\\item 96\n",
       "\\item 14\n",
       "\\end{enumerate*}\n"
      ],
      "text/markdown": [
       "1. 584\n",
       "2. 96\n",
       "3. 14\n",
       "\n",
       "\n"
      ],
      "text/plain": [
       "[1] 584  96  14"
      ]
     },
     "metadata": {},
     "output_type": "display_data"
    },
    {
     "data": {
      "text/html": [
       "584"
      ],
      "text/latex": [
       "584"
      ],
      "text/markdown": [
       "584"
      ],
      "text/plain": [
       "[1] 584"
      ]
     },
     "metadata": {},
     "output_type": "display_data"
    }
   ],
   "source": [
    "split_data <- split_dataset(x_data = x_hourly, y_data = y_hourly_temp, fraction = 0.2)\n",
    "x_train = split_data$x_train\n",
    "y_train = split_data$y_train\n",
    "x_test = split_data$x_test\n",
    "y_test = split_data$y_test\n",
    "dim(x_train)\n",
    "length(y_train)\n",
    "dim(x_test)\n",
    "length(y_test)"
   ]
  },
  {
   "cell_type": "markdown",
   "metadata": {},
   "source": [
    "## 5. Scaling\n",
    "To help our network train faster, we need to scale our data. As in the previous weeks, we use the training set to scale the training and test sets. To scale a dataset we first needed to compute the mean and standard deviation, using only the training set. We use the [`apply()`](https://www.rdocumentation.org/packages/base/versions/3.5.3/topics/apply) function for this.\n",
    "\n",
    "## Exercise 5\n",
    "Fill in the apply function below to compute the mean and standard deviation of the training set."
   ]
  },
  {
   "cell_type": "code",
   "execution_count": null,
   "metadata": {},
   "outputs": [],
   "source": [
    "# We compute the mean and sd for each feature independently.\n",
    "mean <- apply(?, ?, mean)\n",
    "std <- apply(?, ?, sd)\n",
    "\n",
    "mean[2] # The mean temperature\n",
    "mean[1] # The mean air pressure"
   ]
  },
  {
   "cell_type": "code",
   "execution_count": 22,
   "metadata": {},
   "outputs": [
    {
     "data": {
      "text/html": [
       "8.99160587299886"
      ],
      "text/latex": [
       "8.99160587299886"
      ],
      "text/markdown": [
       "8.99160587299886"
      ],
      "text/plain": [
       "[1] 8.991606"
      ]
     },
     "metadata": {},
     "output_type": "display_data"
    },
    {
     "data": {
      "text/html": [
       "988.819763838265"
      ],
      "text/latex": [
       "988.819763838265"
      ],
      "text/markdown": [
       "988.819763838265"
      ],
      "text/plain": [
       "[1] 988.8198"
      ]
     },
     "metadata": {},
     "output_type": "display_data"
    }
   ],
   "source": [
    "# We compute the mean and sd for each feature independently.\n",
    "mean <- apply(x_train, 3, mean)\n",
    "std <- apply(x_train, 3, sd)\n",
    "\n",
    "mean[2] # The mean temperature\n",
    "mean[1] # The mean air pressure"
   ]
  },
  {
   "cell_type": "markdown",
   "metadata": {},
   "source": [
    "Like last week, we cannot use the `scale()` function since it only works with (at most) 2D tensors, so we need to do this manually. Since we already split up the dataset into train/test, we need to scale both of them. We store the result in `x_train_scaled` and `x_test_scaled`. We provide the code for this, but we recommend reading through it."
   ]
  },
  {
   "cell_type": "code",
   "execution_count": 35,
   "metadata": {},
   "outputs": [],
   "source": [
    "# Create an empty 3D tensor with same dimensions as feature_matrix_reshaped.\n",
    "x_train_scaled <- array(0, dim = dim(x_train))\n",
    "x_test_scaled <- array(0, dim = dim(x_test))\n",
    "\n",
    "# For each feature we subtract the mean and divide by the std.\n",
    "for (j in 1:dim(x_train)[3]) {\n",
    "    x_train_scaled[,,j] <- (x_train[,,j] - mean[j]) / std[j]\n",
    "    x_test_scaled[,,j] <- (x_test[,,j] - mean[j]) / std[j]\n",
    "}"
   ]
  },
  {
   "cell_type": "markdown",
   "metadata": {},
   "source": [
    "Let us see if this all makes sense and check the first temperature."
   ]
  },
  {
   "cell_type": "code",
   "execution_count": 36,
   "metadata": {},
   "outputs": [
    {
     "data": {
      "text/html": [
       "-8.02"
      ],
      "text/latex": [
       "-8.02"
      ],
      "text/markdown": [
       "-8.02"
      ],
      "text/plain": [
       "[1] -8.02"
      ]
     },
     "metadata": {},
     "output_type": "display_data"
    },
    {
     "data": {
      "text/html": [
       "-2.01590862844773"
      ],
      "text/latex": [
       "-2.01590862844773"
      ],
      "text/markdown": [
       "-2.01590862844773"
      ],
      "text/plain": [
       "[1] -2.015909"
      ]
     },
     "metadata": {},
     "output_type": "display_data"
    }
   ],
   "source": [
    "x_train[1,1,2]\n",
    "x_train_scaled[1,1,2]"
   ]
  },
  {
   "cell_type": "markdown",
   "metadata": {},
   "source": [
    "## 6. The models\n",
    "Last week we used a dense network to serve as our baseline, this week we will use a SimpleRNN and then see if a GRU or an LSTM helps improve our predictions.\n",
    "\n",
    "Notice that instead of providing validation data, we simply specify the fraction of training data to use for validation using the `validation_split = 0.2` parameter in the `fit()` function. According to the Keras documentation the [`fit()`](https://keras.io/models/sequential/) function will use the last elements of the training data (similar to what we have done for the test set). This is what we want, since we do not want to validate our data from the past. Also notice that our test data is even further ahead in the future.\n",
    "\n",
    "## Exercise 6.1\n",
    "- Create a network with a `simple_rnn_layer` with 16 units.\n",
    "- After the simple RNN, create a regression layer.\n",
    "- Use mae loss.\n",
    "The `simple_rnn_layer` will need the `input_shape` parameter since it is the first layer in our network. We have shaped our input so that it has a sequence length of 96 and 14 features. You need to provide these values as the `input_shape`.\n",
    "\n",
    "**Hint** To speed up training it is helpful to remove the `callbacks=list(Progress$new())` line from the `fit` function. The side-effect is that you have less idea of how far in the training process you are, but you can be sure that it is about 1/5 faster."
   ]
  },
  {
   "cell_type": "code",
   "execution_count": 34,
   "metadata": {},
   "outputs": [
    {
     "ename": "ERROR",
     "evalue": "Error in parse(text = x, srcfile = src): <text>:9:1: unexpected ')'\n8:     loss = ?\n9: )\n   ^\n",
     "output_type": "error",
     "traceback": [
      "Error in parse(text = x, srcfile = src): <text>:9:1: unexpected ')'\n8:     loss = ?\n9: )\n   ^\nTraceback:\n"
     ]
    }
   ],
   "source": [
    "model <- keras_model_sequential() %>%\n",
    "    ?\n",
    "\n",
    "cat(summary(model))\n",
    "\n",
    "model %>% compile(\n",
    "    optimizer = optimizer_adam(lr = 0.001),\n",
    "    loss = ?\n",
    ")\n",
    "\n",
    "history <- model %>% fit(\n",
    "    x = x_train_scaled,\n",
    "    y = y_train,\n",
    "    validation_split = 0.2,\n",
    "    epochs = 40,\n",
    "    batch_size = 16,\n",
    "    callbacks=list(Progress$new())\n",
    ")\n",
    "\n",
    "plot(history)"
   ]
  },
  {
   "cell_type": "code",
   "execution_count": 38,
   "metadata": {},
   "outputs": [
    {
     "name": "stdout",
     "output_type": "stream",
     "text": [
      "________________________________________________________________________________\n",
      "Layer (type)                        Output Shape                    Param #     \n",
      "================================================================================\n",
      "simple_rnn_6 (SimpleRNN)            (None, 16)                      496         \n",
      "________________________________________________________________________________\n",
      "dense_9 (Dense)                     (None, 1)                       17          \n",
      "================================================================================\n",
      "Total params: 513\n",
      "Trainable params: 513\n",
      "Non-trainable params: 0\n",
      "________________________________________________________________________________\n",
      "Epoch 60 - loss: 2.099205, acc.: , val loss: 4.06275815677847, val acc.:   \r"
     ]
    },
    {
     "data": {
      "image/png": "[encoded data removed]",
      "text/plain": [
       "plot without title"
      ]
     },
     "metadata": {},
     "output_type": "display_data"
    }
   ],
   "source": [
    "model <- keras_model_sequential() %>%\n",
    "    layer_simple_rnn(units = 16, input_shape = c(96, 14)) %>%\n",
    "    layer_dense(units = 1)\n",
    "\n",
    "cat(summary(model))\n",
    "\n",
    "model %>% compile(\n",
    "    optimizer = optimizer_adam(lr = 0.001),\n",
    "    loss = \"mae\"\n",
    ")\n",
    "\n",
    "history <- model %>% fit(\n",
    "    x = x_train_scaled,\n",
    "    y = y_train,\n",
    "    validation_split = 0.2,\n",
    "    epochs = 60,\n",
    "    batch_size = 16,\n",
    "    callbacks=list(Progress$new())\n",
    ")\n",
    "\n",
    "plot(history)"
   ]
  },
  {
   "cell_type": "markdown",
   "metadata": {},
   "source": [
    "We should see an average validation loss of about 4, we also see that the model seems to have started overfitting to the data. Usually, when we start overfitting to our data, we would not try a more expressive model as we would expect to overfit the data even more. Against our intution, let us try to use a GRU layer instead of a simple RNN."
   ]
  },
  {
   "cell_type": "markdown",
   "metadata": {},
   "source": [
    "## Exercise 6.2\n",
    "Let us try a GRU layer instead of the SimpleRNN above. Copy the model above and only change the `layer_simple_rnn` to `layer_gru`. Notice that the GRU takes even longer to train."
   ]
  },
  {
   "cell_type": "code",
   "execution_count": 39,
   "metadata": {},
   "outputs": [
    {
     "name": "stdout",
     "output_type": "stream",
     "text": [
      "________________________________________________________________________________\n",
      "Layer (type)                        Output Shape                    Param #     \n",
      "================================================================================\n",
      "gru_2 (GRU)                         (None, 16)                      1488        \n",
      "________________________________________________________________________________\n",
      "dense_10 (Dense)                    (None, 1)                       17          \n",
      "================================================================================\n",
      "Total params: 1,505\n",
      "Trainable params: 1,505\n",
      "Non-trainable params: 0\n",
      "________________________________________________________________________________\n",
      "Epoch 60 - loss: 1.921874, acc.: , val loss: 3.57535881148671, val acc.:   \r"
     ]
    },
    {
     "data": {
      "image/png": "[encoded data removed]",
      "text/plain": [
       "plot without title"
      ]
     },
     "metadata": {},
     "output_type": "display_data"
    }
   ],
   "source": [
    "model <- keras_model_sequential() %>%\n",
    "    layer_gru(units = 16, input_shape = c(96, 14)) %>%\n",
    "    layer_dense(units = 1)\n",
    "\n",
    "cat(summary(model))\n",
    "\n",
    "model %>% compile(\n",
    "    optimizer = optimizer_adam(lr = 0.001),\n",
    "    loss = \"mae\"\n",
    ")\n",
    "\n",
    "history <- model %>% fit(\n",
    "    x = x_train_scaled,\n",
    "    y = y_train,\n",
    "    validation_split = 0.2,\n",
    "    epochs = 60,\n",
    "    batch_size = 16,\n",
    "    callbacks=list(Progress$new())\n",
    ")\n",
    "\n",
    "plot(history)"
   ]
  },
  {
   "cell_type": "markdown",
   "metadata": {},
   "source": [
    "Interesting! We see that the GRU actually outperforms the SimpleRNN and does not start overfitting the data. This seems to indicate that there were some long term dependenices which the SimpleRNN was not able to account for and it started overfitting to latest datapoints in the sequence."
   ]
  },
  {
   "cell_type": "markdown",
   "metadata": {},
   "source": [
    "Let us now compare evaluate our GRU against the test set by running the cell below. We will see that the test loss is similar to our validation loss, which is very good, it means that we have not methodologically overfit to the validation set."
   ]
  },
  {
   "cell_type": "code",
   "execution_count": 51,
   "metadata": {},
   "outputs": [
    {
     "data": {
      "text/html": [
       "<strong>loss:</strong> 3.50417569238846"
      ],
      "text/latex": [
       "\\textbf{loss:} 3.50417569238846"
      ],
      "text/markdown": [
       "**loss:** 3.50417569238846"
      ],
      "text/plain": [
       "    loss \n",
       "3.504176 "
      ]
     },
     "metadata": {},
     "output_type": "display_data"
    }
   ],
   "source": [
    "model %>% evaluate(x_test_scaled, y_test)"
   ]
  },
  {
   "cell_type": "markdown",
   "metadata": {},
   "source": [
    "## Exercise 6.3\n",
    "The test loss can be a bit abstract for us, so let us also manually compare the predictions of the model on the test set against the test labels. To get the predictions we use the function `predict()` and pass in the model as first parameter and then the `x_test_scaled` data. The function will output a predictions for each sequence in the test data. Store these predictions in a variable called `predictions`. Then combine the `predictions` column-wise with `y_test` using the function `cbind()`. Then print out the first 10 rows (using `head()`)."
   ]
  },
  {
   "cell_type": "code",
   "execution_count": null,
   "metadata": {},
   "outputs": [],
   "source": [
    "predictions <- model %>% predict(?)\n",
    "compare <- cbind(?, ?)\n",
    "head(?)"
   ]
  },
  {
   "cell_type": "code",
   "execution_count": 47,
   "metadata": {},
   "outputs": [
    {
     "data": {
      "text/html": [
       "<table>\n",
       "<thead><tr><th scope=col></th><th scope=col>y_test</th></tr></thead>\n",
       "<tbody>\n",
       "\t<tr><td>13.441838</td><td>14.43    </td></tr>\n",
       "\t<tr><td>13.331948</td><td>11.55    </td></tr>\n",
       "\t<tr><td> 8.555273</td><td>10.81    </td></tr>\n",
       "\t<tr><td> 6.192822</td><td>13.77    </td></tr>\n",
       "\t<tr><td> 8.382848</td><td>15.76    </td></tr>\n",
       "\t<tr><td>11.493831</td><td>12.38    </td></tr>\n",
       "</tbody>\n",
       "</table>\n"
      ],
      "text/latex": [
       "\\begin{tabular}{ll}\n",
       "  & y\\_test\\\\\n",
       "\\hline\n",
       "\t 13.441838 & 14.43    \\\\\n",
       "\t 13.331948 & 11.55    \\\\\n",
       "\t  8.555273 & 10.81    \\\\\n",
       "\t  6.192822 & 13.77    \\\\\n",
       "\t  8.382848 & 15.76    \\\\\n",
       "\t 11.493831 & 12.38    \\\\\n",
       "\\end{tabular}\n"
      ],
      "text/markdown": [
       "\n",
       "|  | y_test |\n",
       "|---|---|\n",
       "| 13.441838 | 14.43     |\n",
       "| 13.331948 | 11.55     |\n",
       "|  8.555273 | 10.81     |\n",
       "|  6.192822 | 13.77     |\n",
       "|  8.382848 | 15.76     |\n",
       "| 11.493831 | 12.38     |\n",
       "\n"
      ],
      "text/plain": [
       "               y_test\n",
       "[1,] 13.441838 14.43 \n",
       "[2,] 13.331948 11.55 \n",
       "[3,]  8.555273 10.81 \n",
       "[4,]  6.192822 13.77 \n",
       "[5,]  8.382848 15.76 \n",
       "[6,] 11.493831 12.38 "
      ]
     },
     "metadata": {},
     "output_type": "display_data"
    }
   ],
   "source": [
    "predictions <- model %>% predict(x_test_scaled)\n",
    "compare <- cbind(predictions, y_test)\n",
    "head(compare)"
   ]
  },
  {
   "cell_type": "markdown",
   "metadata": {},
   "source": [
    "You should see that \"on average\" we are about 3 degrees off, that is what the MAE loss of 3 means."
   ]
  },
  {
   "cell_type": "markdown",
   "metadata": {},
   "source": [
    "In this notebook we saw that the GRU did improve our predictions and it was very easy to adjust our original model to use a GRU instead. In the bonus exercise below, we suggest that you also try an LSTM, they tend to perform even better.\n",
    "\n",
    "In this notebook we also saw three new things. First, we resampled the data so that we had a datapoint every hour using the `seq()` function. Second, we saw a different way to create sequences from a dataset. We created a helpful function for this which we can hopefully reuse in later notebooks. Third, we did not split our data into a validation set as we left it to Keras, which managed it for us in the `fit()` function."
   ]
  },
  {
   "cell_type": "markdown",
   "metadata": {},
   "source": [
    "## Bonus execrise\n",
    "Copy the model from above and try using an LSTM instead of a GRU. Can you improve the performance. Does adding a dense layer after the LSTM help?"
   ]
  },
  {
   "cell_type": "code",
   "execution_count": null,
   "metadata": {},
   "outputs": [],
   "source": []
  },
  {
   "cell_type": "code",
   "execution_count": 52,
   "metadata": {},
   "outputs": [
    {
     "name": "stdout",
     "output_type": "stream",
     "text": [
      "________________________________________________________________________________\n",
      "Layer (type)                        Output Shape                    Param #     \n",
      "================================================================================\n",
      "lstm_3 (LSTM)                       (None, 32)                      6016        \n",
      "________________________________________________________________________________\n",
      "dense_14 (Dense)                    (None, 16)                      528         \n",
      "________________________________________________________________________________\n",
      "dense_15 (Dense)                    (None, 1)                       17          \n",
      "================================================================================\n",
      "Total params: 6,561\n",
      "Trainable params: 6,561\n",
      "Non-trainable params: 0\n",
      "________________________________________________________________________________\n",
      "Epoch 60 - loss: 1.698695, acc.: , val loss: 3.75901296051973, val acc.:   \r"
     ]
    },
    {
     "data": {
      "image/png": "[encoded data removed]",
      "text/plain": [
       "plot without title"
      ]
     },
     "metadata": {},
     "output_type": "display_data"
    }
   ],
   "source": [
    "model <- keras_model_sequential() %>%\n",
    "    layer_lstm(units = 32, input_shape = c(96, 14)) %>%\n",
    "    layer_dense(units = 16, activation = 'relu') %>%\n",
    "    layer_dense(units = 1)\n",
    "\n",
    "cat(summary(model))\n",
    "\n",
    "model %>% compile(\n",
    "    optimizer = optimizer_adam(lr = 0.001),\n",
    "    loss = \"mae\"\n",
    ")\n",
    "\n",
    "history <- model %>% fit(\n",
    "    x = x_train_scaled,\n",
    "    y = y_train,\n",
    "    validation_split = 0.2,\n",
    "    epochs = 60,\n",
    "    batch_size = 16,\n",
    "    callbacks=list(Progress$new())\n",
    ")\n",
    "\n",
    "plot(history)"
   ]
  }
 ],
 "metadata": {
  "kernelspec": {
   "display_name": "R",
   "language": "R",
   "name": "ir"
  },
  "language_info": {
   "codemirror_mode": "r",
   "file_extension": ".r",
   "mimetype": "text/x-r-source",
   "name": "R",
   "pygments_lexer": "r",
   "version": "3.5.1"
  }
 },
 "nbformat": 4,
 "nbformat_minor": 2
}
