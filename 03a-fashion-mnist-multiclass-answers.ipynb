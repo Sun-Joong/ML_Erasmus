{
 "cells": [
  {
   "cell_type": "markdown",
   "metadata": {},
   "source": [
    "# The Fashion MNIST - multiclass\n",
    "Last week we worked on the Fashion MNIST problem using only two classes. This week we will work on the whole dataset and try to classify all 10 classes. This is a slightly harder problem.\n",
    "\n",
    "You will preprocess the data to get it into the right shape to process with Keras. This includes scaling the images so that the input range is appropriate and mapping the labels to the **one-hot encoding representation**. Since you have formatted the labels to one-hot encodings we will need to use the **categorical cross entropy loss function**."
   ]
  },
  {
   "cell_type": "markdown",
   "metadata": {},
   "source": [
    "Let's load the data set:"
   ]
  },
  {
   "cell_type": "code",
   "execution_count": 1,
   "metadata": {},
   "outputs": [],
   "source": [
    "library(tensorflow)\n",
    "library(keras)\n",
    "source(\"02-helpers.R\")\n",
    "\n",
    "use_multi_cpu()\n",
    "\n",
    "data <- dataset_fashion_mnist()\n",
    "data_train <- data$train\n",
    "data_test <- data$test"
   ]
  },
  {
   "cell_type": "markdown",
   "metadata": {},
   "source": [
    "## Exercise 1\n",
    "Last week we only used two classes from the dataset, but since we are now using all of them, our dataset is larger.\n",
    "How many images are in the training dataset? Inspect the dimensions of the training and test data. What do the different dimensions represent for the `x` and `y` variables inside each set?\n",
    "\n",
    "**Hint 1:**\n",
    "First inspect the contents of data_train and data_test using the [`names`](https://www.rdocumentation.org/packages/base/versions/3.5.1/topics/names) function and `dim` function.\n",
    "\n",
    "**Hint 2:**\n",
    "For our input `data_train$x`, the first axis is the number of images, the second is the height and the last axis is the width. So if we specify `data_train$x[1,1:28,1:28]` we select the first image, all the height pixels and all the width pixels, the whole image."
   ]
  },
  {
   "cell_type": "code",
   "execution_count": 2,
   "metadata": {},
   "outputs": [
    {
     "data": {
      "text/html": [
       "<ol class=list-inline>\n",
       "\t<li>60000</li>\n",
       "\t<li>28</li>\n",
       "\t<li>28</li>\n",
       "</ol>\n"
      ],
      "text/latex": [
       "\\begin{enumerate*}\n",
       "\\item 60000\n",
       "\\item 28\n",
       "\\item 28\n",
       "\\end{enumerate*}\n"
      ],
      "text/markdown": [
       "1. 60000\n",
       "2. 28\n",
       "3. 28\n",
       "\n",
       "\n"
      ],
      "text/plain": [
       "[1] 60000    28    28"
      ]
     },
     "metadata": {},
     "output_type": "display_data"
    },
    {
     "data": {
      "text/html": [
       "60000"
      ],
      "text/latex": [
       "60000"
      ],
      "text/markdown": [
       "60000"
      ],
      "text/plain": [
       "[1] 60000"
      ]
     },
     "metadata": {},
     "output_type": "display_data"
    },
    {
     "data": {
      "text/html": [
       "<ol class=list-inline>\n",
       "\t<li>10000</li>\n",
       "\t<li>28</li>\n",
       "\t<li>28</li>\n",
       "</ol>\n"
      ],
      "text/latex": [
       "\\begin{enumerate*}\n",
       "\\item 10000\n",
       "\\item 28\n",
       "\\item 28\n",
       "\\end{enumerate*}\n"
      ],
      "text/markdown": [
       "1. 10000\n",
       "2. 28\n",
       "3. 28\n",
       "\n",
       "\n"
      ],
      "text/plain": [
       "[1] 10000    28    28"
      ]
     },
     "metadata": {},
     "output_type": "display_data"
    },
    {
     "data": {
      "text/html": [
       "10000"
      ],
      "text/latex": [
       "10000"
      ],
      "text/markdown": [
       "10000"
      ],
      "text/plain": [
       "[1] 10000"
      ]
     },
     "metadata": {},
     "output_type": "display_data"
    }
   ],
   "source": [
    "dim(data_train$x)\n",
    "length(data_train$y)\n",
    "dim(data_test$x)\n",
    "length(data_test$y)"
   ]
  },
  {
   "cell_type": "markdown",
   "metadata": {},
   "source": [
    "Let us see how our images look like, run the cell below to plot image `6001`. Feel free to change the index to plot different images from the training set."
   ]
  },
  {
   "cell_type": "code",
   "execution_count": 3,
   "metadata": {},
   "outputs": [
    {
     "data": {
      "image/png": "[encoded data removed]",
      "text/plain": [
       "plot without title"
      ]
     },
     "metadata": {},
     "output_type": "display_data"
    }
   ],
   "source": [
    "library(ggplot2)\n",
    "library(reshape2)\n",
    "\n",
    "index <- 6001\n",
    "options(repr.plot.width = 3, repr.plot.height = 3)\n",
    "ggplot(melt(t(apply(data_train$x[index,,], 2, rev)), varnames=c('x', 'y')), aes(x=x, y=y, fill=value)) +\n",
    "    geom_raster() +\n",
    "    scale_x_continuous(expand = c(0, 0)) +\n",
    "    scale_y_continuous(expand = c(0, 0)) +\n",
    "    scale_fill_gradient(low=\"#000000\", high=\"#FFFFFF\") +\n",
    "    theme_void() +\n",
    "    theme(legend.position = \"none\") +\n",
    "    ggtitle(paste('Label:', data_train$y[index]))\n",
    "options(repr.plot.width = 6, repr.plot.height = 5)"
   ]
  },
  {
   "cell_type": "markdown",
   "metadata": {},
   "source": [
    "The following exercises are very similar to the exercises last week. First try to solve them without looking at the solutions from last week. If you are unable to, feel free to work from those solutions."
   ]
  },
  {
   "cell_type": "markdown",
   "metadata": {},
   "source": [
    "## Exercise 2.1\n",
    "Like last week our images are pixels which are not in the range 0 to 1. Verify this be slicing out a single image from the training set and printing out the exact pixel values."
   ]
  },
  {
   "cell_type": "code",
   "execution_count": 4,
   "metadata": {},
   "outputs": [
    {
     "data": {
      "text/html": [
       "<table>\n",
       "<caption>A matrix: 28 × 28 of type int</caption>\n",
       "<tbody>\n",
       "\t<tr><td> 0</td><td>  0</td><td>  0</td><td>  0</td><td>  0</td><td>  0</td><td>  0</td><td>  0</td><td>  0</td><td>  0</td><td>...</td><td>  0</td><td>  0</td><td>  0</td><td>  0</td><td>  0</td><td>  0</td><td>  0</td><td>  0</td><td>  0</td><td>  0</td></tr>\n",
       "\t<tr><td> 0</td><td>  0</td><td>  0</td><td>  0</td><td>  0</td><td>  0</td><td>  0</td><td>  0</td><td>  0</td><td>  0</td><td>...</td><td>  0</td><td>  0</td><td>  0</td><td>  0</td><td>  0</td><td>  0</td><td>  0</td><td>  0</td><td>  0</td><td>  0</td></tr>\n",
       "\t<tr><td> 0</td><td>  0</td><td>  0</td><td>  0</td><td>  0</td><td>  0</td><td>  0</td><td>  0</td><td>  0</td><td>  0</td><td>...</td><td>  0</td><td>  0</td><td>  0</td><td>  0</td><td>  0</td><td>  0</td><td>  0</td><td>  0</td><td>  0</td><td>  0</td></tr>\n",
       "\t<tr><td> 0</td><td>  0</td><td>  0</td><td>  0</td><td>  0</td><td>  0</td><td>  0</td><td>  0</td><td>  0</td><td>  0</td><td>...</td><td>  0</td><td>  1</td><td>  4</td><td>  0</td><td>  0</td><td>  0</td><td>  0</td><td>  1</td><td>  1</td><td>  0</td></tr>\n",
       "\t<tr><td> 0</td><td>  0</td><td>  0</td><td>  0</td><td>  0</td><td>  0</td><td>  0</td><td>  0</td><td>  0</td><td>  0</td><td>...</td><td> 54</td><td>  0</td><td>  0</td><td>  0</td><td>  1</td><td>  3</td><td>  4</td><td>  0</td><td>  0</td><td>  3</td></tr>\n",
       "\t<tr><td> 0</td><td>  0</td><td>  0</td><td>  0</td><td>  0</td><td>  0</td><td>  0</td><td>  0</td><td>  0</td><td>  0</td><td>...</td><td>144</td><td>123</td><td> 23</td><td>  0</td><td>  0</td><td>  0</td><td>  0</td><td> 12</td><td> 10</td><td>  0</td></tr>\n",
       "\t<tr><td> 0</td><td>  0</td><td>  0</td><td>  0</td><td>  0</td><td>  0</td><td>  0</td><td>  0</td><td>  0</td><td>  0</td><td>...</td><td>107</td><td>156</td><td>161</td><td>109</td><td> 64</td><td> 23</td><td> 77</td><td>130</td><td> 72</td><td> 15</td></tr>\n",
       "\t<tr><td> 0</td><td>  0</td><td>  0</td><td>  0</td><td>  0</td><td>  0</td><td>  0</td><td>  0</td><td>  0</td><td>  0</td><td>...</td><td>216</td><td>163</td><td>127</td><td>121</td><td>122</td><td>146</td><td>141</td><td> 88</td><td>172</td><td> 66</td></tr>\n",
       "\t<tr><td> 0</td><td>  0</td><td>  0</td><td>  0</td><td>  0</td><td>  0</td><td>  0</td><td>  0</td><td>  0</td><td>  1</td><td>...</td><td>223</td><td>223</td><td>215</td><td>213</td><td>164</td><td>127</td><td>123</td><td>196</td><td>229</td><td>  0</td></tr>\n",
       "\t<tr><td> 0</td><td>  0</td><td>  0</td><td>  0</td><td>  0</td><td>  0</td><td>  0</td><td>  0</td><td>  0</td><td>  0</td><td>...</td><td>235</td><td>227</td><td>224</td><td>222</td><td>224</td><td>221</td><td>223</td><td>245</td><td>173</td><td>  0</td></tr>\n",
       "\t<tr><td> 0</td><td>  0</td><td>  0</td><td>  0</td><td>  0</td><td>  0</td><td>  0</td><td>  0</td><td>  0</td><td>  0</td><td>...</td><td>180</td><td>212</td><td>210</td><td>211</td><td>213</td><td>223</td><td>220</td><td>243</td><td>202</td><td>  0</td></tr>\n",
       "\t<tr><td> 0</td><td>  0</td><td>  0</td><td>  0</td><td>  0</td><td>  0</td><td>  0</td><td>  0</td><td>  0</td><td>  1</td><td>...</td><td>169</td><td>227</td><td>208</td><td>218</td><td>224</td><td>212</td><td>226</td><td>197</td><td>209</td><td> 52</td></tr>\n",
       "\t<tr><td> 0</td><td>  0</td><td>  0</td><td>  0</td><td>  0</td><td>  0</td><td>  0</td><td>  0</td><td>  0</td><td>  0</td><td>...</td><td>198</td><td>221</td><td>215</td><td>213</td><td>222</td><td>220</td><td>245</td><td>119</td><td>167</td><td> 56</td></tr>\n",
       "\t<tr><td> 0</td><td>  0</td><td>  0</td><td>  0</td><td>  0</td><td>  0</td><td>  0</td><td>  0</td><td>  0</td><td>  4</td><td>...</td><td>232</td><td>213</td><td>218</td><td>223</td><td>234</td><td>217</td><td>217</td><td>209</td><td> 92</td><td>  0</td></tr>\n",
       "\t<tr><td> 0</td><td>  0</td><td>  1</td><td>  4</td><td>  6</td><td>  7</td><td>  2</td><td>  0</td><td>  0</td><td>  0</td><td>...</td><td>222</td><td>221</td><td>216</td><td>223</td><td>229</td><td>215</td><td>218</td><td>255</td><td> 77</td><td>  0</td></tr>\n",
       "\t<tr><td> 0</td><td>  3</td><td>  0</td><td>  0</td><td>  0</td><td>  0</td><td>  0</td><td>  0</td><td>  0</td><td> 62</td><td>...</td><td>211</td><td>218</td><td>224</td><td>223</td><td>219</td><td>215</td><td>224</td><td>244</td><td>159</td><td>  0</td></tr>\n",
       "\t<tr><td> 0</td><td>  0</td><td>  0</td><td>  0</td><td> 18</td><td> 44</td><td> 82</td><td>107</td><td>189</td><td>228</td><td>...</td><td>224</td><td>234</td><td>176</td><td>188</td><td>250</td><td>248</td><td>233</td><td>238</td><td>215</td><td>  0</td></tr>\n",
       "\t<tr><td> 0</td><td> 57</td><td>187</td><td>208</td><td>224</td><td>221</td><td>224</td><td>208</td><td>204</td><td>214</td><td>...</td><td>255</td><td>255</td><td>221</td><td>234</td><td>221</td><td>211</td><td>220</td><td>232</td><td>246</td><td>  0</td></tr>\n",
       "\t<tr><td> 3</td><td>202</td><td>228</td><td>224</td><td>221</td><td>211</td><td>211</td><td>214</td><td>205</td><td>205</td><td>...</td><td>188</td><td>154</td><td>191</td><td>210</td><td>204</td><td>209</td><td>222</td><td>228</td><td>225</td><td>  0</td></tr>\n",
       "\t<tr><td>98</td><td>233</td><td>198</td><td>210</td><td>222</td><td>229</td><td>229</td><td>234</td><td>249</td><td>220</td><td>...</td><td>168</td><td>219</td><td>221</td><td>215</td><td>217</td><td>223</td><td>223</td><td>224</td><td>229</td><td> 29</td></tr>\n",
       "\t<tr><td>75</td><td>204</td><td>212</td><td>204</td><td>193</td><td>205</td><td>211</td><td>225</td><td>216</td><td>185</td><td>...</td><td>239</td><td>223</td><td>218</td><td>212</td><td>209</td><td>222</td><td>220</td><td>221</td><td>230</td><td> 67</td></tr>\n",
       "\t<tr><td>48</td><td>203</td><td>183</td><td>194</td><td>213</td><td>197</td><td>185</td><td>190</td><td>194</td><td>192</td><td>...</td><td>199</td><td>206</td><td>186</td><td>181</td><td>177</td><td>172</td><td>181</td><td>205</td><td>206</td><td>115</td></tr>\n",
       "\t<tr><td> 0</td><td>122</td><td>219</td><td>193</td><td>179</td><td>171</td><td>183</td><td>196</td><td>204</td><td>210</td><td>...</td><td>195</td><td>191</td><td>198</td><td>192</td><td>176</td><td>156</td><td>167</td><td>177</td><td>210</td><td> 92</td></tr>\n",
       "\t<tr><td> 0</td><td>  0</td><td> 74</td><td>189</td><td>212</td><td>191</td><td>175</td><td>172</td><td>175</td><td>181</td><td>...</td><td>210</td><td>210</td><td>211</td><td>188</td><td>188</td><td>194</td><td>192</td><td>216</td><td>170</td><td>  0</td></tr>\n",
       "\t<tr><td> 2</td><td>  0</td><td>  0</td><td>  0</td><td> 66</td><td>200</td><td>222</td><td>237</td><td>239</td><td>242</td><td>...</td><td>182</td><td>182</td><td>181</td><td>176</td><td>166</td><td>168</td><td> 99</td><td> 58</td><td>  0</td><td>  0</td></tr>\n",
       "\t<tr><td> 0</td><td>  0</td><td>  0</td><td>  0</td><td>  0</td><td>  0</td><td>  0</td><td> 40</td><td> 61</td><td> 44</td><td>...</td><td>  0</td><td>  0</td><td>  0</td><td>  0</td><td>  0</td><td>  0</td><td>  0</td><td>  0</td><td>  0</td><td>  0</td></tr>\n",
       "\t<tr><td> 0</td><td>  0</td><td>  0</td><td>  0</td><td>  0</td><td>  0</td><td>  0</td><td>  0</td><td>  0</td><td>  0</td><td>...</td><td>  0</td><td>  0</td><td>  0</td><td>  0</td><td>  0</td><td>  0</td><td>  0</td><td>  0</td><td>  0</td><td>  0</td></tr>\n",
       "\t<tr><td> 0</td><td>  0</td><td>  0</td><td>  0</td><td>  0</td><td>  0</td><td>  0</td><td>  0</td><td>  0</td><td>  0</td><td>...</td><td>  0</td><td>  0</td><td>  0</td><td>  0</td><td>  0</td><td>  0</td><td>  0</td><td>  0</td><td>  0</td><td>  0</td></tr>\n",
       "</tbody>\n",
       "</table>\n"
      ],
      "text/latex": [
       "A matrix: 28 × 28 of type int\n",
       "\\begin{tabular}{llllllllllllllllllllllllllll}\n",
       "\t  0 &   0 &   0 &   0 &   0 &   0 &   0 &   0 &   0 &   0 &   0 &   0 &   0 &   0 &   0 &   0 &   0 &   0 &   0 &   0 &   0 &   0 &   0 &   0 &   0 &   0 &   0 &   0\\\\\n",
       "\t  0 &   0 &   0 &   0 &   0 &   0 &   0 &   0 &   0 &   0 &   0 &   0 &   0 &   0 &   0 &   0 &   0 &   0 &   0 &   0 &   0 &   0 &   0 &   0 &   0 &   0 &   0 &   0\\\\\n",
       "\t  0 &   0 &   0 &   0 &   0 &   0 &   0 &   0 &   0 &   0 &   0 &   0 &   0 &   0 &   0 &   0 &   0 &   0 &   0 &   0 &   0 &   0 &   0 &   0 &   0 &   0 &   0 &   0\\\\\n",
       "\t  0 &   0 &   0 &   0 &   0 &   0 &   0 &   0 &   0 &   0 &   0 &   0 &   1 &   0 &   0 &  13 &  73 &   0 &   0 &   1 &   4 &   0 &   0 &   0 &   0 &   1 &   1 &   0\\\\\n",
       "\t  0 &   0 &   0 &   0 &   0 &   0 &   0 &   0 &   0 &   0 &   0 &   0 &   3 &   0 &  36 & 136 & 127 &  62 &  54 &   0 &   0 &   0 &   1 &   3 &   4 &   0 &   0 &   3\\\\\n",
       "\t  0 &   0 &   0 &   0 &   0 &   0 &   0 &   0 &   0 &   0 &   0 &   0 &   6 &   0 & 102 & 204 & 176 & 134 & 144 & 123 &  23 &   0 &   0 &   0 &   0 &  12 &  10 &   0\\\\\n",
       "\t  0 &   0 &   0 &   0 &   0 &   0 &   0 &   0 &   0 &   0 &   0 &   0 &   0 &   0 & 155 & 236 & 207 & 178 & 107 & 156 & 161 & 109 &  64 &  23 &  77 & 130 &  72 &  15\\\\\n",
       "\t  0 &   0 &   0 &   0 &   0 &   0 &   0 &   0 &   0 &   0 &   0 &   1 &   0 &  69 & 207 & 223 & 218 & 216 & 216 & 163 & 127 & 121 & 122 & 146 & 141 &  88 & 172 &  66\\\\\n",
       "\t  0 &   0 &   0 &   0 &   0 &   0 &   0 &   0 &   0 &   1 &   1 &   1 &   0 & 200 & 232 & 232 & 233 & 229 & 223 & 223 & 215 & 213 & 164 & 127 & 123 & 196 & 229 &   0\\\\\n",
       "\t  0 &   0 &   0 &   0 &   0 &   0 &   0 &   0 &   0 &   0 &   0 &   0 &   0 & 183 & 225 & 216 & 223 & 228 & 235 & 227 & 224 & 222 & 224 & 221 & 223 & 245 & 173 &   0\\\\\n",
       "\t  0 &   0 &   0 &   0 &   0 &   0 &   0 &   0 &   0 &   0 &   0 &   0 &   0 & 193 & 228 & 218 & 213 & 198 & 180 & 212 & 210 & 211 & 213 & 223 & 220 & 243 & 202 &   0\\\\\n",
       "\t  0 &   0 &   0 &   0 &   0 &   0 &   0 &   0 &   0 &   1 &   3 &   0 &  12 & 219 & 220 & 212 & 218 & 192 & 169 & 227 & 208 & 218 & 224 & 212 & 226 & 197 & 209 &  52\\\\\n",
       "\t  0 &   0 &   0 &   0 &   0 &   0 &   0 &   0 &   0 &   0 &   6 &   0 &  99 & 244 & 222 & 220 & 218 & 203 & 198 & 221 & 215 & 213 & 222 & 220 & 245 & 119 & 167 &  56\\\\\n",
       "\t  0 &   0 &   0 &   0 &   0 &   0 &   0 &   0 &   0 &   4 &   0 &   0 &  55 & 236 & 228 & 230 & 228 & 240 & 232 & 213 & 218 & 223 & 234 & 217 & 217 & 209 &  92 &   0\\\\\n",
       "\t  0 &   0 &   1 &   4 &   6 &   7 &   2 &   0 &   0 &   0 &   0 &   0 & 237 & 226 & 217 & 223 & 222 & 219 & 222 & 221 & 216 & 223 & 229 & 215 & 218 & 255 &  77 &   0\\\\\n",
       "\t  0 &   3 &   0 &   0 &   0 &   0 &   0 &   0 &   0 &  62 & 145 & 204 & 228 & 207 & 213 & 221 & 218 & 208 & 211 & 218 & 224 & 223 & 219 & 215 & 224 & 244 & 159 &   0\\\\\n",
       "\t  0 &   0 &   0 &   0 &  18 &  44 &  82 & 107 & 189 & 228 & 220 & 222 & 217 & 226 & 200 & 205 & 211 & 230 & 224 & 234 & 176 & 188 & 250 & 248 & 233 & 238 & 215 &   0\\\\\n",
       "\t  0 &  57 & 187 & 208 & 224 & 221 & 224 & 208 & 204 & 214 & 208 & 209 & 200 & 159 & 245 & 193 & 206 & 223 & 255 & 255 & 221 & 234 & 221 & 211 & 220 & 232 & 246 &   0\\\\\n",
       "\t  3 & 202 & 228 & 224 & 221 & 211 & 211 & 214 & 205 & 205 & 205 & 220 & 240 &  80 & 150 & 255 & 229 & 221 & 188 & 154 & 191 & 210 & 204 & 209 & 222 & 228 & 225 &   0\\\\\n",
       "\t 98 & 233 & 198 & 210 & 222 & 229 & 229 & 234 & 249 & 220 & 194 & 215 & 217 & 241 &  65 &  73 & 106 & 117 & 168 & 219 & 221 & 215 & 217 & 223 & 223 & 224 & 229 &  29\\\\\n",
       "\t 75 & 204 & 212 & 204 & 193 & 205 & 211 & 225 & 216 & 185 & 197 & 206 & 198 & 213 & 240 & 195 & 227 & 245 & 239 & 223 & 218 & 212 & 209 & 222 & 220 & 221 & 230 &  67\\\\\n",
       "\t 48 & 203 & 183 & 194 & 213 & 197 & 185 & 190 & 194 & 192 & 202 & 214 & 219 & 221 & 220 & 236 & 225 & 216 & 199 & 206 & 186 & 181 & 177 & 172 & 181 & 205 & 206 & 115\\\\\n",
       "\t  0 & 122 & 219 & 193 & 179 & 171 & 183 & 196 & 204 & 210 & 213 & 207 & 211 & 210 & 200 & 196 & 194 & 191 & 195 & 191 & 198 & 192 & 176 & 156 & 167 & 177 & 210 &  92\\\\\n",
       "\t  0 &   0 &  74 & 189 & 212 & 191 & 175 & 172 & 175 & 181 & 185 & 188 & 189 & 188 & 193 & 198 & 204 & 209 & 210 & 210 & 211 & 188 & 188 & 194 & 192 & 216 & 170 &   0\\\\\n",
       "\t  2 &   0 &   0 &   0 &  66 & 200 & 222 & 237 & 239 & 242 & 246 & 243 & 244 & 221 & 220 & 193 & 191 & 179 & 182 & 182 & 181 & 176 & 166 & 168 &  99 &  58 &   0 &   0\\\\\n",
       "\t  0 &   0 &   0 &   0 &   0 &   0 &   0 &  40 &  61 &  44 &  72 &  41 &  35 &   0 &   0 &   0 &   0 &   0 &   0 &   0 &   0 &   0 &   0 &   0 &   0 &   0 &   0 &   0\\\\\n",
       "\t  0 &   0 &   0 &   0 &   0 &   0 &   0 &   0 &   0 &   0 &   0 &   0 &   0 &   0 &   0 &   0 &   0 &   0 &   0 &   0 &   0 &   0 &   0 &   0 &   0 &   0 &   0 &   0\\\\\n",
       "\t  0 &   0 &   0 &   0 &   0 &   0 &   0 &   0 &   0 &   0 &   0 &   0 &   0 &   0 &   0 &   0 &   0 &   0 &   0 &   0 &   0 &   0 &   0 &   0 &   0 &   0 &   0 &   0\\\\\n",
       "\\end{tabular}\n"
      ],
      "text/markdown": [
       "\n",
       "A matrix: 28 × 28 of type int\n",
       "\n",
       "|  0 |   0 |   0 |   0 |   0 |   0 |   0 |   0 |   0 |   0 | ... |   0 |   0 |   0 |   0 |   0 |   0 |   0 |   0 |   0 |   0 |\n",
       "|  0 |   0 |   0 |   0 |   0 |   0 |   0 |   0 |   0 |   0 | ... |   0 |   0 |   0 |   0 |   0 |   0 |   0 |   0 |   0 |   0 |\n",
       "|  0 |   0 |   0 |   0 |   0 |   0 |   0 |   0 |   0 |   0 | ... |   0 |   0 |   0 |   0 |   0 |   0 |   0 |   0 |   0 |   0 |\n",
       "|  0 |   0 |   0 |   0 |   0 |   0 |   0 |   0 |   0 |   0 | ... |   0 |   1 |   4 |   0 |   0 |   0 |   0 |   1 |   1 |   0 |\n",
       "|  0 |   0 |   0 |   0 |   0 |   0 |   0 |   0 |   0 |   0 | ... |  54 |   0 |   0 |   0 |   1 |   3 |   4 |   0 |   0 |   3 |\n",
       "|  0 |   0 |   0 |   0 |   0 |   0 |   0 |   0 |   0 |   0 | ... | 144 | 123 |  23 |   0 |   0 |   0 |   0 |  12 |  10 |   0 |\n",
       "|  0 |   0 |   0 |   0 |   0 |   0 |   0 |   0 |   0 |   0 | ... | 107 | 156 | 161 | 109 |  64 |  23 |  77 | 130 |  72 |  15 |\n",
       "|  0 |   0 |   0 |   0 |   0 |   0 |   0 |   0 |   0 |   0 | ... | 216 | 163 | 127 | 121 | 122 | 146 | 141 |  88 | 172 |  66 |\n",
       "|  0 |   0 |   0 |   0 |   0 |   0 |   0 |   0 |   0 |   1 | ... | 223 | 223 | 215 | 213 | 164 | 127 | 123 | 196 | 229 |   0 |\n",
       "|  0 |   0 |   0 |   0 |   0 |   0 |   0 |   0 |   0 |   0 | ... | 235 | 227 | 224 | 222 | 224 | 221 | 223 | 245 | 173 |   0 |\n",
       "|  0 |   0 |   0 |   0 |   0 |   0 |   0 |   0 |   0 |   0 | ... | 180 | 212 | 210 | 211 | 213 | 223 | 220 | 243 | 202 |   0 |\n",
       "|  0 |   0 |   0 |   0 |   0 |   0 |   0 |   0 |   0 |   1 | ... | 169 | 227 | 208 | 218 | 224 | 212 | 226 | 197 | 209 |  52 |\n",
       "|  0 |   0 |   0 |   0 |   0 |   0 |   0 |   0 |   0 |   0 | ... | 198 | 221 | 215 | 213 | 222 | 220 | 245 | 119 | 167 |  56 |\n",
       "|  0 |   0 |   0 |   0 |   0 |   0 |   0 |   0 |   0 |   4 | ... | 232 | 213 | 218 | 223 | 234 | 217 | 217 | 209 |  92 |   0 |\n",
       "|  0 |   0 |   1 |   4 |   6 |   7 |   2 |   0 |   0 |   0 | ... | 222 | 221 | 216 | 223 | 229 | 215 | 218 | 255 |  77 |   0 |\n",
       "|  0 |   3 |   0 |   0 |   0 |   0 |   0 |   0 |   0 |  62 | ... | 211 | 218 | 224 | 223 | 219 | 215 | 224 | 244 | 159 |   0 |\n",
       "|  0 |   0 |   0 |   0 |  18 |  44 |  82 | 107 | 189 | 228 | ... | 224 | 234 | 176 | 188 | 250 | 248 | 233 | 238 | 215 |   0 |\n",
       "|  0 |  57 | 187 | 208 | 224 | 221 | 224 | 208 | 204 | 214 | ... | 255 | 255 | 221 | 234 | 221 | 211 | 220 | 232 | 246 |   0 |\n",
       "|  3 | 202 | 228 | 224 | 221 | 211 | 211 | 214 | 205 | 205 | ... | 188 | 154 | 191 | 210 | 204 | 209 | 222 | 228 | 225 |   0 |\n",
       "| 98 | 233 | 198 | 210 | 222 | 229 | 229 | 234 | 249 | 220 | ... | 168 | 219 | 221 | 215 | 217 | 223 | 223 | 224 | 229 |  29 |\n",
       "| 75 | 204 | 212 | 204 | 193 | 205 | 211 | 225 | 216 | 185 | ... | 239 | 223 | 218 | 212 | 209 | 222 | 220 | 221 | 230 |  67 |\n",
       "| 48 | 203 | 183 | 194 | 213 | 197 | 185 | 190 | 194 | 192 | ... | 199 | 206 | 186 | 181 | 177 | 172 | 181 | 205 | 206 | 115 |\n",
       "|  0 | 122 | 219 | 193 | 179 | 171 | 183 | 196 | 204 | 210 | ... | 195 | 191 | 198 | 192 | 176 | 156 | 167 | 177 | 210 |  92 |\n",
       "|  0 |   0 |  74 | 189 | 212 | 191 | 175 | 172 | 175 | 181 | ... | 210 | 210 | 211 | 188 | 188 | 194 | 192 | 216 | 170 |   0 |\n",
       "|  2 |   0 |   0 |   0 |  66 | 200 | 222 | 237 | 239 | 242 | ... | 182 | 182 | 181 | 176 | 166 | 168 |  99 |  58 |   0 |   0 |\n",
       "|  0 |   0 |   0 |   0 |   0 |   0 |   0 |  40 |  61 |  44 | ... |   0 |   0 |   0 |   0 |   0 |   0 |   0 |   0 |   0 |   0 |\n",
       "|  0 |   0 |   0 |   0 |   0 |   0 |   0 |   0 |   0 |   0 | ... |   0 |   0 |   0 |   0 |   0 |   0 |   0 |   0 |   0 |   0 |\n",
       "|  0 |   0 |   0 |   0 |   0 |   0 |   0 |   0 |   0 |   0 | ... |   0 |   0 |   0 |   0 |   0 |   0 |   0 |   0 |   0 |   0 |\n",
       "\n"
      ],
      "text/plain": [
       "      [,1] [,2] [,3] [,4] [,5] [,6] [,7] [,8] [,9] [,10] [,11] [,12] [,13]\n",
       " [1,]  0     0    0    0    0    0    0    0    0    0   ...     0     0  \n",
       " [2,]  0     0    0    0    0    0    0    0    0    0   ...     0     0  \n",
       " [3,]  0     0    0    0    0    0    0    0    0    0   ...     0     0  \n",
       " [4,]  0     0    0    0    0    0    0    0    0    0   ...     0     1  \n",
       " [5,]  0     0    0    0    0    0    0    0    0    0   ...    54     0  \n",
       " [6,]  0     0    0    0    0    0    0    0    0    0   ...   144   123  \n",
       " [7,]  0     0    0    0    0    0    0    0    0    0   ...   107   156  \n",
       " [8,]  0     0    0    0    0    0    0    0    0    0   ...   216   163  \n",
       " [9,]  0     0    0    0    0    0    0    0    0    1   ...   223   223  \n",
       "[10,]  0     0    0    0    0    0    0    0    0    0   ...   235   227  \n",
       "[11,]  0     0    0    0    0    0    0    0    0    0   ...   180   212  \n",
       "[12,]  0     0    0    0    0    0    0    0    0    1   ...   169   227  \n",
       "[13,]  0     0    0    0    0    0    0    0    0    0   ...   198   221  \n",
       "[14,]  0     0    0    0    0    0    0    0    0    4   ...   232   213  \n",
       "[15,]  0     0    1    4    6    7    2    0    0    0   ...   222   221  \n",
       "[16,]  0     3    0    0    0    0    0    0    0   62   ...   211   218  \n",
       "[17,]  0     0    0    0   18   44   82  107  189  228   ...   224   234  \n",
       "[18,]  0    57  187  208  224  221  224  208  204  214   ...   255   255  \n",
       "[19,]  3   202  228  224  221  211  211  214  205  205   ...   188   154  \n",
       "[20,] 98   233  198  210  222  229  229  234  249  220   ...   168   219  \n",
       "[21,] 75   204  212  204  193  205  211  225  216  185   ...   239   223  \n",
       "[22,] 48   203  183  194  213  197  185  190  194  192   ...   199   206  \n",
       "[23,]  0   122  219  193  179  171  183  196  204  210   ...   195   191  \n",
       "[24,]  0     0   74  189  212  191  175  172  175  181   ...   210   210  \n",
       "[25,]  2     0    0    0   66  200  222  237  239  242   ...   182   182  \n",
       "[26,]  0     0    0    0    0    0    0   40   61   44   ...     0     0  \n",
       "[27,]  0     0    0    0    0    0    0    0    0    0   ...     0     0  \n",
       "[28,]  0     0    0    0    0    0    0    0    0    0   ...     0     0  \n",
       "      [,14] [,15] [,16] [,17] [,18] [,19] [,20] [,21]\n",
       " [1,]   0     0     0     0     0     0     0     0  \n",
       " [2,]   0     0     0     0     0     0     0     0  \n",
       " [3,]   0     0     0     0     0     0     0     0  \n",
       " [4,]   4     0     0     0     0     1     1     0  \n",
       " [5,]   0     0     1     3     4     0     0     3  \n",
       " [6,]  23     0     0     0     0    12    10     0  \n",
       " [7,] 161   109    64    23    77   130    72    15  \n",
       " [8,] 127   121   122   146   141    88   172    66  \n",
       " [9,] 215   213   164   127   123   196   229     0  \n",
       "[10,] 224   222   224   221   223   245   173     0  \n",
       "[11,] 210   211   213   223   220   243   202     0  \n",
       "[12,] 208   218   224   212   226   197   209    52  \n",
       "[13,] 215   213   222   220   245   119   167    56  \n",
       "[14,] 218   223   234   217   217   209    92     0  \n",
       "[15,] 216   223   229   215   218   255    77     0  \n",
       "[16,] 224   223   219   215   224   244   159     0  \n",
       "[17,] 176   188   250   248   233   238   215     0  \n",
       "[18,] 221   234   221   211   220   232   246     0  \n",
       "[19,] 191   210   204   209   222   228   225     0  \n",
       "[20,] 221   215   217   223   223   224   229    29  \n",
       "[21,] 218   212   209   222   220   221   230    67  \n",
       "[22,] 186   181   177   172   181   205   206   115  \n",
       "[23,] 198   192   176   156   167   177   210    92  \n",
       "[24,] 211   188   188   194   192   216   170     0  \n",
       "[25,] 181   176   166   168    99    58     0     0  \n",
       "[26,]   0     0     0     0     0     0     0     0  \n",
       "[27,]   0     0     0     0     0     0     0     0  \n",
       "[28,]   0     0     0     0     0     0     0     0  "
      ]
     },
     "metadata": {},
     "output_type": "display_data"
    }
   ],
   "source": [
    "data_train$x[1,,]"
   ]
  },
  {
   "cell_type": "markdown",
   "metadata": {},
   "source": [
    "## Exercise 2.2\n",
    "Now that you have seen the pixel values, rescale the **training and test datasets** so that they are in the range 0 to 1. Like last week.\n",
    "\n",
    "**Hint**: Like last week, use R's `min` and `max` functions to find out the minimum and maximum."
   ]
  },
  {
   "cell_type": "code",
   "execution_count": 5,
   "metadata": {},
   "outputs": [],
   "source": [
    "data_train$x <- data_train$x / 255\n",
    "data_test$x <- data_test$x / 255"
   ]
  },
  {
   "cell_type": "markdown",
   "metadata": {},
   "source": [
    "## Exercise 2.3\n",
    "Verify that you have correctly rescaled a single image by slicing out the same image as in exercise 2.1."
   ]
  },
  {
   "cell_type": "code",
   "execution_count": 6,
   "metadata": {},
   "outputs": [
    {
     "data": {
      "text/html": [
       "<table>\n",
       "<caption>A matrix: 28 × 28 of type dbl</caption>\n",
       "<tbody>\n",
       "\t<tr><td>0.000000000</td><td>0.00000000</td><td>0.000000000</td><td>0.00000000</td><td>0.00000000</td><td>0.00000000</td><td>0.000000000</td><td>0.0000000</td><td>0.0000000</td><td>0.000000000</td><td>...</td><td>0.0000000</td><td>0.000000000</td><td>0.00000000</td><td>0.0000000</td><td>0.000000000</td><td>0.00000000</td><td>0.00000000</td><td>0.000000000</td><td>0.000000000</td><td>0.00000000</td></tr>\n",
       "\t<tr><td>0.000000000</td><td>0.00000000</td><td>0.000000000</td><td>0.00000000</td><td>0.00000000</td><td>0.00000000</td><td>0.000000000</td><td>0.0000000</td><td>0.0000000</td><td>0.000000000</td><td>...</td><td>0.0000000</td><td>0.000000000</td><td>0.00000000</td><td>0.0000000</td><td>0.000000000</td><td>0.00000000</td><td>0.00000000</td><td>0.000000000</td><td>0.000000000</td><td>0.00000000</td></tr>\n",
       "\t<tr><td>0.000000000</td><td>0.00000000</td><td>0.000000000</td><td>0.00000000</td><td>0.00000000</td><td>0.00000000</td><td>0.000000000</td><td>0.0000000</td><td>0.0000000</td><td>0.000000000</td><td>...</td><td>0.0000000</td><td>0.000000000</td><td>0.00000000</td><td>0.0000000</td><td>0.000000000</td><td>0.00000000</td><td>0.00000000</td><td>0.000000000</td><td>0.000000000</td><td>0.00000000</td></tr>\n",
       "\t<tr><td>0.000000000</td><td>0.00000000</td><td>0.000000000</td><td>0.00000000</td><td>0.00000000</td><td>0.00000000</td><td>0.000000000</td><td>0.0000000</td><td>0.0000000</td><td>0.000000000</td><td>...</td><td>0.0000000</td><td>0.003921569</td><td>0.01568627</td><td>0.0000000</td><td>0.000000000</td><td>0.00000000</td><td>0.00000000</td><td>0.003921569</td><td>0.003921569</td><td>0.00000000</td></tr>\n",
       "\t<tr><td>0.000000000</td><td>0.00000000</td><td>0.000000000</td><td>0.00000000</td><td>0.00000000</td><td>0.00000000</td><td>0.000000000</td><td>0.0000000</td><td>0.0000000</td><td>0.000000000</td><td>...</td><td>0.2117647</td><td>0.000000000</td><td>0.00000000</td><td>0.0000000</td><td>0.003921569</td><td>0.01176471</td><td>0.01568627</td><td>0.000000000</td><td>0.000000000</td><td>0.01176471</td></tr>\n",
       "\t<tr><td>0.000000000</td><td>0.00000000</td><td>0.000000000</td><td>0.00000000</td><td>0.00000000</td><td>0.00000000</td><td>0.000000000</td><td>0.0000000</td><td>0.0000000</td><td>0.000000000</td><td>...</td><td>0.5647059</td><td>0.482352941</td><td>0.09019608</td><td>0.0000000</td><td>0.000000000</td><td>0.00000000</td><td>0.00000000</td><td>0.047058824</td><td>0.039215686</td><td>0.00000000</td></tr>\n",
       "\t<tr><td>0.000000000</td><td>0.00000000</td><td>0.000000000</td><td>0.00000000</td><td>0.00000000</td><td>0.00000000</td><td>0.000000000</td><td>0.0000000</td><td>0.0000000</td><td>0.000000000</td><td>...</td><td>0.4196078</td><td>0.611764706</td><td>0.63137255</td><td>0.4274510</td><td>0.250980392</td><td>0.09019608</td><td>0.30196078</td><td>0.509803922</td><td>0.282352941</td><td>0.05882353</td></tr>\n",
       "\t<tr><td>0.000000000</td><td>0.00000000</td><td>0.000000000</td><td>0.00000000</td><td>0.00000000</td><td>0.00000000</td><td>0.000000000</td><td>0.0000000</td><td>0.0000000</td><td>0.000000000</td><td>...</td><td>0.8470588</td><td>0.639215686</td><td>0.49803922</td><td>0.4745098</td><td>0.478431373</td><td>0.57254902</td><td>0.55294118</td><td>0.345098039</td><td>0.674509804</td><td>0.25882353</td></tr>\n",
       "\t<tr><td>0.000000000</td><td>0.00000000</td><td>0.000000000</td><td>0.00000000</td><td>0.00000000</td><td>0.00000000</td><td>0.000000000</td><td>0.0000000</td><td>0.0000000</td><td>0.003921569</td><td>...</td><td>0.8745098</td><td>0.874509804</td><td>0.84313725</td><td>0.8352941</td><td>0.643137255</td><td>0.49803922</td><td>0.48235294</td><td>0.768627451</td><td>0.898039216</td><td>0.00000000</td></tr>\n",
       "\t<tr><td>0.000000000</td><td>0.00000000</td><td>0.000000000</td><td>0.00000000</td><td>0.00000000</td><td>0.00000000</td><td>0.000000000</td><td>0.0000000</td><td>0.0000000</td><td>0.000000000</td><td>...</td><td>0.9215686</td><td>0.890196078</td><td>0.87843137</td><td>0.8705882</td><td>0.878431373</td><td>0.86666667</td><td>0.87450980</td><td>0.960784314</td><td>0.678431373</td><td>0.00000000</td></tr>\n",
       "\t<tr><td>0.000000000</td><td>0.00000000</td><td>0.000000000</td><td>0.00000000</td><td>0.00000000</td><td>0.00000000</td><td>0.000000000</td><td>0.0000000</td><td>0.0000000</td><td>0.000000000</td><td>...</td><td>0.7058824</td><td>0.831372549</td><td>0.82352941</td><td>0.8274510</td><td>0.835294118</td><td>0.87450980</td><td>0.86274510</td><td>0.952941176</td><td>0.792156863</td><td>0.00000000</td></tr>\n",
       "\t<tr><td>0.000000000</td><td>0.00000000</td><td>0.000000000</td><td>0.00000000</td><td>0.00000000</td><td>0.00000000</td><td>0.000000000</td><td>0.0000000</td><td>0.0000000</td><td>0.003921569</td><td>...</td><td>0.6627451</td><td>0.890196078</td><td>0.81568627</td><td>0.8549020</td><td>0.878431373</td><td>0.83137255</td><td>0.88627451</td><td>0.772549020</td><td>0.819607843</td><td>0.20392157</td></tr>\n",
       "\t<tr><td>0.000000000</td><td>0.00000000</td><td>0.000000000</td><td>0.00000000</td><td>0.00000000</td><td>0.00000000</td><td>0.000000000</td><td>0.0000000</td><td>0.0000000</td><td>0.000000000</td><td>...</td><td>0.7764706</td><td>0.866666667</td><td>0.84313725</td><td>0.8352941</td><td>0.870588235</td><td>0.86274510</td><td>0.96078431</td><td>0.466666667</td><td>0.654901961</td><td>0.21960784</td></tr>\n",
       "\t<tr><td>0.000000000</td><td>0.00000000</td><td>0.000000000</td><td>0.00000000</td><td>0.00000000</td><td>0.00000000</td><td>0.000000000</td><td>0.0000000</td><td>0.0000000</td><td>0.015686275</td><td>...</td><td>0.9098039</td><td>0.835294118</td><td>0.85490196</td><td>0.8745098</td><td>0.917647059</td><td>0.85098039</td><td>0.85098039</td><td>0.819607843</td><td>0.360784314</td><td>0.00000000</td></tr>\n",
       "\t<tr><td>0.000000000</td><td>0.00000000</td><td>0.003921569</td><td>0.01568627</td><td>0.02352941</td><td>0.02745098</td><td>0.007843137</td><td>0.0000000</td><td>0.0000000</td><td>0.000000000</td><td>...</td><td>0.8705882</td><td>0.866666667</td><td>0.84705882</td><td>0.8745098</td><td>0.898039216</td><td>0.84313725</td><td>0.85490196</td><td>1.000000000</td><td>0.301960784</td><td>0.00000000</td></tr>\n",
       "\t<tr><td>0.000000000</td><td>0.01176471</td><td>0.000000000</td><td>0.00000000</td><td>0.00000000</td><td>0.00000000</td><td>0.000000000</td><td>0.0000000</td><td>0.0000000</td><td>0.243137255</td><td>...</td><td>0.8274510</td><td>0.854901961</td><td>0.87843137</td><td>0.8745098</td><td>0.858823529</td><td>0.84313725</td><td>0.87843137</td><td>0.956862745</td><td>0.623529412</td><td>0.00000000</td></tr>\n",
       "\t<tr><td>0.000000000</td><td>0.00000000</td><td>0.000000000</td><td>0.00000000</td><td>0.07058824</td><td>0.17254902</td><td>0.321568627</td><td>0.4196078</td><td>0.7411765</td><td>0.894117647</td><td>...</td><td>0.8784314</td><td>0.917647059</td><td>0.69019608</td><td>0.7372549</td><td>0.980392157</td><td>0.97254902</td><td>0.91372549</td><td>0.933333333</td><td>0.843137255</td><td>0.00000000</td></tr>\n",
       "\t<tr><td>0.000000000</td><td>0.22352941</td><td>0.733333333</td><td>0.81568627</td><td>0.87843137</td><td>0.86666667</td><td>0.878431373</td><td>0.8156863</td><td>0.8000000</td><td>0.839215686</td><td>...</td><td>1.0000000</td><td>1.000000000</td><td>0.86666667</td><td>0.9176471</td><td>0.866666667</td><td>0.82745098</td><td>0.86274510</td><td>0.909803922</td><td>0.964705882</td><td>0.00000000</td></tr>\n",
       "\t<tr><td>0.011764706</td><td>0.79215686</td><td>0.894117647</td><td>0.87843137</td><td>0.86666667</td><td>0.82745098</td><td>0.827450980</td><td>0.8392157</td><td>0.8039216</td><td>0.803921569</td><td>...</td><td>0.7372549</td><td>0.603921569</td><td>0.74901961</td><td>0.8235294</td><td>0.800000000</td><td>0.81960784</td><td>0.87058824</td><td>0.894117647</td><td>0.882352941</td><td>0.00000000</td></tr>\n",
       "\t<tr><td>0.384313725</td><td>0.91372549</td><td>0.776470588</td><td>0.82352941</td><td>0.87058824</td><td>0.89803922</td><td>0.898039216</td><td>0.9176471</td><td>0.9764706</td><td>0.862745098</td><td>...</td><td>0.6588235</td><td>0.858823529</td><td>0.86666667</td><td>0.8431373</td><td>0.850980392</td><td>0.87450980</td><td>0.87450980</td><td>0.878431373</td><td>0.898039216</td><td>0.11372549</td></tr>\n",
       "\t<tr><td>0.294117647</td><td>0.80000000</td><td>0.831372549</td><td>0.80000000</td><td>0.75686275</td><td>0.80392157</td><td>0.827450980</td><td>0.8823529</td><td>0.8470588</td><td>0.725490196</td><td>...</td><td>0.9372549</td><td>0.874509804</td><td>0.85490196</td><td>0.8313725</td><td>0.819607843</td><td>0.87058824</td><td>0.86274510</td><td>0.866666667</td><td>0.901960784</td><td>0.26274510</td></tr>\n",
       "\t<tr><td>0.188235294</td><td>0.79607843</td><td>0.717647059</td><td>0.76078431</td><td>0.83529412</td><td>0.77254902</td><td>0.725490196</td><td>0.7450980</td><td>0.7607843</td><td>0.752941176</td><td>...</td><td>0.7803922</td><td>0.807843137</td><td>0.72941176</td><td>0.7098039</td><td>0.694117647</td><td>0.67450980</td><td>0.70980392</td><td>0.803921569</td><td>0.807843137</td><td>0.45098039</td></tr>\n",
       "\t<tr><td>0.000000000</td><td>0.47843137</td><td>0.858823529</td><td>0.75686275</td><td>0.70196078</td><td>0.67058824</td><td>0.717647059</td><td>0.7686275</td><td>0.8000000</td><td>0.823529412</td><td>...</td><td>0.7647059</td><td>0.749019608</td><td>0.77647059</td><td>0.7529412</td><td>0.690196078</td><td>0.61176471</td><td>0.65490196</td><td>0.694117647</td><td>0.823529412</td><td>0.36078431</td></tr>\n",
       "\t<tr><td>0.000000000</td><td>0.00000000</td><td>0.290196078</td><td>0.74117647</td><td>0.83137255</td><td>0.74901961</td><td>0.686274510</td><td>0.6745098</td><td>0.6862745</td><td>0.709803922</td><td>...</td><td>0.8235294</td><td>0.823529412</td><td>0.82745098</td><td>0.7372549</td><td>0.737254902</td><td>0.76078431</td><td>0.75294118</td><td>0.847058824</td><td>0.666666667</td><td>0.00000000</td></tr>\n",
       "\t<tr><td>0.007843137</td><td>0.00000000</td><td>0.000000000</td><td>0.00000000</td><td>0.25882353</td><td>0.78431373</td><td>0.870588235</td><td>0.9294118</td><td>0.9372549</td><td>0.949019608</td><td>...</td><td>0.7137255</td><td>0.713725490</td><td>0.70980392</td><td>0.6901961</td><td>0.650980392</td><td>0.65882353</td><td>0.38823529</td><td>0.227450980</td><td>0.000000000</td><td>0.00000000</td></tr>\n",
       "\t<tr><td>0.000000000</td><td>0.00000000</td><td>0.000000000</td><td>0.00000000</td><td>0.00000000</td><td>0.00000000</td><td>0.000000000</td><td>0.1568627</td><td>0.2392157</td><td>0.172549020</td><td>...</td><td>0.0000000</td><td>0.000000000</td><td>0.00000000</td><td>0.0000000</td><td>0.000000000</td><td>0.00000000</td><td>0.00000000</td><td>0.000000000</td><td>0.000000000</td><td>0.00000000</td></tr>\n",
       "\t<tr><td>0.000000000</td><td>0.00000000</td><td>0.000000000</td><td>0.00000000</td><td>0.00000000</td><td>0.00000000</td><td>0.000000000</td><td>0.0000000</td><td>0.0000000</td><td>0.000000000</td><td>...</td><td>0.0000000</td><td>0.000000000</td><td>0.00000000</td><td>0.0000000</td><td>0.000000000</td><td>0.00000000</td><td>0.00000000</td><td>0.000000000</td><td>0.000000000</td><td>0.00000000</td></tr>\n",
       "\t<tr><td>0.000000000</td><td>0.00000000</td><td>0.000000000</td><td>0.00000000</td><td>0.00000000</td><td>0.00000000</td><td>0.000000000</td><td>0.0000000</td><td>0.0000000</td><td>0.000000000</td><td>...</td><td>0.0000000</td><td>0.000000000</td><td>0.00000000</td><td>0.0000000</td><td>0.000000000</td><td>0.00000000</td><td>0.00000000</td><td>0.000000000</td><td>0.000000000</td><td>0.00000000</td></tr>\n",
       "</tbody>\n",
       "</table>\n"
      ],
      "text/latex": [
       "A matrix: 28 × 28 of type dbl\n",
       "\\begin{tabular}{llllllllllllllllllllllllllll}\n",
       "\t 0.000000000 & 0.00000000 & 0.000000000 & 0.00000000 & 0.00000000 & 0.00000000 & 0.000000000 & 0.0000000 & 0.0000000 & 0.000000000 & 0.000000000 & 0.000000000 & 0.000000000 & 0.0000000 & 0.0000000 & 0.00000000 & 0.0000000 & 0.0000000 & 0.0000000 & 0.000000000 & 0.00000000 & 0.0000000 & 0.000000000 & 0.00000000 & 0.00000000 & 0.000000000 & 0.000000000 & 0.00000000\\\\\n",
       "\t 0.000000000 & 0.00000000 & 0.000000000 & 0.00000000 & 0.00000000 & 0.00000000 & 0.000000000 & 0.0000000 & 0.0000000 & 0.000000000 & 0.000000000 & 0.000000000 & 0.000000000 & 0.0000000 & 0.0000000 & 0.00000000 & 0.0000000 & 0.0000000 & 0.0000000 & 0.000000000 & 0.00000000 & 0.0000000 & 0.000000000 & 0.00000000 & 0.00000000 & 0.000000000 & 0.000000000 & 0.00000000\\\\\n",
       "\t 0.000000000 & 0.00000000 & 0.000000000 & 0.00000000 & 0.00000000 & 0.00000000 & 0.000000000 & 0.0000000 & 0.0000000 & 0.000000000 & 0.000000000 & 0.000000000 & 0.000000000 & 0.0000000 & 0.0000000 & 0.00000000 & 0.0000000 & 0.0000000 & 0.0000000 & 0.000000000 & 0.00000000 & 0.0000000 & 0.000000000 & 0.00000000 & 0.00000000 & 0.000000000 & 0.000000000 & 0.00000000\\\\\n",
       "\t 0.000000000 & 0.00000000 & 0.000000000 & 0.00000000 & 0.00000000 & 0.00000000 & 0.000000000 & 0.0000000 & 0.0000000 & 0.000000000 & 0.000000000 & 0.000000000 & 0.003921569 & 0.0000000 & 0.0000000 & 0.05098039 & 0.2862745 & 0.0000000 & 0.0000000 & 0.003921569 & 0.01568627 & 0.0000000 & 0.000000000 & 0.00000000 & 0.00000000 & 0.003921569 & 0.003921569 & 0.00000000\\\\\n",
       "\t 0.000000000 & 0.00000000 & 0.000000000 & 0.00000000 & 0.00000000 & 0.00000000 & 0.000000000 & 0.0000000 & 0.0000000 & 0.000000000 & 0.000000000 & 0.000000000 & 0.011764706 & 0.0000000 & 0.1411765 & 0.53333333 & 0.4980392 & 0.2431373 & 0.2117647 & 0.000000000 & 0.00000000 & 0.0000000 & 0.003921569 & 0.01176471 & 0.01568627 & 0.000000000 & 0.000000000 & 0.01176471\\\\\n",
       "\t 0.000000000 & 0.00000000 & 0.000000000 & 0.00000000 & 0.00000000 & 0.00000000 & 0.000000000 & 0.0000000 & 0.0000000 & 0.000000000 & 0.000000000 & 0.000000000 & 0.023529412 & 0.0000000 & 0.4000000 & 0.80000000 & 0.6901961 & 0.5254902 & 0.5647059 & 0.482352941 & 0.09019608 & 0.0000000 & 0.000000000 & 0.00000000 & 0.00000000 & 0.047058824 & 0.039215686 & 0.00000000\\\\\n",
       "\t 0.000000000 & 0.00000000 & 0.000000000 & 0.00000000 & 0.00000000 & 0.00000000 & 0.000000000 & 0.0000000 & 0.0000000 & 0.000000000 & 0.000000000 & 0.000000000 & 0.000000000 & 0.0000000 & 0.6078431 & 0.92549020 & 0.8117647 & 0.6980392 & 0.4196078 & 0.611764706 & 0.63137255 & 0.4274510 & 0.250980392 & 0.09019608 & 0.30196078 & 0.509803922 & 0.282352941 & 0.05882353\\\\\n",
       "\t 0.000000000 & 0.00000000 & 0.000000000 & 0.00000000 & 0.00000000 & 0.00000000 & 0.000000000 & 0.0000000 & 0.0000000 & 0.000000000 & 0.000000000 & 0.003921569 & 0.000000000 & 0.2705882 & 0.8117647 & 0.87450980 & 0.8549020 & 0.8470588 & 0.8470588 & 0.639215686 & 0.49803922 & 0.4745098 & 0.478431373 & 0.57254902 & 0.55294118 & 0.345098039 & 0.674509804 & 0.25882353\\\\\n",
       "\t 0.000000000 & 0.00000000 & 0.000000000 & 0.00000000 & 0.00000000 & 0.00000000 & 0.000000000 & 0.0000000 & 0.0000000 & 0.003921569 & 0.003921569 & 0.003921569 & 0.000000000 & 0.7843137 & 0.9098039 & 0.90980392 & 0.9137255 & 0.8980392 & 0.8745098 & 0.874509804 & 0.84313725 & 0.8352941 & 0.643137255 & 0.49803922 & 0.48235294 & 0.768627451 & 0.898039216 & 0.00000000\\\\\n",
       "\t 0.000000000 & 0.00000000 & 0.000000000 & 0.00000000 & 0.00000000 & 0.00000000 & 0.000000000 & 0.0000000 & 0.0000000 & 0.000000000 & 0.000000000 & 0.000000000 & 0.000000000 & 0.7176471 & 0.8823529 & 0.84705882 & 0.8745098 & 0.8941176 & 0.9215686 & 0.890196078 & 0.87843137 & 0.8705882 & 0.878431373 & 0.86666667 & 0.87450980 & 0.960784314 & 0.678431373 & 0.00000000\\\\\n",
       "\t 0.000000000 & 0.00000000 & 0.000000000 & 0.00000000 & 0.00000000 & 0.00000000 & 0.000000000 & 0.0000000 & 0.0000000 & 0.000000000 & 0.000000000 & 0.000000000 & 0.000000000 & 0.7568627 & 0.8941176 & 0.85490196 & 0.8352941 & 0.7764706 & 0.7058824 & 0.831372549 & 0.82352941 & 0.8274510 & 0.835294118 & 0.87450980 & 0.86274510 & 0.952941176 & 0.792156863 & 0.00000000\\\\\n",
       "\t 0.000000000 & 0.00000000 & 0.000000000 & 0.00000000 & 0.00000000 & 0.00000000 & 0.000000000 & 0.0000000 & 0.0000000 & 0.003921569 & 0.011764706 & 0.000000000 & 0.047058824 & 0.8588235 & 0.8627451 & 0.83137255 & 0.8549020 & 0.7529412 & 0.6627451 & 0.890196078 & 0.81568627 & 0.8549020 & 0.878431373 & 0.83137255 & 0.88627451 & 0.772549020 & 0.819607843 & 0.20392157\\\\\n",
       "\t 0.000000000 & 0.00000000 & 0.000000000 & 0.00000000 & 0.00000000 & 0.00000000 & 0.000000000 & 0.0000000 & 0.0000000 & 0.000000000 & 0.023529412 & 0.000000000 & 0.388235294 & 0.9568627 & 0.8705882 & 0.86274510 & 0.8549020 & 0.7960784 & 0.7764706 & 0.866666667 & 0.84313725 & 0.8352941 & 0.870588235 & 0.86274510 & 0.96078431 & 0.466666667 & 0.654901961 & 0.21960784\\\\\n",
       "\t 0.000000000 & 0.00000000 & 0.000000000 & 0.00000000 & 0.00000000 & 0.00000000 & 0.000000000 & 0.0000000 & 0.0000000 & 0.015686275 & 0.000000000 & 0.000000000 & 0.215686275 & 0.9254902 & 0.8941176 & 0.90196078 & 0.8941176 & 0.9411765 & 0.9098039 & 0.835294118 & 0.85490196 & 0.8745098 & 0.917647059 & 0.85098039 & 0.85098039 & 0.819607843 & 0.360784314 & 0.00000000\\\\\n",
       "\t 0.000000000 & 0.00000000 & 0.003921569 & 0.01568627 & 0.02352941 & 0.02745098 & 0.007843137 & 0.0000000 & 0.0000000 & 0.000000000 & 0.000000000 & 0.000000000 & 0.929411765 & 0.8862745 & 0.8509804 & 0.87450980 & 0.8705882 & 0.8588235 & 0.8705882 & 0.866666667 & 0.84705882 & 0.8745098 & 0.898039216 & 0.84313725 & 0.85490196 & 1.000000000 & 0.301960784 & 0.00000000\\\\\n",
       "\t 0.000000000 & 0.01176471 & 0.000000000 & 0.00000000 & 0.00000000 & 0.00000000 & 0.000000000 & 0.0000000 & 0.0000000 & 0.243137255 & 0.568627451 & 0.800000000 & 0.894117647 & 0.8117647 & 0.8352941 & 0.86666667 & 0.8549020 & 0.8156863 & 0.8274510 & 0.854901961 & 0.87843137 & 0.8745098 & 0.858823529 & 0.84313725 & 0.87843137 & 0.956862745 & 0.623529412 & 0.00000000\\\\\n",
       "\t 0.000000000 & 0.00000000 & 0.000000000 & 0.00000000 & 0.07058824 & 0.17254902 & 0.321568627 & 0.4196078 & 0.7411765 & 0.894117647 & 0.862745098 & 0.870588235 & 0.850980392 & 0.8862745 & 0.7843137 & 0.80392157 & 0.8274510 & 0.9019608 & 0.8784314 & 0.917647059 & 0.69019608 & 0.7372549 & 0.980392157 & 0.97254902 & 0.91372549 & 0.933333333 & 0.843137255 & 0.00000000\\\\\n",
       "\t 0.000000000 & 0.22352941 & 0.733333333 & 0.81568627 & 0.87843137 & 0.86666667 & 0.878431373 & 0.8156863 & 0.8000000 & 0.839215686 & 0.815686275 & 0.819607843 & 0.784313725 & 0.6235294 & 0.9607843 & 0.75686275 & 0.8078431 & 0.8745098 & 1.0000000 & 1.000000000 & 0.86666667 & 0.9176471 & 0.866666667 & 0.82745098 & 0.86274510 & 0.909803922 & 0.964705882 & 0.00000000\\\\\n",
       "\t 0.011764706 & 0.79215686 & 0.894117647 & 0.87843137 & 0.86666667 & 0.82745098 & 0.827450980 & 0.8392157 & 0.8039216 & 0.803921569 & 0.803921569 & 0.862745098 & 0.941176471 & 0.3137255 & 0.5882353 & 1.00000000 & 0.8980392 & 0.8666667 & 0.7372549 & 0.603921569 & 0.74901961 & 0.8235294 & 0.800000000 & 0.81960784 & 0.87058824 & 0.894117647 & 0.882352941 & 0.00000000\\\\\n",
       "\t 0.384313725 & 0.91372549 & 0.776470588 & 0.82352941 & 0.87058824 & 0.89803922 & 0.898039216 & 0.9176471 & 0.9764706 & 0.862745098 & 0.760784314 & 0.843137255 & 0.850980392 & 0.9450980 & 0.2549020 & 0.28627451 & 0.4156863 & 0.4588235 & 0.6588235 & 0.858823529 & 0.86666667 & 0.8431373 & 0.850980392 & 0.87450980 & 0.87450980 & 0.878431373 & 0.898039216 & 0.11372549\\\\\n",
       "\t 0.294117647 & 0.80000000 & 0.831372549 & 0.80000000 & 0.75686275 & 0.80392157 & 0.827450980 & 0.8823529 & 0.8470588 & 0.725490196 & 0.772549020 & 0.807843137 & 0.776470588 & 0.8352941 & 0.9411765 & 0.76470588 & 0.8901961 & 0.9607843 & 0.9372549 & 0.874509804 & 0.85490196 & 0.8313725 & 0.819607843 & 0.87058824 & 0.86274510 & 0.866666667 & 0.901960784 & 0.26274510\\\\\n",
       "\t 0.188235294 & 0.79607843 & 0.717647059 & 0.76078431 & 0.83529412 & 0.77254902 & 0.725490196 & 0.7450980 & 0.7607843 & 0.752941176 & 0.792156863 & 0.839215686 & 0.858823529 & 0.8666667 & 0.8627451 & 0.92549020 & 0.8823529 & 0.8470588 & 0.7803922 & 0.807843137 & 0.72941176 & 0.7098039 & 0.694117647 & 0.67450980 & 0.70980392 & 0.803921569 & 0.807843137 & 0.45098039\\\\\n",
       "\t 0.000000000 & 0.47843137 & 0.858823529 & 0.75686275 & 0.70196078 & 0.67058824 & 0.717647059 & 0.7686275 & 0.8000000 & 0.823529412 & 0.835294118 & 0.811764706 & 0.827450980 & 0.8235294 & 0.7843137 & 0.76862745 & 0.7607843 & 0.7490196 & 0.7647059 & 0.749019608 & 0.77647059 & 0.7529412 & 0.690196078 & 0.61176471 & 0.65490196 & 0.694117647 & 0.823529412 & 0.36078431\\\\\n",
       "\t 0.000000000 & 0.00000000 & 0.290196078 & 0.74117647 & 0.83137255 & 0.74901961 & 0.686274510 & 0.6745098 & 0.6862745 & 0.709803922 & 0.725490196 & 0.737254902 & 0.741176471 & 0.7372549 & 0.7568627 & 0.77647059 & 0.8000000 & 0.8196078 & 0.8235294 & 0.823529412 & 0.82745098 & 0.7372549 & 0.737254902 & 0.76078431 & 0.75294118 & 0.847058824 & 0.666666667 & 0.00000000\\\\\n",
       "\t 0.007843137 & 0.00000000 & 0.000000000 & 0.00000000 & 0.25882353 & 0.78431373 & 0.870588235 & 0.9294118 & 0.9372549 & 0.949019608 & 0.964705882 & 0.952941176 & 0.956862745 & 0.8666667 & 0.8627451 & 0.75686275 & 0.7490196 & 0.7019608 & 0.7137255 & 0.713725490 & 0.70980392 & 0.6901961 & 0.650980392 & 0.65882353 & 0.38823529 & 0.227450980 & 0.000000000 & 0.00000000\\\\\n",
       "\t 0.000000000 & 0.00000000 & 0.000000000 & 0.00000000 & 0.00000000 & 0.00000000 & 0.000000000 & 0.1568627 & 0.2392157 & 0.172549020 & 0.282352941 & 0.160784314 & 0.137254902 & 0.0000000 & 0.0000000 & 0.00000000 & 0.0000000 & 0.0000000 & 0.0000000 & 0.000000000 & 0.00000000 & 0.0000000 & 0.000000000 & 0.00000000 & 0.00000000 & 0.000000000 & 0.000000000 & 0.00000000\\\\\n",
       "\t 0.000000000 & 0.00000000 & 0.000000000 & 0.00000000 & 0.00000000 & 0.00000000 & 0.000000000 & 0.0000000 & 0.0000000 & 0.000000000 & 0.000000000 & 0.000000000 & 0.000000000 & 0.0000000 & 0.0000000 & 0.00000000 & 0.0000000 & 0.0000000 & 0.0000000 & 0.000000000 & 0.00000000 & 0.0000000 & 0.000000000 & 0.00000000 & 0.00000000 & 0.000000000 & 0.000000000 & 0.00000000\\\\\n",
       "\t 0.000000000 & 0.00000000 & 0.000000000 & 0.00000000 & 0.00000000 & 0.00000000 & 0.000000000 & 0.0000000 & 0.0000000 & 0.000000000 & 0.000000000 & 0.000000000 & 0.000000000 & 0.0000000 & 0.0000000 & 0.00000000 & 0.0000000 & 0.0000000 & 0.0000000 & 0.000000000 & 0.00000000 & 0.0000000 & 0.000000000 & 0.00000000 & 0.00000000 & 0.000000000 & 0.000000000 & 0.00000000\\\\\n",
       "\\end{tabular}\n"
      ],
      "text/markdown": [
       "\n",
       "A matrix: 28 × 28 of type dbl\n",
       "\n",
       "| 0.000000000 | 0.00000000 | 0.000000000 | 0.00000000 | 0.00000000 | 0.00000000 | 0.000000000 | 0.0000000 | 0.0000000 | 0.000000000 | ... | 0.0000000 | 0.000000000 | 0.00000000 | 0.0000000 | 0.000000000 | 0.00000000 | 0.00000000 | 0.000000000 | 0.000000000 | 0.00000000 |\n",
       "| 0.000000000 | 0.00000000 | 0.000000000 | 0.00000000 | 0.00000000 | 0.00000000 | 0.000000000 | 0.0000000 | 0.0000000 | 0.000000000 | ... | 0.0000000 | 0.000000000 | 0.00000000 | 0.0000000 | 0.000000000 | 0.00000000 | 0.00000000 | 0.000000000 | 0.000000000 | 0.00000000 |\n",
       "| 0.000000000 | 0.00000000 | 0.000000000 | 0.00000000 | 0.00000000 | 0.00000000 | 0.000000000 | 0.0000000 | 0.0000000 | 0.000000000 | ... | 0.0000000 | 0.000000000 | 0.00000000 | 0.0000000 | 0.000000000 | 0.00000000 | 0.00000000 | 0.000000000 | 0.000000000 | 0.00000000 |\n",
       "| 0.000000000 | 0.00000000 | 0.000000000 | 0.00000000 | 0.00000000 | 0.00000000 | 0.000000000 | 0.0000000 | 0.0000000 | 0.000000000 | ... | 0.0000000 | 0.003921569 | 0.01568627 | 0.0000000 | 0.000000000 | 0.00000000 | 0.00000000 | 0.003921569 | 0.003921569 | 0.00000000 |\n",
       "| 0.000000000 | 0.00000000 | 0.000000000 | 0.00000000 | 0.00000000 | 0.00000000 | 0.000000000 | 0.0000000 | 0.0000000 | 0.000000000 | ... | 0.2117647 | 0.000000000 | 0.00000000 | 0.0000000 | 0.003921569 | 0.01176471 | 0.01568627 | 0.000000000 | 0.000000000 | 0.01176471 |\n",
       "| 0.000000000 | 0.00000000 | 0.000000000 | 0.00000000 | 0.00000000 | 0.00000000 | 0.000000000 | 0.0000000 | 0.0000000 | 0.000000000 | ... | 0.5647059 | 0.482352941 | 0.09019608 | 0.0000000 | 0.000000000 | 0.00000000 | 0.00000000 | 0.047058824 | 0.039215686 | 0.00000000 |\n",
       "| 0.000000000 | 0.00000000 | 0.000000000 | 0.00000000 | 0.00000000 | 0.00000000 | 0.000000000 | 0.0000000 | 0.0000000 | 0.000000000 | ... | 0.4196078 | 0.611764706 | 0.63137255 | 0.4274510 | 0.250980392 | 0.09019608 | 0.30196078 | 0.509803922 | 0.282352941 | 0.05882353 |\n",
       "| 0.000000000 | 0.00000000 | 0.000000000 | 0.00000000 | 0.00000000 | 0.00000000 | 0.000000000 | 0.0000000 | 0.0000000 | 0.000000000 | ... | 0.8470588 | 0.639215686 | 0.49803922 | 0.4745098 | 0.478431373 | 0.57254902 | 0.55294118 | 0.345098039 | 0.674509804 | 0.25882353 |\n",
       "| 0.000000000 | 0.00000000 | 0.000000000 | 0.00000000 | 0.00000000 | 0.00000000 | 0.000000000 | 0.0000000 | 0.0000000 | 0.003921569 | ... | 0.8745098 | 0.874509804 | 0.84313725 | 0.8352941 | 0.643137255 | 0.49803922 | 0.48235294 | 0.768627451 | 0.898039216 | 0.00000000 |\n",
       "| 0.000000000 | 0.00000000 | 0.000000000 | 0.00000000 | 0.00000000 | 0.00000000 | 0.000000000 | 0.0000000 | 0.0000000 | 0.000000000 | ... | 0.9215686 | 0.890196078 | 0.87843137 | 0.8705882 | 0.878431373 | 0.86666667 | 0.87450980 | 0.960784314 | 0.678431373 | 0.00000000 |\n",
       "| 0.000000000 | 0.00000000 | 0.000000000 | 0.00000000 | 0.00000000 | 0.00000000 | 0.000000000 | 0.0000000 | 0.0000000 | 0.000000000 | ... | 0.7058824 | 0.831372549 | 0.82352941 | 0.8274510 | 0.835294118 | 0.87450980 | 0.86274510 | 0.952941176 | 0.792156863 | 0.00000000 |\n",
       "| 0.000000000 | 0.00000000 | 0.000000000 | 0.00000000 | 0.00000000 | 0.00000000 | 0.000000000 | 0.0000000 | 0.0000000 | 0.003921569 | ... | 0.6627451 | 0.890196078 | 0.81568627 | 0.8549020 | 0.878431373 | 0.83137255 | 0.88627451 | 0.772549020 | 0.819607843 | 0.20392157 |\n",
       "| 0.000000000 | 0.00000000 | 0.000000000 | 0.00000000 | 0.00000000 | 0.00000000 | 0.000000000 | 0.0000000 | 0.0000000 | 0.000000000 | ... | 0.7764706 | 0.866666667 | 0.84313725 | 0.8352941 | 0.870588235 | 0.86274510 | 0.96078431 | 0.466666667 | 0.654901961 | 0.21960784 |\n",
       "| 0.000000000 | 0.00000000 | 0.000000000 | 0.00000000 | 0.00000000 | 0.00000000 | 0.000000000 | 0.0000000 | 0.0000000 | 0.015686275 | ... | 0.9098039 | 0.835294118 | 0.85490196 | 0.8745098 | 0.917647059 | 0.85098039 | 0.85098039 | 0.819607843 | 0.360784314 | 0.00000000 |\n",
       "| 0.000000000 | 0.00000000 | 0.003921569 | 0.01568627 | 0.02352941 | 0.02745098 | 0.007843137 | 0.0000000 | 0.0000000 | 0.000000000 | ... | 0.8705882 | 0.866666667 | 0.84705882 | 0.8745098 | 0.898039216 | 0.84313725 | 0.85490196 | 1.000000000 | 0.301960784 | 0.00000000 |\n",
       "| 0.000000000 | 0.01176471 | 0.000000000 | 0.00000000 | 0.00000000 | 0.00000000 | 0.000000000 | 0.0000000 | 0.0000000 | 0.243137255 | ... | 0.8274510 | 0.854901961 | 0.87843137 | 0.8745098 | 0.858823529 | 0.84313725 | 0.87843137 | 0.956862745 | 0.623529412 | 0.00000000 |\n",
       "| 0.000000000 | 0.00000000 | 0.000000000 | 0.00000000 | 0.07058824 | 0.17254902 | 0.321568627 | 0.4196078 | 0.7411765 | 0.894117647 | ... | 0.8784314 | 0.917647059 | 0.69019608 | 0.7372549 | 0.980392157 | 0.97254902 | 0.91372549 | 0.933333333 | 0.843137255 | 0.00000000 |\n",
       "| 0.000000000 | 0.22352941 | 0.733333333 | 0.81568627 | 0.87843137 | 0.86666667 | 0.878431373 | 0.8156863 | 0.8000000 | 0.839215686 | ... | 1.0000000 | 1.000000000 | 0.86666667 | 0.9176471 | 0.866666667 | 0.82745098 | 0.86274510 | 0.909803922 | 0.964705882 | 0.00000000 |\n",
       "| 0.011764706 | 0.79215686 | 0.894117647 | 0.87843137 | 0.86666667 | 0.82745098 | 0.827450980 | 0.8392157 | 0.8039216 | 0.803921569 | ... | 0.7372549 | 0.603921569 | 0.74901961 | 0.8235294 | 0.800000000 | 0.81960784 | 0.87058824 | 0.894117647 | 0.882352941 | 0.00000000 |\n",
       "| 0.384313725 | 0.91372549 | 0.776470588 | 0.82352941 | 0.87058824 | 0.89803922 | 0.898039216 | 0.9176471 | 0.9764706 | 0.862745098 | ... | 0.6588235 | 0.858823529 | 0.86666667 | 0.8431373 | 0.850980392 | 0.87450980 | 0.87450980 | 0.878431373 | 0.898039216 | 0.11372549 |\n",
       "| 0.294117647 | 0.80000000 | 0.831372549 | 0.80000000 | 0.75686275 | 0.80392157 | 0.827450980 | 0.8823529 | 0.8470588 | 0.725490196 | ... | 0.9372549 | 0.874509804 | 0.85490196 | 0.8313725 | 0.819607843 | 0.87058824 | 0.86274510 | 0.866666667 | 0.901960784 | 0.26274510 |\n",
       "| 0.188235294 | 0.79607843 | 0.717647059 | 0.76078431 | 0.83529412 | 0.77254902 | 0.725490196 | 0.7450980 | 0.7607843 | 0.752941176 | ... | 0.7803922 | 0.807843137 | 0.72941176 | 0.7098039 | 0.694117647 | 0.67450980 | 0.70980392 | 0.803921569 | 0.807843137 | 0.45098039 |\n",
       "| 0.000000000 | 0.47843137 | 0.858823529 | 0.75686275 | 0.70196078 | 0.67058824 | 0.717647059 | 0.7686275 | 0.8000000 | 0.823529412 | ... | 0.7647059 | 0.749019608 | 0.77647059 | 0.7529412 | 0.690196078 | 0.61176471 | 0.65490196 | 0.694117647 | 0.823529412 | 0.36078431 |\n",
       "| 0.000000000 | 0.00000000 | 0.290196078 | 0.74117647 | 0.83137255 | 0.74901961 | 0.686274510 | 0.6745098 | 0.6862745 | 0.709803922 | ... | 0.8235294 | 0.823529412 | 0.82745098 | 0.7372549 | 0.737254902 | 0.76078431 | 0.75294118 | 0.847058824 | 0.666666667 | 0.00000000 |\n",
       "| 0.007843137 | 0.00000000 | 0.000000000 | 0.00000000 | 0.25882353 | 0.78431373 | 0.870588235 | 0.9294118 | 0.9372549 | 0.949019608 | ... | 0.7137255 | 0.713725490 | 0.70980392 | 0.6901961 | 0.650980392 | 0.65882353 | 0.38823529 | 0.227450980 | 0.000000000 | 0.00000000 |\n",
       "| 0.000000000 | 0.00000000 | 0.000000000 | 0.00000000 | 0.00000000 | 0.00000000 | 0.000000000 | 0.1568627 | 0.2392157 | 0.172549020 | ... | 0.0000000 | 0.000000000 | 0.00000000 | 0.0000000 | 0.000000000 | 0.00000000 | 0.00000000 | 0.000000000 | 0.000000000 | 0.00000000 |\n",
       "| 0.000000000 | 0.00000000 | 0.000000000 | 0.00000000 | 0.00000000 | 0.00000000 | 0.000000000 | 0.0000000 | 0.0000000 | 0.000000000 | ... | 0.0000000 | 0.000000000 | 0.00000000 | 0.0000000 | 0.000000000 | 0.00000000 | 0.00000000 | 0.000000000 | 0.000000000 | 0.00000000 |\n",
       "| 0.000000000 | 0.00000000 | 0.000000000 | 0.00000000 | 0.00000000 | 0.00000000 | 0.000000000 | 0.0000000 | 0.0000000 | 0.000000000 | ... | 0.0000000 | 0.000000000 | 0.00000000 | 0.0000000 | 0.000000000 | 0.00000000 | 0.00000000 | 0.000000000 | 0.000000000 | 0.00000000 |\n",
       "\n"
      ],
      "text/plain": [
       "      [,1]        [,2]       [,3]        [,4]       [,5]       [,6]      \n",
       " [1,] 0.000000000 0.00000000 0.000000000 0.00000000 0.00000000 0.00000000\n",
       " [2,] 0.000000000 0.00000000 0.000000000 0.00000000 0.00000000 0.00000000\n",
       " [3,] 0.000000000 0.00000000 0.000000000 0.00000000 0.00000000 0.00000000\n",
       " [4,] 0.000000000 0.00000000 0.000000000 0.00000000 0.00000000 0.00000000\n",
       " [5,] 0.000000000 0.00000000 0.000000000 0.00000000 0.00000000 0.00000000\n",
       " [6,] 0.000000000 0.00000000 0.000000000 0.00000000 0.00000000 0.00000000\n",
       " [7,] 0.000000000 0.00000000 0.000000000 0.00000000 0.00000000 0.00000000\n",
       " [8,] 0.000000000 0.00000000 0.000000000 0.00000000 0.00000000 0.00000000\n",
       " [9,] 0.000000000 0.00000000 0.000000000 0.00000000 0.00000000 0.00000000\n",
       "[10,] 0.000000000 0.00000000 0.000000000 0.00000000 0.00000000 0.00000000\n",
       "[11,] 0.000000000 0.00000000 0.000000000 0.00000000 0.00000000 0.00000000\n",
       "[12,] 0.000000000 0.00000000 0.000000000 0.00000000 0.00000000 0.00000000\n",
       "[13,] 0.000000000 0.00000000 0.000000000 0.00000000 0.00000000 0.00000000\n",
       "[14,] 0.000000000 0.00000000 0.000000000 0.00000000 0.00000000 0.00000000\n",
       "[15,] 0.000000000 0.00000000 0.003921569 0.01568627 0.02352941 0.02745098\n",
       "[16,] 0.000000000 0.01176471 0.000000000 0.00000000 0.00000000 0.00000000\n",
       "[17,] 0.000000000 0.00000000 0.000000000 0.00000000 0.07058824 0.17254902\n",
       "[18,] 0.000000000 0.22352941 0.733333333 0.81568627 0.87843137 0.86666667\n",
       "[19,] 0.011764706 0.79215686 0.894117647 0.87843137 0.86666667 0.82745098\n",
       "[20,] 0.384313725 0.91372549 0.776470588 0.82352941 0.87058824 0.89803922\n",
       "[21,] 0.294117647 0.80000000 0.831372549 0.80000000 0.75686275 0.80392157\n",
       "[22,] 0.188235294 0.79607843 0.717647059 0.76078431 0.83529412 0.77254902\n",
       "[23,] 0.000000000 0.47843137 0.858823529 0.75686275 0.70196078 0.67058824\n",
       "[24,] 0.000000000 0.00000000 0.290196078 0.74117647 0.83137255 0.74901961\n",
       "[25,] 0.007843137 0.00000000 0.000000000 0.00000000 0.25882353 0.78431373\n",
       "[26,] 0.000000000 0.00000000 0.000000000 0.00000000 0.00000000 0.00000000\n",
       "[27,] 0.000000000 0.00000000 0.000000000 0.00000000 0.00000000 0.00000000\n",
       "[28,] 0.000000000 0.00000000 0.000000000 0.00000000 0.00000000 0.00000000\n",
       "      [,7]        [,8]      [,9]      [,10]       [,11] [,12]     [,13]      \n",
       " [1,] 0.000000000 0.0000000 0.0000000 0.000000000 ...   0.0000000 0.000000000\n",
       " [2,] 0.000000000 0.0000000 0.0000000 0.000000000 ...   0.0000000 0.000000000\n",
       " [3,] 0.000000000 0.0000000 0.0000000 0.000000000 ...   0.0000000 0.000000000\n",
       " [4,] 0.000000000 0.0000000 0.0000000 0.000000000 ...   0.0000000 0.003921569\n",
       " [5,] 0.000000000 0.0000000 0.0000000 0.000000000 ...   0.2117647 0.000000000\n",
       " [6,] 0.000000000 0.0000000 0.0000000 0.000000000 ...   0.5647059 0.482352941\n",
       " [7,] 0.000000000 0.0000000 0.0000000 0.000000000 ...   0.4196078 0.611764706\n",
       " [8,] 0.000000000 0.0000000 0.0000000 0.000000000 ...   0.8470588 0.639215686\n",
       " [9,] 0.000000000 0.0000000 0.0000000 0.003921569 ...   0.8745098 0.874509804\n",
       "[10,] 0.000000000 0.0000000 0.0000000 0.000000000 ...   0.9215686 0.890196078\n",
       "[11,] 0.000000000 0.0000000 0.0000000 0.000000000 ...   0.7058824 0.831372549\n",
       "[12,] 0.000000000 0.0000000 0.0000000 0.003921569 ...   0.6627451 0.890196078\n",
       "[13,] 0.000000000 0.0000000 0.0000000 0.000000000 ...   0.7764706 0.866666667\n",
       "[14,] 0.000000000 0.0000000 0.0000000 0.015686275 ...   0.9098039 0.835294118\n",
       "[15,] 0.007843137 0.0000000 0.0000000 0.000000000 ...   0.8705882 0.866666667\n",
       "[16,] 0.000000000 0.0000000 0.0000000 0.243137255 ...   0.8274510 0.854901961\n",
       "[17,] 0.321568627 0.4196078 0.7411765 0.894117647 ...   0.8784314 0.917647059\n",
       "[18,] 0.878431373 0.8156863 0.8000000 0.839215686 ...   1.0000000 1.000000000\n",
       "[19,] 0.827450980 0.8392157 0.8039216 0.803921569 ...   0.7372549 0.603921569\n",
       "[20,] 0.898039216 0.9176471 0.9764706 0.862745098 ...   0.6588235 0.858823529\n",
       "[21,] 0.827450980 0.8823529 0.8470588 0.725490196 ...   0.9372549 0.874509804\n",
       "[22,] 0.725490196 0.7450980 0.7607843 0.752941176 ...   0.7803922 0.807843137\n",
       "[23,] 0.717647059 0.7686275 0.8000000 0.823529412 ...   0.7647059 0.749019608\n",
       "[24,] 0.686274510 0.6745098 0.6862745 0.709803922 ...   0.8235294 0.823529412\n",
       "[25,] 0.870588235 0.9294118 0.9372549 0.949019608 ...   0.7137255 0.713725490\n",
       "[26,] 0.000000000 0.1568627 0.2392157 0.172549020 ...   0.0000000 0.000000000\n",
       "[27,] 0.000000000 0.0000000 0.0000000 0.000000000 ...   0.0000000 0.000000000\n",
       "[28,] 0.000000000 0.0000000 0.0000000 0.000000000 ...   0.0000000 0.000000000\n",
       "      [,14]      [,15]     [,16]       [,17]      [,18]      [,19]      \n",
       " [1,] 0.00000000 0.0000000 0.000000000 0.00000000 0.00000000 0.000000000\n",
       " [2,] 0.00000000 0.0000000 0.000000000 0.00000000 0.00000000 0.000000000\n",
       " [3,] 0.00000000 0.0000000 0.000000000 0.00000000 0.00000000 0.000000000\n",
       " [4,] 0.01568627 0.0000000 0.000000000 0.00000000 0.00000000 0.003921569\n",
       " [5,] 0.00000000 0.0000000 0.003921569 0.01176471 0.01568627 0.000000000\n",
       " [6,] 0.09019608 0.0000000 0.000000000 0.00000000 0.00000000 0.047058824\n",
       " [7,] 0.63137255 0.4274510 0.250980392 0.09019608 0.30196078 0.509803922\n",
       " [8,] 0.49803922 0.4745098 0.478431373 0.57254902 0.55294118 0.345098039\n",
       " [9,] 0.84313725 0.8352941 0.643137255 0.49803922 0.48235294 0.768627451\n",
       "[10,] 0.87843137 0.8705882 0.878431373 0.86666667 0.87450980 0.960784314\n",
       "[11,] 0.82352941 0.8274510 0.835294118 0.87450980 0.86274510 0.952941176\n",
       "[12,] 0.81568627 0.8549020 0.878431373 0.83137255 0.88627451 0.772549020\n",
       "[13,] 0.84313725 0.8352941 0.870588235 0.86274510 0.96078431 0.466666667\n",
       "[14,] 0.85490196 0.8745098 0.917647059 0.85098039 0.85098039 0.819607843\n",
       "[15,] 0.84705882 0.8745098 0.898039216 0.84313725 0.85490196 1.000000000\n",
       "[16,] 0.87843137 0.8745098 0.858823529 0.84313725 0.87843137 0.956862745\n",
       "[17,] 0.69019608 0.7372549 0.980392157 0.97254902 0.91372549 0.933333333\n",
       "[18,] 0.86666667 0.9176471 0.866666667 0.82745098 0.86274510 0.909803922\n",
       "[19,] 0.74901961 0.8235294 0.800000000 0.81960784 0.87058824 0.894117647\n",
       "[20,] 0.86666667 0.8431373 0.850980392 0.87450980 0.87450980 0.878431373\n",
       "[21,] 0.85490196 0.8313725 0.819607843 0.87058824 0.86274510 0.866666667\n",
       "[22,] 0.72941176 0.7098039 0.694117647 0.67450980 0.70980392 0.803921569\n",
       "[23,] 0.77647059 0.7529412 0.690196078 0.61176471 0.65490196 0.694117647\n",
       "[24,] 0.82745098 0.7372549 0.737254902 0.76078431 0.75294118 0.847058824\n",
       "[25,] 0.70980392 0.6901961 0.650980392 0.65882353 0.38823529 0.227450980\n",
       "[26,] 0.00000000 0.0000000 0.000000000 0.00000000 0.00000000 0.000000000\n",
       "[27,] 0.00000000 0.0000000 0.000000000 0.00000000 0.00000000 0.000000000\n",
       "[28,] 0.00000000 0.0000000 0.000000000 0.00000000 0.00000000 0.000000000\n",
       "      [,20]       [,21]     \n",
       " [1,] 0.000000000 0.00000000\n",
       " [2,] 0.000000000 0.00000000\n",
       " [3,] 0.000000000 0.00000000\n",
       " [4,] 0.003921569 0.00000000\n",
       " [5,] 0.000000000 0.01176471\n",
       " [6,] 0.039215686 0.00000000\n",
       " [7,] 0.282352941 0.05882353\n",
       " [8,] 0.674509804 0.25882353\n",
       " [9,] 0.898039216 0.00000000\n",
       "[10,] 0.678431373 0.00000000\n",
       "[11,] 0.792156863 0.00000000\n",
       "[12,] 0.819607843 0.20392157\n",
       "[13,] 0.654901961 0.21960784\n",
       "[14,] 0.360784314 0.00000000\n",
       "[15,] 0.301960784 0.00000000\n",
       "[16,] 0.623529412 0.00000000\n",
       "[17,] 0.843137255 0.00000000\n",
       "[18,] 0.964705882 0.00000000\n",
       "[19,] 0.882352941 0.00000000\n",
       "[20,] 0.898039216 0.11372549\n",
       "[21,] 0.901960784 0.26274510\n",
       "[22,] 0.807843137 0.45098039\n",
       "[23,] 0.823529412 0.36078431\n",
       "[24,] 0.666666667 0.00000000\n",
       "[25,] 0.000000000 0.00000000\n",
       "[26,] 0.000000000 0.00000000\n",
       "[27,] 0.000000000 0.00000000\n",
       "[28,] 0.000000000 0.00000000"
      ]
     },
     "metadata": {},
     "output_type": "display_data"
    }
   ],
   "source": [
    "data_train$x[1,,]"
   ]
  },
  {
   "cell_type": "markdown",
   "metadata": {},
   "source": [
    "## Exercise 3.1\n",
    "Now we will also need to preprocess the labels of the images. First start by displaying the first ten labels in the training set (`data_train$y`)."
   ]
  },
  {
   "cell_type": "code",
   "execution_count": 7,
   "metadata": {},
   "outputs": [
    {
     "data": {
      "text/html": [
       "<ol class=list-inline>\n",
       "\t<li>9</li>\n",
       "\t<li>0</li>\n",
       "\t<li>0</li>\n",
       "\t<li>3</li>\n",
       "\t<li>0</li>\n",
       "\t<li>2</li>\n",
       "\t<li>7</li>\n",
       "\t<li>2</li>\n",
       "\t<li>5</li>\n",
       "\t<li>5</li>\n",
       "</ol>\n"
      ],
      "text/latex": [
       "\\begin{enumerate*}\n",
       "\\item 9\n",
       "\\item 0\n",
       "\\item 0\n",
       "\\item 3\n",
       "\\item 0\n",
       "\\item 2\n",
       "\\item 7\n",
       "\\item 2\n",
       "\\item 5\n",
       "\\item 5\n",
       "\\end{enumerate*}\n"
      ],
      "text/markdown": [
       "1. 9\n",
       "2. 0\n",
       "3. 0\n",
       "4. 3\n",
       "5. 0\n",
       "6. 2\n",
       "7. 7\n",
       "8. 2\n",
       "9. 5\n",
       "10. 5\n",
       "\n",
       "\n"
      ],
      "text/plain": [
       " [1] 9 0 0 3 0 2 7 2 5 5"
      ]
     },
     "metadata": {},
     "output_type": "display_data"
    }
   ],
   "source": [
    "data_train$y[1:10]"
   ]
  },
  {
   "cell_type": "markdown",
   "metadata": {},
   "source": [
    "## Exercise 3.2\n",
    "As you see, the labels range from 0 to 9 (you can verify this if you want to by using the `max` and `min` functions on the labels). We need to convert these labels to one-hot encodings. To do this we use the Keras helper function [`to_categorical()`](https://www.rdocumentation.org/packages/keras/versions/2.2.4/topics/to_categorical). Notice that we have made [`to_categorical()`](https://www.rdocumentation.org/packages/keras/versions/2.2.4/topics/to_categorical) a clickable link which will direct you to the documentation of that function. Use the documentation to guide you in using the function.\n",
    "\n",
    "Apply this function to the **training and test dataset labels** and store the output in `data_train$y` and `data_test$y`, respectively (overwriting the old values).\n",
    "\n",
    "If you want additional quick reading about categorical variables and one-hot encodings see [here](https://machinelearningmastery.com/why-one-hot-encode-data-in-machine-learning/). "
   ]
  },
  {
   "cell_type": "code",
   "execution_count": 8,
   "metadata": {},
   "outputs": [],
   "source": [
    "data_train$y = to_categorical(y = data_train$y, num_classes = 10)\n",
    "data_test$y = to_categorical(y = data_test$y, num_classes = 10)"
   ]
  },
  {
   "cell_type": "markdown",
   "metadata": {},
   "source": [
    "## Exercise 3.3\n",
    "Verify that you have done this correctly by\n",
    "- Displaying the `dim` of the new labels. We have changed each label to a vector, so we should have more dimensions.\n",
    "- Displaying the first ten rows of the labels in the training set (same as in exercise 3.1 but now we have more dimensions). See if they make sense."
   ]
  },
  {
   "cell_type": "code",
   "execution_count": 9,
   "metadata": {},
   "outputs": [
    {
     "data": {
      "text/html": [
       "<ol class=list-inline>\n",
       "\t<li>60000</li>\n",
       "\t<li>10</li>\n",
       "</ol>\n"
      ],
      "text/latex": [
       "\\begin{enumerate*}\n",
       "\\item 60000\n",
       "\\item 10\n",
       "\\end{enumerate*}\n"
      ],
      "text/markdown": [
       "1. 60000\n",
       "2. 10\n",
       "\n",
       "\n"
      ],
      "text/plain": [
       "[1] 60000    10"
      ]
     },
     "metadata": {},
     "output_type": "display_data"
    },
    {
     "data": {
      "text/html": [
       "<ol class=list-inline>\n",
       "\t<li>10000</li>\n",
       "\t<li>10</li>\n",
       "</ol>\n"
      ],
      "text/latex": [
       "\\begin{enumerate*}\n",
       "\\item 10000\n",
       "\\item 10\n",
       "\\end{enumerate*}\n"
      ],
      "text/markdown": [
       "1. 10000\n",
       "2. 10\n",
       "\n",
       "\n"
      ],
      "text/plain": [
       "[1] 10000    10"
      ]
     },
     "metadata": {},
     "output_type": "display_data"
    },
    {
     "data": {
      "text/html": [
       "<table>\n",
       "<caption>A matrix: 10 × 10 of type dbl</caption>\n",
       "<tbody>\n",
       "\t<tr><td>0</td><td>0</td><td>0</td><td>0</td><td>0</td><td>0</td><td>0</td><td>0</td><td>0</td><td>1</td></tr>\n",
       "\t<tr><td>1</td><td>0</td><td>0</td><td>0</td><td>0</td><td>0</td><td>0</td><td>0</td><td>0</td><td>0</td></tr>\n",
       "\t<tr><td>1</td><td>0</td><td>0</td><td>0</td><td>0</td><td>0</td><td>0</td><td>0</td><td>0</td><td>0</td></tr>\n",
       "\t<tr><td>0</td><td>0</td><td>0</td><td>1</td><td>0</td><td>0</td><td>0</td><td>0</td><td>0</td><td>0</td></tr>\n",
       "\t<tr><td>1</td><td>0</td><td>0</td><td>0</td><td>0</td><td>0</td><td>0</td><td>0</td><td>0</td><td>0</td></tr>\n",
       "\t<tr><td>0</td><td>0</td><td>1</td><td>0</td><td>0</td><td>0</td><td>0</td><td>0</td><td>0</td><td>0</td></tr>\n",
       "\t<tr><td>0</td><td>0</td><td>0</td><td>0</td><td>0</td><td>0</td><td>0</td><td>1</td><td>0</td><td>0</td></tr>\n",
       "\t<tr><td>0</td><td>0</td><td>1</td><td>0</td><td>0</td><td>0</td><td>0</td><td>0</td><td>0</td><td>0</td></tr>\n",
       "\t<tr><td>0</td><td>0</td><td>0</td><td>0</td><td>0</td><td>1</td><td>0</td><td>0</td><td>0</td><td>0</td></tr>\n",
       "\t<tr><td>0</td><td>0</td><td>0</td><td>0</td><td>0</td><td>1</td><td>0</td><td>0</td><td>0</td><td>0</td></tr>\n",
       "</tbody>\n",
       "</table>\n"
      ],
      "text/latex": [
       "A matrix: 10 × 10 of type dbl\n",
       "\\begin{tabular}{llllllllll}\n",
       "\t 0 & 0 & 0 & 0 & 0 & 0 & 0 & 0 & 0 & 1\\\\\n",
       "\t 1 & 0 & 0 & 0 & 0 & 0 & 0 & 0 & 0 & 0\\\\\n",
       "\t 1 & 0 & 0 & 0 & 0 & 0 & 0 & 0 & 0 & 0\\\\\n",
       "\t 0 & 0 & 0 & 1 & 0 & 0 & 0 & 0 & 0 & 0\\\\\n",
       "\t 1 & 0 & 0 & 0 & 0 & 0 & 0 & 0 & 0 & 0\\\\\n",
       "\t 0 & 0 & 1 & 0 & 0 & 0 & 0 & 0 & 0 & 0\\\\\n",
       "\t 0 & 0 & 0 & 0 & 0 & 0 & 0 & 1 & 0 & 0\\\\\n",
       "\t 0 & 0 & 1 & 0 & 0 & 0 & 0 & 0 & 0 & 0\\\\\n",
       "\t 0 & 0 & 0 & 0 & 0 & 1 & 0 & 0 & 0 & 0\\\\\n",
       "\t 0 & 0 & 0 & 0 & 0 & 1 & 0 & 0 & 0 & 0\\\\\n",
       "\\end{tabular}\n"
      ],
      "text/markdown": [
       "\n",
       "A matrix: 10 × 10 of type dbl\n",
       "\n",
       "| 0 | 0 | 0 | 0 | 0 | 0 | 0 | 0 | 0 | 1 |\n",
       "| 1 | 0 | 0 | 0 | 0 | 0 | 0 | 0 | 0 | 0 |\n",
       "| 1 | 0 | 0 | 0 | 0 | 0 | 0 | 0 | 0 | 0 |\n",
       "| 0 | 0 | 0 | 1 | 0 | 0 | 0 | 0 | 0 | 0 |\n",
       "| 1 | 0 | 0 | 0 | 0 | 0 | 0 | 0 | 0 | 0 |\n",
       "| 0 | 0 | 1 | 0 | 0 | 0 | 0 | 0 | 0 | 0 |\n",
       "| 0 | 0 | 0 | 0 | 0 | 0 | 0 | 1 | 0 | 0 |\n",
       "| 0 | 0 | 1 | 0 | 0 | 0 | 0 | 0 | 0 | 0 |\n",
       "| 0 | 0 | 0 | 0 | 0 | 1 | 0 | 0 | 0 | 0 |\n",
       "| 0 | 0 | 0 | 0 | 0 | 1 | 0 | 0 | 0 | 0 |\n",
       "\n"
      ],
      "text/plain": [
       "      [,1] [,2] [,3] [,4] [,5] [,6] [,7] [,8] [,9] [,10]\n",
       " [1,] 0    0    0    0    0    0    0    0    0    1    \n",
       " [2,] 1    0    0    0    0    0    0    0    0    0    \n",
       " [3,] 1    0    0    0    0    0    0    0    0    0    \n",
       " [4,] 0    0    0    1    0    0    0    0    0    0    \n",
       " [5,] 1    0    0    0    0    0    0    0    0    0    \n",
       " [6,] 0    0    1    0    0    0    0    0    0    0    \n",
       " [7,] 0    0    0    0    0    0    0    1    0    0    \n",
       " [8,] 0    0    1    0    0    0    0    0    0    0    \n",
       " [9,] 0    0    0    0    0    1    0    0    0    0    \n",
       "[10,] 0    0    0    0    0    1    0    0    0    0    "
      ]
     },
     "metadata": {},
     "output_type": "display_data"
    }
   ],
   "source": [
    "dim(data_train$y)\n",
    "dim(data_test$y)\n",
    "data_train$y[1:10, ]"
   ]
  },
  {
   "cell_type": "markdown",
   "metadata": {},
   "source": [
    "## Exercise 4.1\n",
    "Divide the original training data 80%-20% between the new training and validation set. Make sure that you slice both the images and the labels. If you are copying from the previous week, be careful that now our `y`s have an extra dimension."
   ]
  },
  {
   "cell_type": "code",
   "execution_count": 10,
   "metadata": {},
   "outputs": [],
   "source": [
    "index <- 0.8 * dim(data_train$y)[1]\n",
    "x_val <- data_train$x[-(1:index),,]\n",
    "y_val <- data_train$y[-(1:index),]\n",
    "\n",
    "x_train <- data_train$x[1:index,,]\n",
    "y_train <- data_train$y[1:index,]"
   ]
  },
  {
   "cell_type": "markdown",
   "metadata": {},
   "source": [
    "## Exercise 4.2\n",
    "Verify the dimensions of the two sets using `dim`. They should be\n",
    "- 12000 28 28 for the validation inputs\n",
    "- 12000 10 for the validation one-hot encodings\n",
    "- 48000 28 28 for the training inputs\n",
    "- 48000 10 for the training one-hot encodings"
   ]
  },
  {
   "cell_type": "code",
   "execution_count": 11,
   "metadata": {},
   "outputs": [
    {
     "data": {
      "text/html": [
       "<ol class=list-inline>\n",
       "\t<li>12000</li>\n",
       "\t<li>28</li>\n",
       "\t<li>28</li>\n",
       "</ol>\n"
      ],
      "text/latex": [
       "\\begin{enumerate*}\n",
       "\\item 12000\n",
       "\\item 28\n",
       "\\item 28\n",
       "\\end{enumerate*}\n"
      ],
      "text/markdown": [
       "1. 12000\n",
       "2. 28\n",
       "3. 28\n",
       "\n",
       "\n"
      ],
      "text/plain": [
       "[1] 12000    28    28"
      ]
     },
     "metadata": {},
     "output_type": "display_data"
    },
    {
     "data": {
      "text/html": [
       "<ol class=list-inline>\n",
       "\t<li>12000</li>\n",
       "\t<li>10</li>\n",
       "</ol>\n"
      ],
      "text/latex": [
       "\\begin{enumerate*}\n",
       "\\item 12000\n",
       "\\item 10\n",
       "\\end{enumerate*}\n"
      ],
      "text/markdown": [
       "1. 12000\n",
       "2. 10\n",
       "\n",
       "\n"
      ],
      "text/plain": [
       "[1] 12000    10"
      ]
     },
     "metadata": {},
     "output_type": "display_data"
    },
    {
     "data": {
      "text/html": [
       "<ol class=list-inline>\n",
       "\t<li>48000</li>\n",
       "\t<li>28</li>\n",
       "\t<li>28</li>\n",
       "</ol>\n"
      ],
      "text/latex": [
       "\\begin{enumerate*}\n",
       "\\item 48000\n",
       "\\item 28\n",
       "\\item 28\n",
       "\\end{enumerate*}\n"
      ],
      "text/markdown": [
       "1. 48000\n",
       "2. 28\n",
       "3. 28\n",
       "\n",
       "\n"
      ],
      "text/plain": [
       "[1] 48000    28    28"
      ]
     },
     "metadata": {},
     "output_type": "display_data"
    },
    {
     "data": {
      "text/html": [
       "<ol class=list-inline>\n",
       "\t<li>48000</li>\n",
       "\t<li>10</li>\n",
       "</ol>\n"
      ],
      "text/latex": [
       "\\begin{enumerate*}\n",
       "\\item 48000\n",
       "\\item 10\n",
       "\\end{enumerate*}\n"
      ],
      "text/markdown": [
       "1. 48000\n",
       "2. 10\n",
       "\n",
       "\n"
      ],
      "text/plain": [
       "[1] 48000    10"
      ]
     },
     "metadata": {},
     "output_type": "display_data"
    }
   ],
   "source": [
    "dim(x_val)\n",
    "dim(y_val)\n",
    "\n",
    "dim(x_train)\n",
    "dim(y_train)"
   ]
  },
  {
   "cell_type": "markdown",
   "metadata": {},
   "source": [
    "## Exercise 5\n",
    "Create an initial model by filling out the skeleton below. Apply the following in this order.\n",
    "- Flatten the input, convert the two-dimensional 28 x 28 image into a one-dimensional vector of length 784.\n",
    "- Add a dense layer with 256 units.\n",
    "- Add a dense layer with 10 units and softmax activation. The output.\n",
    "\n",
    "The functions you will need to use.\n",
    "- `layer_flatten()`, accepts parameters `input_shape`\n",
    "- `layer_dense()`, accepts parameters `units`, `activation`\n",
    "\n",
    "Values for parameters.\n",
    "- `activation`, accepts `\"relu\"`, `\"sigmoid\"`, `\"softmax\"`\n",
    "\n",
    "Print a summary of the model and verify the output shapes of each layer."
   ]
  },
  {
   "cell_type": "code",
   "execution_count": 12,
   "metadata": {},
   "outputs": [
    {
     "data": {
      "text/plain": [
       "Model\n",
       "Model: \"sequential\"\n",
       "________________________________________________________________________________\n",
       "Layer (type)                        Output Shape                    Param #     \n",
       "================================================================================\n",
       "flatten (Flatten)                   (None, 784)                     0           \n",
       "________________________________________________________________________________\n",
       "dense (Dense)                       (None, 256)                     200960      \n",
       "________________________________________________________________________________\n",
       "dense_1 (Dense)                     (None, 10)                      2570        \n",
       "================================================================================\n",
       "Total params: 203,530\n",
       "Trainable params: 203,530\n",
       "Non-trainable params: 0\n",
       "________________________________________________________________________________\n",
       "\n"
      ]
     },
     "metadata": {},
     "output_type": "display_data"
    }
   ],
   "source": [
    "model <- keras_model_sequential() %>%\n",
    "    layer_flatten(input_shape = c(28, 28)) %>%\n",
    "    layer_dense(units = 256, activation = \"relu\") %>%\n",
    "    layer_dense(units = 10, activation = \"softmax\")\n",
    "\n",
    "model"
   ]
  },
  {
   "cell_type": "markdown",
   "metadata": {},
   "source": [
    "## Exercise 6\n",
    "Compile the model by filling out the skeleton below according to the following requirements:\n",
    "1. The optimizer should be `optimizer_adam` with learning rate 0.001\n",
    "1. The loss should be `categorical_crossentropy`\n",
    "1. The metric should be accuracy (warning: Keras expects a character vector)\n",
    "\n",
    "**Hint**: it may help to keep the previous notebook open for reference."
   ]
  },
  {
   "cell_type": "code",
   "execution_count": 13,
   "metadata": {},
   "outputs": [],
   "source": [
    "model %>% compile(\n",
    "    optimizer = optimizer_adam(lr = 0.001),\n",
    "    loss = \"categorical_crossentropy\",\n",
    "    metrics = c(\"accuracy\")\n",
    ")\n",
    "weights <- get_weights(model)  # We will use the initial weights later"
   ]
  },
  {
   "cell_type": "markdown",
   "metadata": {},
   "source": [
    "## Exercise 7\n",
    "Fit the model and plot the training history by filling out the skeleton below. We supply the validation set as well so we can see if we start overfitting."
   ]
  },
  {
   "cell_type": "code",
   "execution_count": 14,
   "metadata": {},
   "outputs": [
    {
     "name": "stdout",
     "output_type": "stream",
     "text": [
      "Epoch 80 - loss: 0.2621652, acc.: 0.9067917, val loss: 0.32620304552714, val acc.: 0.884166657924652   \r"
     ]
    },
    {
     "data": {
      "image/png": "[encoded data removed]",
      "text/plain": [
       "plot without title"
      ]
     },
     "metadata": {},
     "output_type": "display_data"
    }
   ],
   "source": [
    "model %>% set_weights(weights)  # this will make sure we reset the model to its initial weights\n",
    "history <- model %>% fit(\n",
    "    x = x_train,\n",
    "    y = y_train,\n",
    "    epochs = 80,\n",
    "    validation_data = list(x_val, y_val),\n",
    "    batch_size = 8096,\n",
    "    callbacks=list(Progress$new())\n",
    ")\n",
    "plot(history)"
   ]
  },
  {
   "cell_type": "markdown",
   "metadata": {},
   "source": [
    "## Exercise 8\n",
    "We can see that we seem to be able to fit the data alright using this network, our training loss continues to go down, but slowly. At the same time we can see the validation and training accuracy starting to diverge. This is an indication that we might be beginning to overfit. That is to say, we have stopped training this network at the correct moment.\n",
    "\n",
    "We can still imporove this network by adjusting the layers in hopes to reduce the number of parameters. Try reducing the units in the first layer by half (and possibly more) and add smaller additional layers, with ever decreasing number of units. This will speed up the training time as we are using less parameters and might perform equally well."
   ]
  },
  {
   "cell_type": "code",
   "execution_count": 15,
   "metadata": {},
   "outputs": [
    {
     "name": "stdout",
     "output_type": "stream",
     "text": [
      "Model: \"sequential_1\"\n",
      "________________________________________________________________________________\n",
      "Layer (type)                        Output Shape                    Param #     \n",
      "================================================================================\n",
      "flatten_1 (Flatten)                 (None, 784)                     0           \n",
      "________________________________________________________________________________\n",
      "dense_2 (Dense)                     (None, 128)                     100480      \n",
      "________________________________________________________________________________\n",
      "dense_3 (Dense)                     (None, 64)                      8256        \n",
      "________________________________________________________________________________\n",
      "dense_4 (Dense)                     (None, 64)                      4160        \n",
      "________________________________________________________________________________\n",
      "dense_5 (Dense)                     (None, 32)                      2080        \n",
      "________________________________________________________________________________\n",
      "dense_6 (Dense)                     (None, 10)                      330         \n",
      "================================================================================\n",
      "Total params: 115,306\n",
      "Trainable params: 115,306\n",
      "Non-trainable params: 0\n",
      "________________________________________________________________________________\n",
      "Epoch 80 - loss: 0.2458396, acc.: 0.9110625, val loss: 0.329323369503021, val acc.: 0.884333312511444  \r"
     ]
    },
    {
     "data": {
      "image/png": "[encoded data removed]",
      "text/plain": [
       "plot without title"
      ]
     },
     "metadata": {},
     "output_type": "display_data"
    }
   ],
   "source": [
    "model <- keras_model_sequential() %>%\n",
    "    layer_flatten(input_shape = c(28, 28)) %>%\n",
    "    layer_dense(units = 128, activation = \"relu\") %>%\n",
    "    layer_dense(units = 64, activation = \"relu\") %>%\n",
    "    layer_dense(units = 64, activation = \"relu\") %>%\n",
    "    layer_dense(units = 32, activation = \"relu\") %>%\n",
    "    layer_dense(units = 10, activation = \"softmax\")\n",
    "\n",
    "cat(summary(model))\n",
    "\n",
    "model %>% compile(\n",
    "    optimizer = optimizer_adam(lr = 0.001),\n",
    "    loss = \"categorical_crossentropy\",\n",
    "    metrics = c(\"accuracy\")\n",
    ")\n",
    "\n",
    "history <- model %>% fit(\n",
    "    x = x_train,\n",
    "    y = y_train,\n",
    "    validation_data = list(x_val, y_val),\n",
    "    epochs = 80,\n",
    "    batch_size = 8096,\n",
    "    callbacks=list(Progress$new())\n",
    ")\n",
    "plot(history)"
   ]
  },
  {
   "cell_type": "markdown",
   "metadata": {},
   "source": [
    "When you are ok with the performance of your model [`evaluate`](https://tensorflow.rstudio.com/keras/reference/evaluate.html) it on the test set to obtain a final estimate of our model's performance."
   ]
  },
  {
   "cell_type": "code",
   "execution_count": 16,
   "metadata": {},
   "outputs": [
    {
     "data": {
      "text/html": [
       "<dl>\n",
       "\t<dt>$loss</dt>\n",
       "\t\t<dd>0.356791258096695</dd>\n",
       "\t<dt>$acc</dt>\n",
       "\t\t<dd>0.87169998884201</dd>\n",
       "</dl>\n"
      ],
      "text/latex": [
       "\\begin{description}\n",
       "\\item[\\$loss] 0.356791258096695\n",
       "\\item[\\$acc] 0.87169998884201\n",
       "\\end{description}\n"
      ],
      "text/markdown": [
       "$loss\n",
       ":   0.356791258096695\n",
       "$acc\n",
       ":   0.87169998884201\n",
       "\n",
       "\n"
      ],
      "text/plain": [
       "$loss\n",
       "[1] 0.3567913\n",
       "\n",
       "$acc\n",
       "[1] 0.8717\n"
      ]
     },
     "metadata": {},
     "output_type": "display_data"
    }
   ],
   "source": [
    "x_test <- data_test$x\n",
    "y_test <- data_test$y\n",
    "model %>% evaluate(x_test, y_test)"
   ]
  }
 ],
 "metadata": {
  "kernelspec": {
   "display_name": "R",
   "language": "R",
   "name": "ir"
  },
  "language_info": {
   "codemirror_mode": "r",
   "file_extension": ".r",
   "mimetype": "text/x-r-source",
   "name": "R",
   "pygments_lexer": "r",
   "version": "3.5.1"
  }
 },
 "nbformat": 4,
 "nbformat_minor": 2
}
