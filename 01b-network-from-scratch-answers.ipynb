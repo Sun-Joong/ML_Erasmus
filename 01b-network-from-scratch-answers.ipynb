{
 "cells": [
  {
   "cell_type": "markdown",
   "metadata": {},
   "source": [
    "# A neural network from scratch\n",
    "The problem you solved in the last notebook was linearly separable. In this notebook, we will look at a famous problem that is not linearly separable: the **XOR problem**. We cannot solve it with a single neuron, but need a network of three neurons, of which two of them are in th network's *hidden layer*.\n",
    "\n",
    "Let's load the data set first:"
   ]
  },
  {
   "cell_type": "code",
   "execution_count": 5,
   "metadata": {},
   "outputs": [],
   "source": [
    "source(\"01-helpers.R\")\n",
    "data <- dataset_xor()"
   ]
  },
  {
   "cell_type": "markdown",
   "metadata": {},
   "source": [
    "## Exercise 1\n",
    "Extract the input matrix `X` and the labels `y` from the `data` object. Inspect them and their dimensions. Do they make sense to you?"
   ]
  },
  {
   "cell_type": "code",
   "execution_count": 6,
   "metadata": {},
   "outputs": [
    {
     "data": {
      "text/html": [
       "<table>\n",
       "<caption>A matrix: 4 × 2 of type dbl</caption>\n",
       "<tbody>\n",
       "\t<tr><td>0</td><td>0</td></tr>\n",
       "\t<tr><td>0</td><td>1</td></tr>\n",
       "\t<tr><td>1</td><td>0</td></tr>\n",
       "\t<tr><td>1</td><td>1</td></tr>\n",
       "</tbody>\n",
       "</table>\n"
      ],
      "text/latex": [
       "A matrix: 4 × 2 of type dbl\n",
       "\\begin{tabular}{ll}\n",
       "\t 0 & 0\\\\\n",
       "\t 0 & 1\\\\\n",
       "\t 1 & 0\\\\\n",
       "\t 1 & 1\\\\\n",
       "\\end{tabular}\n"
      ],
      "text/markdown": [
       "\n",
       "A matrix: 4 × 2 of type dbl\n",
       "\n",
       "| 0 | 0 |\n",
       "| 0 | 1 |\n",
       "| 1 | 0 |\n",
       "| 1 | 1 |\n",
       "\n"
      ],
      "text/plain": [
       "     [,1] [,2]\n",
       "[1,] 0    0   \n",
       "[2,] 0    1   \n",
       "[3,] 1    0   \n",
       "[4,] 1    1   "
      ]
     },
     "metadata": {},
     "output_type": "display_data"
    },
    {
     "data": {
      "text/html": [
       "<ol class=list-inline>\n",
       "\t<li>0</li>\n",
       "\t<li>1</li>\n",
       "\t<li>1</li>\n",
       "\t<li>0</li>\n",
       "</ol>\n",
       "\n",
       "<details>\n",
       "\t<summary style=display:list-item;cursor:pointer>\n",
       "\t\t<strong>Levels</strong>:\n",
       "\t</summary>\n",
       "\t<ol class=list-inline>\n",
       "\t\t<li>'0'</li>\n",
       "\t\t<li>'1'</li>\n",
       "\t</ol>\n",
       "</details>"
      ],
      "text/latex": [
       "\\begin{enumerate*}\n",
       "\\item 0\n",
       "\\item 1\n",
       "\\item 1\n",
       "\\item 0\n",
       "\\end{enumerate*}\n",
       "\n",
       "\\emph{Levels}: \\begin{enumerate*}\n",
       "\\item '0'\n",
       "\\item '1'\n",
       "\\end{enumerate*}\n"
      ],
      "text/markdown": [
       "1. 0\n",
       "2. 1\n",
       "3. 1\n",
       "4. 0\n",
       "\n",
       "\n",
       "\n",
       "**Levels**: 1. '0'\n",
       "2. '1'\n",
       "\n",
       "\n"
      ],
      "text/plain": [
       "[1] 0 1 1 0\n",
       "Levels: 0 1"
      ]
     },
     "metadata": {},
     "output_type": "display_data"
    },
    {
     "data": {
      "text/html": [
       "<ol class=list-inline>\n",
       "\t<li>4</li>\n",
       "\t<li>2</li>\n",
       "</ol>\n"
      ],
      "text/latex": [
       "\\begin{enumerate*}\n",
       "\\item 4\n",
       "\\item 2\n",
       "\\end{enumerate*}\n"
      ],
      "text/markdown": [
       "1. 4\n",
       "2. 2\n",
       "\n",
       "\n"
      ],
      "text/plain": [
       "[1] 4 2"
      ]
     },
     "metadata": {},
     "output_type": "display_data"
    },
    {
     "data": {
      "text/html": [
       "4"
      ],
      "text/latex": [
       "4"
      ],
      "text/markdown": [
       "4"
      ],
      "text/plain": [
       "[1] 4"
      ]
     },
     "metadata": {},
     "output_type": "display_data"
    }
   ],
   "source": [
    "X <- data$X\n",
    "y <- data$y\n",
    "X\n",
    "y\n",
    "dim(X) # four points, 2 input variables, x1 and x2\n",
    "length(y) # the output (labels)"
   ]
  },
  {
   "cell_type": "markdown",
   "metadata": {},
   "source": [
    "Let's plot the data set:"
   ]
  },
  {
   "cell_type": "code",
   "execution_count": 7,
   "metadata": {},
   "outputs": [
    {
     "data": {
      "image/png": "[encoded data removed]",
      "text/plain": [
       "plot without title"
      ]
     },
     "metadata": {},
     "output_type": "display_data"
    }
   ],
   "source": [
    "plot_dataset(X, y)"
   ]
  },
  {
   "cell_type": "markdown",
   "metadata": {},
   "source": [
    "We need a hidden layer with two neurons to solve this problem. The entire network will look like this:\n",
    "\n",
    "![XOR problem network](images/hidden-layer-neurons.png)\n",
    "\n",
    "This may look complicated, but, like the network in the first notebook, we will "
   ]
  },
  {
   "cell_type": "markdown",
   "metadata": {},
   "source": [
    "In the previous notebook, you implemented a `neuron` function in the last notebook, looking like this:"
   ]
  },
  {
   "cell_type": "code",
   "execution_count": 8,
   "metadata": {},
   "outputs": [],
   "source": [
    "sigmoid <- function(x) {\n",
    "    1 / (1 + exp(-x))\n",
    "}\n",
    "\n",
    "neuron <- function(X) {\n",
    "    sigmoid(w %*% t(X) + b)\n",
    "}"
   ]
  },
  {
   "cell_type": "markdown",
   "metadata": {},
   "source": [
    "The weights in this function are given as a vector `w`. In this way, each point $(x_1, x_2)$ is converted to the output of a single neuron. Since we have two neurons, the output of the multiplication step should be **two** numbers. We accomplish this by taking the weights as a matrix `W`, instead of as a vector."
   ]
  },
  {
   "cell_type": "markdown",
   "metadata": {},
   "source": [
    "## Exercise 2\n",
    "Create the weight matrix `W` such that $\\mathbf{Z} = \\mathbf{W} \\mathbf{X}^\\top $ will look as follows: \n",
    "\n",
    "$$\n",
    "\\mathbf{Z} = \\mathbf{W} \\mathbf{X}^\\top =\n",
    "\\left(\n",
    "\\begin{array}{cc}\n",
    "0 & 1 & 1 & 2 \\\\\n",
    "0 & 1 & 1 & 2 \\\\\n",
    "\\end{array}\n",
    "\\right)\n",
    "$$\n",
    "\n",
    "Save the output of the multiplication to the variable `Z`."
   ]
  },
  {
   "cell_type": "code",
   "execution_count": 9,
   "metadata": {},
   "outputs": [
    {
     "data": {
      "text/html": [
       "<table>\n",
       "<caption>A matrix: 2 × 2 of type dbl</caption>\n",
       "<tbody>\n",
       "\t<tr><td>1</td><td>1</td></tr>\n",
       "\t<tr><td>1</td><td>1</td></tr>\n",
       "</tbody>\n",
       "</table>\n"
      ],
      "text/latex": [
       "A matrix: 2 × 2 of type dbl\n",
       "\\begin{tabular}{ll}\n",
       "\t 1 & 1\\\\\n",
       "\t 1 & 1\\\\\n",
       "\\end{tabular}\n"
      ],
      "text/markdown": [
       "\n",
       "A matrix: 2 × 2 of type dbl\n",
       "\n",
       "| 1 | 1 |\n",
       "| 1 | 1 |\n",
       "\n"
      ],
      "text/plain": [
       "     [,1] [,2]\n",
       "[1,] 1    1   \n",
       "[2,] 1    1   "
      ]
     },
     "metadata": {},
     "output_type": "display_data"
    },
    {
     "data": {
      "text/html": [
       "<table>\n",
       "<caption>A matrix: 2 × 4 of type dbl</caption>\n",
       "<tbody>\n",
       "\t<tr><td>0</td><td>1</td><td>1</td><td>2</td></tr>\n",
       "\t<tr><td>0</td><td>1</td><td>1</td><td>2</td></tr>\n",
       "</tbody>\n",
       "</table>\n"
      ],
      "text/latex": [
       "A matrix: 2 × 4 of type dbl\n",
       "\\begin{tabular}{llll}\n",
       "\t 0 & 1 & 1 & 2\\\\\n",
       "\t 0 & 1 & 1 & 2\\\\\n",
       "\\end{tabular}\n"
      ],
      "text/markdown": [
       "\n",
       "A matrix: 2 × 4 of type dbl\n",
       "\n",
       "| 0 | 1 | 1 | 2 |\n",
       "| 0 | 1 | 1 | 2 |\n",
       "\n"
      ],
      "text/plain": [
       "     [,1] [,2] [,3] [,4]\n",
       "[1,] 0    1    1    2   \n",
       "[2,] 0    1    1    2   "
      ]
     },
     "metadata": {},
     "output_type": "display_data"
    }
   ],
   "source": [
    "W <- matrix(c(1, 1, 1, 1), nrow = 2)\n",
    "W\n",
    "Z <- W %*% t(X)\n",
    "Z"
   ]
  },
  {
   "cell_type": "markdown",
   "metadata": {},
   "source": [
    "## Exercise 3\n",
    "We will need to add a bias term to each output variable. Since we have two output variables (two columns in `Z`), our bias variable `b` will be a vector instead of a single number like before. Create a bias vector `b` that looks as follows:\n",
    "\n",
    "$$\n",
    "\\mathbf{b} =\n",
    "\\left(\n",
    "\\begin{array}{c}\n",
    "0 \\\\\n",
    "-1 \\\\\n",
    "\\end{array}\n",
    "\\right)\n",
    "$$"
   ]
  },
  {
   "cell_type": "code",
   "execution_count": 10,
   "metadata": {},
   "outputs": [
    {
     "data": {
      "text/html": [
       "<ol class=list-inline>\n",
       "\t<li>0</li>\n",
       "\t<li>-1</li>\n",
       "</ol>\n"
      ],
      "text/latex": [
       "\\begin{enumerate*}\n",
       "\\item 0\n",
       "\\item -1\n",
       "\\end{enumerate*}\n"
      ],
      "text/markdown": [
       "1. 0\n",
       "2. -1\n",
       "\n",
       "\n"
      ],
      "text/plain": [
       "[1]  0 -1"
      ]
     },
     "metadata": {},
     "output_type": "display_data"
    }
   ],
   "source": [
    "b <- c(0, -1)\n",
    "b"
   ]
  },
  {
   "cell_type": "markdown",
   "metadata": {},
   "source": [
    "## The `apply` function\n",
    "We want to apply this bias to each row in `Z`. We will use R's [`apply`](https://www.rdocumentation.org/packages/base/versions/3.5.2/topics/apply) function to do so. As the name suggests, `apply` will apply a function to each element along a certain axis of a tensor. You will supply the input tensor, the axis along which to apply the operation, and the function to apply to it.\n",
    "\n",
    "Let's look at an example where we solve the addition of the bias term to each column in `Z`:"
   ]
  },
  {
   "cell_type": "code",
   "execution_count": 11,
   "metadata": {},
   "outputs": [
    {
     "data": {
      "text/html": [
       "<table>\n",
       "<caption>A matrix: 2 × 4 of type dbl</caption>\n",
       "<tbody>\n",
       "\t<tr><td> 0</td><td>1</td><td>1</td><td>2</td></tr>\n",
       "\t<tr><td>-1</td><td>0</td><td>0</td><td>1</td></tr>\n",
       "</tbody>\n",
       "</table>\n"
      ],
      "text/latex": [
       "A matrix: 2 × 4 of type dbl\n",
       "\\begin{tabular}{llll}\n",
       "\t  0 & 1 & 1 & 2\\\\\n",
       "\t -1 & 0 & 0 & 1\\\\\n",
       "\\end{tabular}\n"
      ],
      "text/markdown": [
       "\n",
       "A matrix: 2 × 4 of type dbl\n",
       "\n",
       "|  0 | 1 | 1 | 2 |\n",
       "| -1 | 0 | 0 | 1 |\n",
       "\n"
      ],
      "text/plain": [
       "     [,1] [,2] [,3] [,4]\n",
       "[1,]  0   1    1    2   \n",
       "[2,] -1   0    0    1   "
      ]
     },
     "metadata": {},
     "output_type": "display_data"
    }
   ],
   "source": [
    "Z <- apply(Z, 2, function(column) column + b)\n",
    "Z"
   ]
  },
  {
   "cell_type": "markdown",
   "metadata": {},
   "source": [
    "As you can see, `apply` takes as its input the following parameters:\n",
    "1. The tensor to which to apply a function\n",
    "1. The axis along which to apply the function - `1` for rows, `2` for columns, etc.\n",
    "1. The function to apply to each element\n",
    "\n",
    "By specifying `2` as the second argument, `apply` will loop to all columns and pass each column to the function you have defined. The function will simply add the bias term `b` to the column and return it.\n",
    "\n",
    "You will need to use `apply` quite often to transform a tensor in a certain way. You will have some time to practice with it and become familiar with it in the notebooks and the assignments."
   ]
  },
  {
   "cell_type": "markdown",
   "metadata": {},
   "source": [
    "We can plot the transformation that the layer applies to the input data:"
   ]
  },
  {
   "cell_type": "code",
   "execution_count": 12,
   "metadata": {
    "scrolled": false
   },
   "outputs": [
    {
     "data": {
      "image/png": "[encoded data removed]",
      "text/plain": [
       "plot without title"
      ]
     },
     "metadata": {},
     "output_type": "display_data"
    }
   ],
   "source": [
    "plot_dataset(t(Z), y)  # We need to transpose Z since plot_dataset expects each instance to be a row"
   ]
  },
  {
   "cell_type": "markdown",
   "metadata": {},
   "source": [
    "As you can see, the problem is still not linearly separable: all instances lie along a line with slope 1, and we cannot draw a straight line across our plot to separate one class from the other. For that, we will need an activation function."
   ]
  },
  {
   "cell_type": "markdown",
   "metadata": {},
   "source": [
    "## Exercise 4\n",
    "Implement the ReLU activation function introduced in the slides and apply it to each row in `Z` with the `apply` function. The ReLU function is given as\n",
    "\n",
    "$$\n",
    "\\sigma(x) = max(x, 0)\n",
    "$$\n",
    "\n",
    "Store the result in a variable called `A`. (`A` for the activation of the hidden layer), like so:\n",
    "\n",
    "$$\n",
    "\\mathbf{A} = relu(\\mathbf{Z})\n",
    "$$\n",
    "\n",
    "**Hint**: you cannot use R's `max`, because it will return the maximum across the entire vector. We need an *element-wise* operation, which you can find on the following documentation page: [`Extremes`](https://www.rdocumentation.org/packages/base/versions/3.5.1/topics/Extremes)."
   ]
  },
  {
   "cell_type": "code",
   "execution_count": 13,
   "metadata": {},
   "outputs": [
    {
     "data": {
      "text/html": [
       "<table>\n",
       "<caption>A matrix: 2 × 4 of type dbl</caption>\n",
       "<tbody>\n",
       "\t<tr><td>0</td><td>1</td><td>1</td><td>2</td></tr>\n",
       "\t<tr><td>0</td><td>0</td><td>0</td><td>1</td></tr>\n",
       "</tbody>\n",
       "</table>\n"
      ],
      "text/latex": [
       "A matrix: 2 × 4 of type dbl\n",
       "\\begin{tabular}{llll}\n",
       "\t 0 & 1 & 1 & 2\\\\\n",
       "\t 0 & 0 & 0 & 1\\\\\n",
       "\\end{tabular}\n"
      ],
      "text/markdown": [
       "\n",
       "A matrix: 2 × 4 of type dbl\n",
       "\n",
       "| 0 | 1 | 1 | 2 |\n",
       "| 0 | 0 | 0 | 1 |\n",
       "\n"
      ],
      "text/plain": [
       "     [,1] [,2] [,3] [,4]\n",
       "[1,] 0    1    1    2   \n",
       "[2,] 0    0    0    1   "
      ]
     },
     "metadata": {},
     "output_type": "display_data"
    }
   ],
   "source": [
    "relu <- function(x) {\n",
    "    pmax(x, 0)\n",
    "}\n",
    "\n",
    "A <- apply(Z, 2, relu)\n",
    "A\n"
   ]
  },
  {
   "cell_type": "markdown",
   "metadata": {},
   "source": [
    "## Exercise 5\n",
    "Plot `A` together with `y` using the `plot_dataset` helper function. What is the effect of the activation function? How will the activation function allow us to solve this non-linear problem?\n",
    "\n",
    "**Hint**: remember that `plot_dataset` expects each instance (point) as a row, and not a column."
   ]
  },
  {
   "cell_type": "code",
   "execution_count": 14,
   "metadata": {},
   "outputs": [
    {
     "data": {
      "image/png": "[encoded data removed]",
      "text/plain": [
       "plot without title"
      ]
     },
     "metadata": {},
     "output_type": "display_data"
    }
   ],
   "source": [
    "plot_dataset(t(A), y)"
   ]
  },
  {
   "cell_type": "markdown",
   "metadata": {},
   "source": [
    "We're nearly there! We will be looking at probabilities and decision boundaries and We have the result of the **hidden layer** in the variable `A`, and need to transform it into probabilities for each point in our input data, that is: a vector of length 4."
   ]
  },
  {
   "cell_type": "markdown",
   "metadata": {},
   "source": [
    "## Exercise 6\n",
    "Create a vector `w` that will transform `A` into a vector of length 4. Set all elements of `w` to `1` for now, so that the following equation holds:\n",
    "\n",
    "$$\n",
    "\\hat{y} = \\mathbf{w} \\mathbf{A} = \\left(\n",
    "\\begin{array}{c}\n",
    "0 & 1 & 1 & 3 \\\\\n",
    "\\end{array}\n",
    "\\right)\n",
    "$$"
   ]
  },
  {
   "cell_type": "code",
   "execution_count": 15,
   "metadata": {},
   "outputs": [
    {
     "data": {
      "text/html": [
       "<table>\n",
       "<caption>A matrix: 1 × 4 of type dbl</caption>\n",
       "<tbody>\n",
       "\t<tr><td>0</td><td>1</td><td>1</td><td>3</td></tr>\n",
       "</tbody>\n",
       "</table>\n"
      ],
      "text/latex": [
       "A matrix: 1 × 4 of type dbl\n",
       "\\begin{tabular}{llll}\n",
       "\t 0 & 1 & 1 & 3\\\\\n",
       "\\end{tabular}\n"
      ],
      "text/markdown": [
       "\n",
       "A matrix: 1 × 4 of type dbl\n",
       "\n",
       "| 0 | 1 | 1 | 3 |\n",
       "\n"
      ],
      "text/plain": [
       "     [,1] [,2] [,3] [,4]\n",
       "[1,] 0    1    1    3   "
      ]
     },
     "metadata": {},
     "output_type": "display_data"
    }
   ],
   "source": [
    "w <- c(1, 1)\n",
    "w %*% A"
   ]
  },
  {
   "cell_type": "markdown",
   "metadata": {},
   "source": [
    "Of course, these outputs are not probabilities, since we have a `3` as the last element in the output. Typically we want to have a sigmoid activation function or something similar to get the output between 0 and 1.\n",
    "\n"
   ]
  },
  {
   "cell_type": "markdown",
   "metadata": {},
   "source": [
    "## Exercise 7\n",
    "In this case, we are skipping this step. Instead, you will modify `w` yourself such that we solve the problem perfectly. You can plot the resulting decision boundary with your choice of `w` by creating a function that returns the output of the entire network, and feeding it into the `plot_predictions` function.\n",
    "\n",
    "Create a function called `network` that will return the output of the network as a vector of length 4, by filling in the skeleton below. Modify the values of `w` such that your model classifies all points correctly."
   ]
  },
  {
   "cell_type": "code",
   "execution_count": 17,
   "metadata": {},
   "outputs": [
    {
     "data": {
      "image/png": "[encoded data removed]",
      "text/plain": [
       "plot without title"
      ]
     },
     "metadata": {},
     "output_type": "display_data"
    }
   ],
   "source": [
    "network <- function(X) {\n",
    "    Z <- apply(W %*% t(X), 2, function(iets) iets + b)  # bias term stays the same\n",
    "    A <- apply(Z, 2, relu)\n",
    "    w <- c(1, -2) \n",
    "    w %*% A\n",
    "}\n",
    "\n",
    "plot_predictions(X, y, network)"
   ]
  },
  {
   "cell_type": "markdown",
   "metadata": {},
   "source": [
    "## Exercise 8: bonus\n",
    "Solve the problem again with the network changed as follows:\n",
    "1. Instead of a ReLU function in the hidden layer, use a sigmoid function\n",
    "1. Add a bias term to the output layer called `b_o`\n",
    "1. Add sigmoid activation to the output layer\n",
    "\n",
    "**Hints**:\n",
    "1. We cannot get perfect classifications (0 and 1) in this exercise. Instead, we think of the output as probabilities and **threshold** them: any $y < 0.5$ = class 0 and any $y \\geq 0.5$ = class 1.\n",
    "1. you can use `plot_dataset` to plot the results of the hidden layer like in exercise 5. Finding a decision boundary in this representation space is equivalent to finding the weights and bias of the output layer.\n",
    "\n",
    "For reference, you can try implementing the network from the following diagram:\n",
    "![A complete, sigmoid-only network](images/full-exercise.png)"
   ]
  },
  {
   "cell_type": "markdown",
   "metadata": {},
   "source": [
    "We solve the problem in a number of steps.\n",
    "\n",
    "The first step is to 'collapse' two points into the same position in the two-dimensional representation space, that is: all points transformed to $(a_1,a_2)$ in the diagram above. Just like the ReLU example in exercise 5, we will have three points left, two of which will lie on a straight line. The two other points are collapsed into this single point by the first layer.\n",
    "\n",
    "We should have differing values for our biases $b_1$ and $b_2$, otherwise our points will lie on a straight line. The actual values are not so relevant. For $W$, we can make it easy for ourselves and set all weights to 1:"
   ]
  },
  {
   "cell_type": "code",
   "execution_count": 13,
   "metadata": {},
   "outputs": [],
   "source": [
    "b <- c(-2, 3)\n",
    "W <- matrix(rep(1, 4), nrow = 2)"
   ]
  },
  {
   "cell_type": "code",
   "execution_count": 14,
   "metadata": {},
   "outputs": [
    {
     "data": {
      "text/html": [
       "<table>\n",
       "<caption>A matrix: 2 × 4 of type dbl</caption>\n",
       "<tbody>\n",
       "\t<tr><td>0.1192029</td><td>0.2689414</td><td>0.2689414</td><td>0.5000000</td></tr>\n",
       "\t<tr><td>0.9525741</td><td>0.9820138</td><td>0.9820138</td><td>0.9933071</td></tr>\n",
       "</tbody>\n",
       "</table>\n"
      ],
      "text/latex": [
       "A matrix: 2 × 4 of type dbl\n",
       "\\begin{tabular}{llll}\n",
       "\t 0.1192029 & 0.2689414 & 0.2689414 & 0.5000000\\\\\n",
       "\t 0.9525741 & 0.9820138 & 0.9820138 & 0.9933071\\\\\n",
       "\\end{tabular}\n"
      ],
      "text/markdown": [
       "\n",
       "A matrix: 2 × 4 of type dbl\n",
       "\n",
       "| 0.1192029 | 0.2689414 | 0.2689414 | 0.5000000 |\n",
       "| 0.9525741 | 0.9820138 | 0.9820138 | 0.9933071 |\n",
       "\n"
      ],
      "text/plain": [
       "     [,1]      [,2]      [,3]      [,4]     \n",
       "[1,] 0.1192029 0.2689414 0.2689414 0.5000000\n",
       "[2,] 0.9525741 0.9820138 0.9820138 0.9933071"
      ]
     },
     "metadata": {},
     "output_type": "display_data"
    }
   ],
   "source": [
    "Z <- apply(W %*% t(X), 2, function(row) row + b)\n",
    "A <- apply(Z, 2, sigmoid)\n",
    "A"
   ]
  },
  {
   "cell_type": "markdown",
   "metadata": {},
   "source": [
    "Let's plot the result:"
   ]
  },
  {
   "cell_type": "code",
   "execution_count": 15,
   "metadata": {},
   "outputs": [
    {
     "data": {
      "image/png": "[encoded data removed]",
      "text/plain": [
       "plot without title"
      ]
     },
     "metadata": {},
     "output_type": "display_data"
    }
   ],
   "source": [
    "plot_dataset(t(A), y)"
   ]
  },
  {
   "cell_type": "markdown",
   "metadata": {},
   "source": [
    "As you can see, the two points of class 0 (red) lie on a straight line, the other two points (class 1 - blue) are collapsed into a single point in the representation space. Our job is now to find a decision boundary that separates the two classes.\n",
    "\n",
    "From the sigmoid function $\\sigma$, we know that any for any $z < 0, \\sigma(z) < 0.5$ and for any $z > 0, \\sigma(z) > 0.5$. This means that need to create $\\mathbf{w}$ such that for the two points that belong to class 0 $\\mathbf{w} \\mathbf{A}$ is smaller than 0. We can solve this problem by solving a system of linear equations. Because we can correct with our bias term $b_o$, we can solve $\\mathbf{w}$ to something nicer-looking instead:\n",
    "\n",
    "$$\n",
    "\\left(\n",
    "\\begin{array}{cc}\n",
    "0.1192029 & 0.9525741 \\\\\n",
    "0.5 & 0.9933071 \\\\\n",
    "\\end{array}\n",
    "\\right)\n",
    "\\mathbf{w}\n",
    "=\n",
    "\\left(\n",
    "\\begin{array}{c}\n",
    "1 \\\\\n",
    "1 \\\\\n",
    "\\end{array}\n",
    "\\right)\n",
    "$$\n",
    "\n",
    "**Note**: the values of the matrix are taken from the result of the calculation of `A` a few cells above."
   ]
  },
  {
   "cell_type": "code",
   "execution_count": 16,
   "metadata": {},
   "outputs": [
    {
     "data": {
      "text/html": [
       "<ol class=list-inline>\n",
       "\t<li>-0.113816923129544</li>\n",
       "\t<li>1.06402985476168</li>\n",
       "</ol>\n"
      ],
      "text/latex": [
       "\\begin{enumerate*}\n",
       "\\item -0.113816923129544\n",
       "\\item 1.06402985476168\n",
       "\\end{enumerate*}\n"
      ],
      "text/markdown": [
       "1. -0.113816923129544\n",
       "2. 1.06402985476168\n",
       "\n",
       "\n"
      ],
      "text/plain": [
       "[1] -0.1138169  1.0640299"
      ]
     },
     "metadata": {},
     "output_type": "display_data"
    }
   ],
   "source": [
    "w <- solve(t(matrix(c(A[,1], A[,4]), nrow = 2)), c(1, 1)) \n",
    "w"
   ]
  },
  {
   "cell_type": "markdown",
   "metadata": {},
   "source": [
    "$\\mathbf{w} \\mathbf{A}$ gives us:"
   ]
  },
  {
   "cell_type": "code",
   "execution_count": 17,
   "metadata": {},
   "outputs": [
    {
     "data": {
      "text/html": [
       "<table>\n",
       "<caption>A matrix: 1 × 4 of type dbl</caption>\n",
       "<tbody>\n",
       "\t<tr><td>1</td><td>1.014282</td><td>1.014282</td><td>1</td></tr>\n",
       "</tbody>\n",
       "</table>\n"
      ],
      "text/latex": [
       "A matrix: 1 × 4 of type dbl\n",
       "\\begin{tabular}{llll}\n",
       "\t 1 & 1.014282 & 1.014282 & 1\\\\\n",
       "\\end{tabular}\n"
      ],
      "text/markdown": [
       "\n",
       "A matrix: 1 × 4 of type dbl\n",
       "\n",
       "| 1 | 1.014282 | 1.014282 | 1 |\n",
       "\n"
      ],
      "text/plain": [
       "     [,1] [,2]     [,3]     [,4]\n",
       "[1,] 1    1.014282 1.014282 1   "
      ]
     },
     "metadata": {},
     "output_type": "display_data"
    }
   ],
   "source": [
    "w %*% A"
   ]
  },
  {
   "cell_type": "markdown",
   "metadata": {},
   "source": [
    "Setting our bias term to correct:"
   ]
  },
  {
   "cell_type": "code",
   "execution_count": 18,
   "metadata": {},
   "outputs": [
    {
     "data": {
      "text/html": [
       "<table>\n",
       "<caption>A matrix: 1 × 4 of type dbl</caption>\n",
       "<tbody>\n",
       "\t<tr><td>0.4975</td><td>0.5010705</td><td>0.5010705</td><td>0.4975</td></tr>\n",
       "</tbody>\n",
       "</table>\n"
      ],
      "text/latex": [
       "A matrix: 1 × 4 of type dbl\n",
       "\\begin{tabular}{llll}\n",
       "\t 0.4975 & 0.5010705 & 0.5010705 & 0.4975\\\\\n",
       "\\end{tabular}\n"
      ],
      "text/markdown": [
       "\n",
       "A matrix: 1 × 4 of type dbl\n",
       "\n",
       "| 0.4975 | 0.5010705 | 0.5010705 | 0.4975 |\n",
       "\n"
      ],
      "text/plain": [
       "     [,1]   [,2]      [,3]      [,4]  \n",
       "[1,] 0.4975 0.5010705 0.5010705 0.4975"
      ]
     },
     "metadata": {},
     "output_type": "display_data"
    }
   ],
   "source": [
    "b <- -1.01\n",
    "y_hat <- sigmoid(w %*% A + -1.01)\n",
    "y_hat"
   ]
  },
  {
   "cell_type": "markdown",
   "metadata": {},
   "source": [
    "Thresholding the resulting probabilities gives us the right predictions:"
   ]
  },
  {
   "cell_type": "code",
   "execution_count": 19,
   "metadata": {},
   "outputs": [
    {
     "data": {
      "text/html": [
       "<table>\n",
       "<caption>A matrix: 1 × 4 of type dbl</caption>\n",
       "<tbody>\n",
       "\t<tr><td>0</td><td>1</td><td>1</td><td>0</td></tr>\n",
       "</tbody>\n",
       "</table>\n"
      ],
      "text/latex": [
       "A matrix: 1 × 4 of type dbl\n",
       "\\begin{tabular}{llll}\n",
       "\t 0 & 1 & 1 & 0\\\\\n",
       "\\end{tabular}\n"
      ],
      "text/markdown": [
       "\n",
       "A matrix: 1 × 4 of type dbl\n",
       "\n",
       "| 0 | 1 | 1 | 0 |\n",
       "\n"
      ],
      "text/plain": [
       "     [,1] [,2] [,3] [,4]\n",
       "[1,] 0    1    1    0   "
      ]
     },
     "metadata": {},
     "output_type": "display_data"
    }
   ],
   "source": [
    "(y_hat > 0.5) * 1"
   ]
  }
 ],
 "metadata": {
  "kernelspec": {
   "display_name": "R",
   "language": "R",
   "name": "ir"
  },
  "language_info": {
   "codemirror_mode": "r",
   "file_extension": ".r",
   "mimetype": "text/x-r-source",
   "name": "R",
   "pygments_lexer": "r",
   "version": "3.5.1"
  }
 },
 "nbformat": 4,
 "nbformat_minor": 4
}
