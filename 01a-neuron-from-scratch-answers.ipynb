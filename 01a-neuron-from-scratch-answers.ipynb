{
 "cells": [
  {
   "cell_type": "markdown",
   "metadata": {},
   "source": [
    "# The basic building blocks\n",
    "In this notebook we will take a closer look at elements used in computation in most machine learning systems, the **tensor**."
   ]
  },
  {
   "cell_type": "markdown",
   "metadata": {},
   "source": [
    "A tensor is a generalization of vectors and matrices to an arbitrary number of **axes**. What does that mean? A scalar, or a single value, is a 0D tensor. A vector is a 1D tensor. A matrix is a 2D tensor and so on. When a new axis is added we increase the dimension of the tensor. The usage of the word **dimension** can be confusing as it is used to refer to the number of axes as well as the number of elements along an axis. We can eliminate this ambiguity by talking about the **rank** of a tensor as the number of axes it has. Similarly we also refer to the **shape** of the tensor as vector which describes the number of dimensions along each axis of a tensor. The picture below will show you how to think of tensors and their rank visually:"
   ]
  },
  {
   "cell_type": "markdown",
   "metadata": {},
   "source": [
    "![Tensors](images/tensor.jpeg)"
   ]
  },
  {
   "cell_type": "markdown",
   "metadata": {},
   "source": [
    "R uses the internal data type `vector` to manipulate 0D and 1D tensors and the [`matrix`](https://www.rdocumentation.org/packages/base/versions/3.5.1/topics/matrix) data type to manipulate 2D tensors. For higher dimensional data the [`array`](https://www.rdocumentation.org/packages/base/versions/3.5.1/topics/array) data type is used. To better understand these concepts and how they relate to R, you will make the following excercise:"
   ]
  },
  {
   "cell_type": "markdown",
   "metadata": {},
   "source": [
    "## Excercise 1\n",
    "In the following cell complete the following tasks:\n",
    "1. Using R's [`c`](https://www.rdocumentation.org/packages/base/versions/3.5.1/topics/c) function, define a 0D tensor called 'x' with the value 4:\n",
    "$$\n",
    "x =\n",
    "\\left(\n",
    "\\begin{array}{c}\n",
    "4 \\\\\n",
    "\\end{array}\n",
    "\\right)\n",
    "$$\n",
    "2. Again using [`c`](https://www.rdocumentation.org/packages/base/versions/3.5.1/topics/c), define a 1D tensor called 'y':\n",
    "$$\n",
    "y =\n",
    "\\left(\n",
    "\\begin{array}{c}\n",
    "1\\\\\n",
    "2\\\\\n",
    "3\\\\\n",
    "4\\\\\n",
    "\\end{array}\n",
    "\\right)\n",
    "$$\n",
    "3. With the [`matrix`](https://www.rdocumentation.org/packages/base/versions/3.5.1/topics/matrix) function, define a 2D tensor called 'Z':\n",
    "$$\n",
    "Z =\n",
    "\\left(\n",
    "\\begin{array}{c}\n",
    "1 & 2 & 3 & 4\\\\\n",
    "5 & 6 & 7 & 8\\\\\n",
    "\\end{array}\n",
    "\\right)\n",
    "$$\n",
    "4. Print the dimensions of each tensor using [`dim`](https://www.rdocumentation.org/packages/base/versions/3.5.1/topics/dim) (use the `as.array()` function to get meaningful results for 1. and 2.)"
   ]
  },
  {
   "cell_type": "code",
   "execution_count": 1,
   "metadata": {},
   "outputs": [
    {
     "data": {
      "text/html": [
       "1"
      ],
      "text/latex": [
       "1"
      ],
      "text/markdown": [
       "1"
      ],
      "text/plain": [
       "[1] 1"
      ]
     },
     "metadata": {},
     "output_type": "display_data"
    },
    {
     "data": {
      "text/html": [
       "4"
      ],
      "text/latex": [
       "4"
      ],
      "text/markdown": [
       "4"
      ],
      "text/plain": [
       "[1] 4"
      ]
     },
     "metadata": {},
     "output_type": "display_data"
    },
    {
     "data": {
      "text/html": [
       "<ol class=list-inline>\n",
       "\t<li>2</li>\n",
       "\t<li>4</li>\n",
       "</ol>\n"
      ],
      "text/latex": [
       "\\begin{enumerate*}\n",
       "\\item 2\n",
       "\\item 4\n",
       "\\end{enumerate*}\n"
      ],
      "text/markdown": [
       "1. 2\n",
       "2. 4\n",
       "\n",
       "\n"
      ],
      "text/plain": [
       "[1] 2 4"
      ]
     },
     "metadata": {},
     "output_type": "display_data"
    }
   ],
   "source": [
    "x <- c(4)\n",
    "y <- c(1, 2, 3, 4)\n",
    "Z <- matrix(c(c(1, 5), c(2, 6), c(3, 7), c(4, 8)), nrow = 2)\n",
    "dim(as.array(x))\n",
    "dim(as.array(y))\n",
    "dim(Z)"
   ]
  },
  {
   "cell_type": "markdown",
   "metadata": {},
   "source": [
    "In deep learning you will encounter data in various tensor dimensions\n",
    "- Vector data, 2D (samples, features)\n",
    "- Time-series, 3D (samples, timesteps, features)\n",
    "- Images, 4D (samples, height, width, channel) or (samples, channel, height, width)"
   ]
  },
  {
   "cell_type": "markdown",
   "metadata": {},
   "source": [
    "## Manipulating tensors\n",
    "Deep learning involves usually involves a lot of preprocessing of data to get it into the right shape for a model to train on. Often, you will need to manipulate a tensor's dimensions and axes, and it is crucial to understand how this works in R.\n",
    "\n",
    "During the course you will have plenty of opportunity to explore the different techniques with which R provides us. \n",
    "\n",
    "### Slicing\n",
    "The first technique we will discuss is **slicing**. With the bracket operators `[` and `]` we can slice data from a tensor by specifying the index or indices for axes we want to select:"
   ]
  },
  {
   "cell_type": "code",
   "execution_count": 2,
   "metadata": {},
   "outputs": [
    {
     "data": {
      "text/html": [
       "<table>\n",
       "<tbody>\n",
       "\t<tr><td>1</td><td>4</td></tr>\n",
       "\t<tr><td>2</td><td>5</td></tr>\n",
       "\t<tr><td>3</td><td>6</td></tr>\n",
       "</tbody>\n",
       "</table>\n"
      ],
      "text/latex": [
       "\\begin{tabular}{ll}\n",
       "\t 1 & 4\\\\\n",
       "\t 2 & 5\\\\\n",
       "\t 3 & 6\\\\\n",
       "\\end{tabular}\n"
      ],
      "text/markdown": [
       "\n",
       "| 1 | 4 | \n",
       "| 2 | 5 | \n",
       "| 3 | 6 | \n",
       "\n",
       "\n"
      ],
      "text/plain": [
       "     [,1] [,2]\n",
       "[1,] 1    4   \n",
       "[2,] 2    5   \n",
       "[3,] 3    6   "
      ]
     },
     "metadata": {},
     "output_type": "display_data"
    },
    {
     "data": {
      "text/html": [
       "<ol class=list-inline>\n",
       "\t<li>1</li>\n",
       "\t<li>4</li>\n",
       "</ol>\n"
      ],
      "text/latex": [
       "\\begin{enumerate*}\n",
       "\\item 1\n",
       "\\item 4\n",
       "\\end{enumerate*}\n"
      ],
      "text/markdown": [
       "1. 1\n",
       "2. 4\n",
       "\n",
       "\n"
      ],
      "text/plain": [
       "[1] 1 4"
      ]
     },
     "metadata": {},
     "output_type": "display_data"
    }
   ],
   "source": [
    "z <- matrix(c(1, 2, 3, 4, 5, 6),  ncol=2)\n",
    "z # This will show z\n",
    "\n",
    "slice <- z[1,] # This will slice the first row\n",
    "slice # This will show the slice"
   ]
  },
  {
   "cell_type": "code",
   "execution_count": 3,
   "metadata": {},
   "outputs": [
    {
     "data": {
      "text/html": [
       "<ol class=list-inline>\n",
       "\t<li>1</li>\n",
       "\t<li>2</li>\n",
       "\t<li>3</li>\n",
       "</ol>\n"
      ],
      "text/latex": [
       "\\begin{enumerate*}\n",
       "\\item 1\n",
       "\\item 2\n",
       "\\item 3\n",
       "\\end{enumerate*}\n"
      ],
      "text/markdown": [
       "1. 1\n",
       "2. 2\n",
       "3. 3\n",
       "\n",
       "\n"
      ],
      "text/plain": [
       "[1] 1 2 3"
      ]
     },
     "metadata": {},
     "output_type": "display_data"
    }
   ],
   "source": [
    "z[,1] # This will slice the first column"
   ]
  },
  {
   "cell_type": "code",
   "execution_count": 4,
   "metadata": {},
   "outputs": [
    {
     "data": {
      "text/html": [
       "<ol class=list-inline>\n",
       "\t<li>1</li>\n",
       "\t<li>2</li>\n",
       "</ol>\n"
      ],
      "text/latex": [
       "\\begin{enumerate*}\n",
       "\\item 1\n",
       "\\item 2\n",
       "\\end{enumerate*}\n"
      ],
      "text/markdown": [
       "1. 1\n",
       "2. 2\n",
       "\n",
       "\n"
      ],
      "text/plain": [
       "[1] 1 2"
      ]
     },
     "metadata": {},
     "output_type": "display_data"
    }
   ],
   "source": [
    "z[1:2, 1] # This will extract the first two elements of the first column"
   ]
  },
  {
   "cell_type": "markdown",
   "metadata": {},
   "source": [
    "## Exercise 2\n",
    "In the next cell we have defined a two-dimensional tensor called `Z`. It is a matrix of size 4 by 4. Extract the 'bottom right' section of the matrix, with size 2 by 2, pictured as the numbers in red in the following diagram:\n",
    "\n",
    "$$\n",
    "Z =\n",
    "\\left(\n",
    "\\begin{array}{cccc}\n",
    "1 & 2 & 3 & 4\\\\\n",
    "5 & 6 & 7 & 8\\\\\n",
    "9 & 10 & \\color{red}{11} & \\color{red}{12} \\\\\n",
    "13 & 14 & \\color{red}{15} & \\color{red}{16} \\\\\n",
    "\\end{array}\n",
    "\\right)\n",
    "$$"
   ]
  },
  {
   "cell_type": "code",
   "execution_count": 5,
   "metadata": {},
   "outputs": [
    {
     "data": {
      "text/html": [
       "<table>\n",
       "<tbody>\n",
       "\t<tr><td>11</td><td>12</td></tr>\n",
       "\t<tr><td>15</td><td>16</td></tr>\n",
       "</tbody>\n",
       "</table>\n"
      ],
      "text/latex": [
       "\\begin{tabular}{ll}\n",
       "\t 11 & 12\\\\\n",
       "\t 15 & 16\\\\\n",
       "\\end{tabular}\n"
      ],
      "text/markdown": [
       "\n",
       "| 11 | 12 | \n",
       "| 15 | 16 | \n",
       "\n",
       "\n"
      ],
      "text/plain": [
       "     [,1] [,2]\n",
       "[1,] 11   12  \n",
       "[2,] 15   16  "
      ]
     },
     "metadata": {},
     "output_type": "display_data"
    }
   ],
   "source": [
    "Z <- matrix(c(1, 5, 9, 13, 2, 6, 10, 14, 3, 7, 11, 15, 4, 8, 12, 16), ncol = 4)\n",
    "Z[3:4, 3:4]"
   ]
  },
  {
   "cell_type": "markdown",
   "metadata": {},
   "source": [
    "## Exercise 3\n",
    "In the next cell we have defined a three-dimensional tensor, also called `Z`. It is of size 4 by 4 by 4, and you can think of it as a cube. Extract the middle of the cube, with dimensions 2 by 2 by 2. The result (in R) should be:\n",
    "\n",
    "```\n",
    "22 23 26 27 38 39 42 43 \n",
    "```\n",
    "\n",
    "Please note that because we cannot easily visualise a three-dimensional tensor, R will give a list of numbers as its output."
   ]
  },
  {
   "cell_type": "code",
   "execution_count": 6,
   "metadata": {},
   "outputs": [
    {
     "data": {
      "text/html": [
       "<ol class=list-inline>\n",
       "\t<li>22</li>\n",
       "\t<li>23</li>\n",
       "\t<li>26</li>\n",
       "\t<li>27</li>\n",
       "\t<li>38</li>\n",
       "\t<li>39</li>\n",
       "\t<li>42</li>\n",
       "\t<li>43</li>\n",
       "</ol>\n"
      ],
      "text/latex": [
       "\\begin{enumerate*}\n",
       "\\item 22\n",
       "\\item 23\n",
       "\\item 26\n",
       "\\item 27\n",
       "\\item 38\n",
       "\\item 39\n",
       "\\item 42\n",
       "\\item 43\n",
       "\\end{enumerate*}\n"
      ],
      "text/markdown": [
       "1. 22\n",
       "2. 23\n",
       "3. 26\n",
       "4. 27\n",
       "5. 38\n",
       "6. 39\n",
       "7. 42\n",
       "8. 43\n",
       "\n",
       "\n"
      ],
      "text/plain": [
       ", , 1\n",
       "\n",
       "     [,1] [,2]\n",
       "[1,]   22   26\n",
       "[2,]   23   27\n",
       "\n",
       ", , 2\n",
       "\n",
       "     [,1] [,2]\n",
       "[1,]   38   42\n",
       "[2,]   39   43\n"
      ]
     },
     "metadata": {},
     "output_type": "display_data"
    }
   ],
   "source": [
    "Z <- array(1:64, dim = c(4, 4, 4))  # 1:64 will generate a vector with elements 1, 2 ... 64\n",
    "Z[2:3, 2:3, 2:3]"
   ]
  },
  {
   "cell_type": "markdown",
   "metadata": {},
   "source": [
    "## Tensor arithmetic"
   ]
  },
  {
   "cell_type": "markdown",
   "metadata": {},
   "source": [
    "There are a number of operations which can be performed on tensors, the first one is an **element-wise** operation, which applies a function to each element of the tensor independently. By default `+` and `*` in R are element-wise operations."
   ]
  },
  {
   "cell_type": "code",
   "execution_count": 7,
   "metadata": {},
   "outputs": [
    {
     "data": {
      "text/html": [
       "<table>\n",
       "<tbody>\n",
       "\t<tr><td>1</td><td>3</td></tr>\n",
       "\t<tr><td>2</td><td>4</td></tr>\n",
       "</tbody>\n",
       "</table>\n"
      ],
      "text/latex": [
       "\\begin{tabular}{ll}\n",
       "\t 1 & 3\\\\\n",
       "\t 2 & 4\\\\\n",
       "\\end{tabular}\n"
      ],
      "text/markdown": [
       "\n",
       "| 1 | 3 | \n",
       "| 2 | 4 | \n",
       "\n",
       "\n"
      ],
      "text/plain": [
       "     [,1] [,2]\n",
       "[1,] 1    3   \n",
       "[2,] 2    4   "
      ]
     },
     "metadata": {},
     "output_type": "display_data"
    },
    {
     "data": {
      "text/html": [
       "<table>\n",
       "<tbody>\n",
       "\t<tr><td>1 </td><td> 9</td></tr>\n",
       "\t<tr><td>4 </td><td>16</td></tr>\n",
       "</tbody>\n",
       "</table>\n"
      ],
      "text/latex": [
       "\\begin{tabular}{ll}\n",
       "\t 1  &  9\\\\\n",
       "\t 4  & 16\\\\\n",
       "\\end{tabular}\n"
      ],
      "text/markdown": [
       "\n",
       "| 1  |  9 | \n",
       "| 4  | 16 | \n",
       "\n",
       "\n"
      ],
      "text/plain": [
       "     [,1] [,2]\n",
       "[1,] 1     9  \n",
       "[2,] 4    16  "
      ]
     },
     "metadata": {},
     "output_type": "display_data"
    }
   ],
   "source": [
    "z <- matrix(c(1, 2, 3, 4), nrow=2, ncol=2) \n",
    "z\n",
    "a <- z * z\n",
    "a"
   ]
  },
  {
   "cell_type": "code",
   "execution_count": 8,
   "metadata": {},
   "outputs": [
    {
     "data": {
      "text/html": [
       "<table>\n",
       "<tbody>\n",
       "\t<tr><td>2</td><td>6</td></tr>\n",
       "\t<tr><td>4</td><td>8</td></tr>\n",
       "</tbody>\n",
       "</table>\n"
      ],
      "text/latex": [
       "\\begin{tabular}{ll}\n",
       "\t 2 & 6\\\\\n",
       "\t 4 & 8\\\\\n",
       "\\end{tabular}\n"
      ],
      "text/markdown": [
       "\n",
       "| 2 | 6 | \n",
       "| 4 | 8 | \n",
       "\n",
       "\n"
      ],
      "text/plain": [
       "     [,1] [,2]\n",
       "[1,] 2    6   \n",
       "[2,] 4    8   "
      ]
     },
     "metadata": {},
     "output_type": "display_data"
    }
   ],
   "source": [
    "z + z"
   ]
  },
  {
   "cell_type": "markdown",
   "metadata": {},
   "source": [
    "### Multiplication\n",
    "The **multiplication** of two tensors returns a new tensor and is denoted by `%*%` in R. The multiplication will calculate the product for each row and column in the two tensors as follows:\n",
    "\n",
    "![Dot product](./images/Matrix_multiplication_diagram_2.svg)\n",
    "[[source]](https://en.wikipedia.org/wiki/Matrix_multiplication)\n",
    "\n",
    "In the following example the output tensor is of the same dimensions as the two input tensors."
   ]
  },
  {
   "cell_type": "code",
   "execution_count": 9,
   "metadata": {},
   "outputs": [
    {
     "data": {
      "text/html": [
       "<table>\n",
       "<tbody>\n",
       "\t<tr><td>1</td><td>3</td></tr>\n",
       "\t<tr><td>2</td><td>4</td></tr>\n",
       "</tbody>\n",
       "</table>\n"
      ],
      "text/latex": [
       "\\begin{tabular}{ll}\n",
       "\t 1 & 3\\\\\n",
       "\t 2 & 4\\\\\n",
       "\\end{tabular}\n"
      ],
      "text/markdown": [
       "\n",
       "| 1 | 3 | \n",
       "| 2 | 4 | \n",
       "\n",
       "\n"
      ],
      "text/plain": [
       "     [,1] [,2]\n",
       "[1,] 1    3   \n",
       "[2,] 2    4   "
      ]
     },
     "metadata": {},
     "output_type": "display_data"
    },
    {
     "data": {
      "text/html": [
       "<table>\n",
       "<tbody>\n",
       "\t<tr><td> 7</td><td>15</td></tr>\n",
       "\t<tr><td>10</td><td>22</td></tr>\n",
       "</tbody>\n",
       "</table>\n"
      ],
      "text/latex": [
       "\\begin{tabular}{ll}\n",
       "\t  7 & 15\\\\\n",
       "\t 10 & 22\\\\\n",
       "\\end{tabular}\n"
      ],
      "text/markdown": [
       "\n",
       "|  7 | 15 | \n",
       "| 10 | 22 | \n",
       "\n",
       "\n"
      ],
      "text/plain": [
       "     [,1] [,2]\n",
       "[1,]  7   15  \n",
       "[2,] 10   22  "
      ]
     },
     "metadata": {},
     "output_type": "display_data"
    }
   ],
   "source": [
    "A <- matrix(c(1, 2, 3, 4), ncol = 2)\n",
    "A\n",
    "A %*% A"
   ]
  },
  {
   "cell_type": "code",
   "execution_count": 10,
   "metadata": {},
   "outputs": [
    {
     "data": {
      "text/html": [
       "<table>\n",
       "<tbody>\n",
       "\t<tr><td>1</td><td>3</td></tr>\n",
       "\t<tr><td>2</td><td>4</td></tr>\n",
       "</tbody>\n",
       "</table>\n"
      ],
      "text/latex": [
       "\\begin{tabular}{ll}\n",
       "\t 1 & 3\\\\\n",
       "\t 2 & 4\\\\\n",
       "\\end{tabular}\n"
      ],
      "text/markdown": [
       "\n",
       "| 1 | 3 | \n",
       "| 2 | 4 | \n",
       "\n",
       "\n"
      ],
      "text/plain": [
       "     [,1] [,2]\n",
       "[1,] 1    3   \n",
       "[2,] 2    4   "
      ]
     },
     "metadata": {},
     "output_type": "display_data"
    },
    {
     "data": {
      "text/html": [
       "<table>\n",
       "<tbody>\n",
       "\t<tr><td>5</td><td>7</td></tr>\n",
       "\t<tr><td>6</td><td>8</td></tr>\n",
       "</tbody>\n",
       "</table>\n"
      ],
      "text/latex": [
       "\\begin{tabular}{ll}\n",
       "\t 5 & 7\\\\\n",
       "\t 6 & 8\\\\\n",
       "\\end{tabular}\n"
      ],
      "text/markdown": [
       "\n",
       "| 5 | 7 | \n",
       "| 6 | 8 | \n",
       "\n",
       "\n"
      ],
      "text/plain": [
       "     [,1] [,2]\n",
       "[1,] 5    7   \n",
       "[2,] 6    8   "
      ]
     },
     "metadata": {},
     "output_type": "display_data"
    }
   ],
   "source": [
    "A <- matrix(1:4, ncol = 2)\n",
    "A\n",
    "B <- matrix(5:8, ncol = 2)\n",
    "B"
   ]
  },
  {
   "cell_type": "code",
   "execution_count": 11,
   "metadata": {},
   "outputs": [
    {
     "data": {
      "text/html": [
       "<table>\n",
       "<tbody>\n",
       "\t<tr><td>23</td><td>31</td></tr>\n",
       "\t<tr><td>34</td><td>46</td></tr>\n",
       "</tbody>\n",
       "</table>\n"
      ],
      "text/latex": [
       "\\begin{tabular}{ll}\n",
       "\t 23 & 31\\\\\n",
       "\t 34 & 46\\\\\n",
       "\\end{tabular}\n"
      ],
      "text/markdown": [
       "\n",
       "| 23 | 31 | \n",
       "| 34 | 46 | \n",
       "\n",
       "\n"
      ],
      "text/plain": [
       "     [,1] [,2]\n",
       "[1,] 23   31  \n",
       "[2,] 34   46  "
      ]
     },
     "metadata": {},
     "output_type": "display_data"
    }
   ],
   "source": [
    "A %*% B"
   ]
  },
  {
   "cell_type": "markdown",
   "metadata": {},
   "source": [
    "## Exercise 4\n",
    "Calculate the following matrix multiplication:\n",
    "\n",
    "$$\n",
    "\\left(\n",
    "\\begin{array}{cc}\n",
    "1 & 2 \\\\\n",
    "3 & 4 \\\\\n",
    "\\end{array}\n",
    "\\right)\n",
    "\\left(\n",
    "\\begin{array}{cc}\n",
    "5 & 6 \\\\\n",
    "7 & 8 \\\\\n",
    "\\end{array}\n",
    "\\right)\n",
    "=\n",
    "\\left(\n",
    "\\begin{array}{cc}\n",
    "19 & 22 \\\\\n",
    "43 & 50 \\\\\n",
    "\\end{array}\n",
    "\\right)\n",
    "$$"
   ]
  },
  {
   "cell_type": "code",
   "execution_count": 13,
   "metadata": {},
   "outputs": [
    {
     "data": {
      "text/html": [
       "<table>\n",
       "<tbody>\n",
       "\t<tr><td>19</td><td>22</td></tr>\n",
       "\t<tr><td>43</td><td>50</td></tr>\n",
       "</tbody>\n",
       "</table>\n"
      ],
      "text/latex": [
       "\\begin{tabular}{ll}\n",
       "\t 19 & 22\\\\\n",
       "\t 43 & 50\\\\\n",
       "\\end{tabular}\n"
      ],
      "text/markdown": [
       "\n",
       "| 19 | 22 | \n",
       "| 43 | 50 | \n",
       "\n",
       "\n"
      ],
      "text/plain": [
       "     [,1] [,2]\n",
       "[1,] 19   22  \n",
       "[2,] 43   50  "
      ]
     },
     "metadata": {},
     "output_type": "display_data"
    }
   ],
   "source": [
    "matrix(c(1, 3, 2, 4), nrow = 2) %*% matrix(c(5, 7, 6, 8), nrow = 2)"
   ]
  },
  {
   "cell_type": "markdown",
   "metadata": {},
   "source": [
    "## Exercise 5\n",
    "Calculate the following multiplication of a matrix with a vector:\n",
    "\n",
    "$$\n",
    "\\left(\n",
    "\\begin{array}{cc}\n",
    "1 & 2 \\\\\n",
    "3 & 4 \\\\\n",
    "\\end{array}\n",
    "\\right)\n",
    "\\left(\n",
    "\\begin{array}{c}\n",
    "1\\\\\n",
    "2\\\\\n",
    "\\end{array}\n",
    "\\right)\n",
    "=\n",
    "\\left(\n",
    "\\begin{array}{c}\n",
    "5\\\\\n",
    "11\\\\\n",
    "\\end{array}\n",
    "\\right)\n",
    "$$"
   ]
  },
  {
   "cell_type": "code",
   "execution_count": 14,
   "metadata": {},
   "outputs": [
    {
     "data": {
      "text/html": [
       "<table>\n",
       "<tbody>\n",
       "\t<tr><td> 5</td></tr>\n",
       "\t<tr><td>11</td></tr>\n",
       "</tbody>\n",
       "</table>\n"
      ],
      "text/latex": [
       "\\begin{tabular}{l}\n",
       "\t  5\\\\\n",
       "\t 11\\\\\n",
       "\\end{tabular}\n"
      ],
      "text/markdown": [
       "\n",
       "|  5 | \n",
       "| 11 | \n",
       "\n",
       "\n"
      ],
      "text/plain": [
       "     [,1]\n",
       "[1,]  5  \n",
       "[2,] 11  "
      ]
     },
     "metadata": {},
     "output_type": "display_data"
    }
   ],
   "source": [
    "matrix(c(1, 3, 2, 4), nrow = 2) %*% c(1, 2)"
   ]
  },
  {
   "cell_type": "markdown",
   "metadata": {},
   "source": [
    "### Transposition\n",
    "Transposition will flip a matrix over its main diagonal, like so:\n",
    "\n",
    "$$\n",
    "\\left(\n",
    "\\begin{array}{cc}\n",
    "1 & 2\\\\\n",
    "3 & 4\\\\\n",
    "\\end{array}\n",
    "\\right)^T\n",
    "=\n",
    "\\left(\n",
    "\\begin{array}{cc}\n",
    "1 & 3\\\\\n",
    "2 & 4\\\\\n",
    "\\end{array}\n",
    "\\right)\n",
    "$$\n",
    "\n",
    "R has a [`t`](https://www.rdocumentation.org/packages/base/versions/3.5.1/topics/t) function to do so:"
   ]
  },
  {
   "cell_type": "code",
   "execution_count": 15,
   "metadata": {},
   "outputs": [
    {
     "data": {
      "text/html": [
       "<table>\n",
       "<tbody>\n",
       "\t<tr><td>1</td><td>2</td></tr>\n",
       "\t<tr><td>3</td><td>4</td></tr>\n",
       "</tbody>\n",
       "</table>\n"
      ],
      "text/latex": [
       "\\begin{tabular}{ll}\n",
       "\t 1 & 2\\\\\n",
       "\t 3 & 4\\\\\n",
       "\\end{tabular}\n"
      ],
      "text/markdown": [
       "\n",
       "| 1 | 2 | \n",
       "| 3 | 4 | \n",
       "\n",
       "\n"
      ],
      "text/plain": [
       "     [,1] [,2]\n",
       "[1,] 1    2   \n",
       "[2,] 3    4   "
      ]
     },
     "metadata": {},
     "output_type": "display_data"
    },
    {
     "data": {
      "text/html": [
       "<table>\n",
       "<tbody>\n",
       "\t<tr><td>1</td><td>3</td></tr>\n",
       "\t<tr><td>2</td><td>4</td></tr>\n",
       "</tbody>\n",
       "</table>\n"
      ],
      "text/latex": [
       "\\begin{tabular}{ll}\n",
       "\t 1 & 3\\\\\n",
       "\t 2 & 4\\\\\n",
       "\\end{tabular}\n"
      ],
      "text/markdown": [
       "\n",
       "| 1 | 3 | \n",
       "| 2 | 4 | \n",
       "\n",
       "\n"
      ],
      "text/plain": [
       "     [,1] [,2]\n",
       "[1,] 1    3   \n",
       "[2,] 2    4   "
      ]
     },
     "metadata": {},
     "output_type": "display_data"
    }
   ],
   "source": [
    "a <- matrix(c(1, 3, 2, 4), ncol = 2)\n",
    "a\n",
    "t(a)"
   ]
  },
  {
   "cell_type": "markdown",
   "metadata": {},
   "source": [
    "## Exercise 6\n",
    "Create a matrix with 1 column and 1 row and transpose it. Inspect the dimensions with the [`dim`](https://www.rdocumentation.org/packages/base/versions/3.5.1/topics/dim) function. Try the same with a vector. What happens?"
   ]
  },
  {
   "cell_type": "code",
   "execution_count": 23,
   "metadata": {},
   "outputs": [
    {
     "data": {
      "text/html": [
       "<ol class=list-inline>\n",
       "\t<li>1</li>\n",
       "\t<li>1</li>\n",
       "</ol>\n"
      ],
      "text/latex": [
       "\\begin{enumerate*}\n",
       "\\item 1\n",
       "\\item 1\n",
       "\\end{enumerate*}\n"
      ],
      "text/markdown": [
       "1. 1\n",
       "2. 1\n",
       "\n",
       "\n"
      ],
      "text/plain": [
       "[1] 1 1"
      ]
     },
     "metadata": {},
     "output_type": "display_data"
    },
    {
     "data": {
      "text/html": [
       "<ol class=list-inline>\n",
       "\t<li>1</li>\n",
       "\t<li>1</li>\n",
       "</ol>\n"
      ],
      "text/latex": [
       "\\begin{enumerate*}\n",
       "\\item 1\n",
       "\\item 1\n",
       "\\end{enumerate*}\n"
      ],
      "text/markdown": [
       "1. 1\n",
       "2. 1\n",
       "\n",
       "\n"
      ],
      "text/plain": [
       "[1] 1 1"
      ]
     },
     "metadata": {},
     "output_type": "display_data"
    },
    {
     "data": {
      "text/plain": [
       "NULL"
      ]
     },
     "metadata": {},
     "output_type": "display_data"
    },
    {
     "data": {
      "text/html": [
       "<ol class=list-inline>\n",
       "\t<li>1</li>\n",
       "\t<li>1</li>\n",
       "</ol>\n"
      ],
      "text/latex": [
       "\\begin{enumerate*}\n",
       "\\item 1\n",
       "\\item 1\n",
       "\\end{enumerate*}\n"
      ],
      "text/markdown": [
       "1. 1\n",
       "2. 1\n",
       "\n",
       "\n"
      ],
      "text/plain": [
       "[1] 1 1"
      ]
     },
     "metadata": {},
     "output_type": "display_data"
    }
   ],
   "source": [
    "M <- matrix(c(1), nrow = 1, ncol = 1)\n",
    "dim(M)\n",
    "dim(t(M)) # Dimensions stay the same when transposing matrices\n",
    "\n",
    "v <- c(1)\n",
    "dim(v) # A vector in R does not have a row or column dimension\n",
    "dim(t(v)) # Transposition will turn the vector into a matrix of 1 column and 1 row"
   ]
  },
  {
   "cell_type": "markdown",
   "metadata": {},
   "source": [
    "You will see that any vector that is transposed is automatically converted into a matrix. R has no concept of a row vector or column vector. Instead, it uses a matrix with one dimension set to 1, as you saw above."
   ]
  },
  {
   "cell_type": "markdown",
   "metadata": {},
   "source": [
    "# Building a single dense layer\n",
    "In the remainder of this notebook you will solve the problem introduced in the slides. Let's load the data first:"
   ]
  },
  {
   "cell_type": "code",
   "execution_count": 24,
   "metadata": {},
   "outputs": [],
   "source": [
    "source(\"01-helpers.R\")  # this will load helper functions for this session\n",
    "\n",
    "data <- dataset_linear()\n",
    "X <- data$X\n",
    "y <- data$y"
   ]
  },
  {
   "cell_type": "markdown",
   "metadata": {},
   "source": [
    "We inspect the input variables `X` and the labels `y` using the [`head`](https://www.rdocumentation.org/packages/utils/versions/3.5.1/topics/head) function."
   ]
  },
  {
   "cell_type": "code",
   "execution_count": 25,
   "metadata": {},
   "outputs": [
    {
     "data": {
      "text/html": [
       "<table>\n",
       "<thead><tr><th scope=col>x1</th><th scope=col>x2</th></tr></thead>\n",
       "<tbody>\n",
       "\t<tr><td>0.1996392</td><td>0.4562954</td></tr>\n",
       "\t<tr><td>0.1414231</td><td>0.2973767</td></tr>\n",
       "\t<tr><td>0.3190954</td><td>0.4629799</td></tr>\n",
       "\t<tr><td>0.3784599</td><td>0.4572429</td></tr>\n",
       "\t<tr><td>0.2453274</td><td>0.3714641</td></tr>\n",
       "\t<tr><td>0.2735707</td><td>0.1760050</td></tr>\n",
       "</tbody>\n",
       "</table>\n"
      ],
      "text/latex": [
       "\\begin{tabular}{ll}\n",
       " x1 & x2\\\\\n",
       "\\hline\n",
       "\t 0.1996392 & 0.4562954\\\\\n",
       "\t 0.1414231 & 0.2973767\\\\\n",
       "\t 0.3190954 & 0.4629799\\\\\n",
       "\t 0.3784599 & 0.4572429\\\\\n",
       "\t 0.2453274 & 0.3714641\\\\\n",
       "\t 0.2735707 & 0.1760050\\\\\n",
       "\\end{tabular}\n"
      ],
      "text/markdown": [
       "\n",
       "x1 | x2 | \n",
       "|---|---|---|---|---|---|\n",
       "| 0.1996392 | 0.4562954 | \n",
       "| 0.1414231 | 0.2973767 | \n",
       "| 0.3190954 | 0.4629799 | \n",
       "| 0.3784599 | 0.4572429 | \n",
       "| 0.2453274 | 0.3714641 | \n",
       "| 0.2735707 | 0.1760050 | \n",
       "\n",
       "\n"
      ],
      "text/plain": [
       "     x1        x2       \n",
       "[1,] 0.1996392 0.4562954\n",
       "[2,] 0.1414231 0.2973767\n",
       "[3,] 0.3190954 0.4629799\n",
       "[4,] 0.3784599 0.4572429\n",
       "[5,] 0.2453274 0.3714641\n",
       "[6,] 0.2735707 0.1760050"
      ]
     },
     "metadata": {},
     "output_type": "display_data"
    }
   ],
   "source": [
    "head(X)"
   ]
  },
  {
   "cell_type": "code",
   "execution_count": 26,
   "metadata": {},
   "outputs": [
    {
     "data": {
      "text/html": [
       "<ol class=list-inline>\n",
       "\t<li>0</li>\n",
       "\t<li>0</li>\n",
       "\t<li>0</li>\n",
       "\t<li>0</li>\n",
       "\t<li>0</li>\n",
       "\t<li>0</li>\n",
       "</ol>\n",
       "\n",
       "<details>\n",
       "\t<summary style=display:list-item;cursor:pointer>\n",
       "\t\t<strong>Levels</strong>:\n",
       "\t</summary>\n",
       "\t<ol class=list-inline>\n",
       "\t\t<li>'0'</li>\n",
       "\t\t<li>'1'</li>\n",
       "\t</ol>\n",
       "</details>"
      ],
      "text/latex": [
       "\\begin{enumerate*}\n",
       "\\item 0\n",
       "\\item 0\n",
       "\\item 0\n",
       "\\item 0\n",
       "\\item 0\n",
       "\\item 0\n",
       "\\end{enumerate*}\n",
       "\n",
       "\\emph{Levels}: \\begin{enumerate*}\n",
       "\\item '0'\n",
       "\\item '1'\n",
       "\\end{enumerate*}\n"
      ],
      "text/markdown": [
       "1. 0\n",
       "2. 0\n",
       "3. 0\n",
       "4. 0\n",
       "5. 0\n",
       "6. 0\n",
       "\n",
       "\n",
       "\n",
       "**Levels**: 1. '0'\n",
       "2. '1'\n",
       "\n",
       "\n"
      ],
      "text/plain": [
       "[1] 0 0 0 0 0 0\n",
       "Levels: 0 1"
      ]
     },
     "metadata": {},
     "output_type": "display_data"
    }
   ],
   "source": [
    "head(y)"
   ]
  },
  {
   "cell_type": "markdown",
   "metadata": {},
   "source": [
    "## Exercise 7\n",
    "Inspect the dimensions of `X` and `y`. How many instances do we have? How many input variables?"
   ]
  },
  {
   "cell_type": "code",
   "execution_count": 28,
   "metadata": {},
   "outputs": [
    {
     "data": {
      "text/html": [
       "<ol class=list-inline>\n",
       "\t<li>50</li>\n",
       "\t<li>2</li>\n",
       "</ol>\n"
      ],
      "text/latex": [
       "\\begin{enumerate*}\n",
       "\\item 50\n",
       "\\item 2\n",
       "\\end{enumerate*}\n"
      ],
      "text/markdown": [
       "1. 50\n",
       "2. 2\n",
       "\n",
       "\n"
      ],
      "text/plain": [
       "[1] 50  2"
      ]
     },
     "metadata": {},
     "output_type": "display_data"
    },
    {
     "data": {
      "text/html": [
       "50"
      ],
      "text/latex": [
       "50"
      ],
      "text/markdown": [
       "50"
      ],
      "text/plain": [
       "[1] 50"
      ]
     },
     "metadata": {},
     "output_type": "display_data"
    }
   ],
   "source": [
    "dim(X)  # 50 instances, 2 input variables\n",
    "length(y)"
   ]
  },
  {
   "cell_type": "markdown",
   "metadata": {},
   "source": [
    "Let's plot the data set using one of the helper functions you just loaded:"
   ]
  },
  {
   "cell_type": "code",
   "execution_count": 29,
   "metadata": {},
   "outputs": [
    {
     "data": {},
     "metadata": {},
     "output_type": "display_data"
    },
    {
     "data": {
      "image/png": "[encoded data removed]",
      "text/plain": [
       "plot without title"
      ]
     },
     "metadata": {},
     "output_type": "display_data"
    }
   ],
   "source": [
    "plot_dataset(X, y)"
   ]
  },
  {
   "cell_type": "markdown",
   "metadata": {},
   "source": [
    "# Solving the problem - building a neuron\n",
    "During the remainder of this notebook you will build a single neuron that will perfectly classify all instances.\n",
    "\n",
    "Let's look at a diagram of this neuron you are going to build:\n",
    "\n",
    "![The neuron we are going to build](images/neuron.png)"
   ]
  },
  {
   "cell_type": "markdown",
   "metadata": {},
   "source": [
    "You will build this neuron step by step, going from left to right through the diagram. Let's begin by defining the neuron's weights:"
   ]
  },
  {
   "cell_type": "markdown",
   "metadata": {},
   "source": [
    "## Exercise 8\n",
    "The neuron will have two weights, one for each input, $w_1$ and $w_2$. Create a weight vector `w` with the values `0.5` and `0`."
   ]
  },
  {
   "cell_type": "code",
   "execution_count": 30,
   "metadata": {},
   "outputs": [
    {
     "data": {
      "text/html": [
       "<ol class=list-inline>\n",
       "\t<li>0.5</li>\n",
       "\t<li>0</li>\n",
       "</ol>\n"
      ],
      "text/latex": [
       "\\begin{enumerate*}\n",
       "\\item 0.5\n",
       "\\item 0\n",
       "\\end{enumerate*}\n"
      ],
      "text/markdown": [
       "1. 0.5\n",
       "2. 0\n",
       "\n",
       "\n"
      ],
      "text/plain": [
       "[1] 0.5 0.0"
      ]
     },
     "metadata": {},
     "output_type": "display_data"
    }
   ],
   "source": [
    "w <- c(0.5, 0)\n",
    "w"
   ]
  },
  {
   "cell_type": "markdown",
   "metadata": {},
   "source": [
    "## Exercise 9\n",
    "Create the bias variable `b`. Set it to `0` for now. This means that we will ignore its effect in subsequent calculations. You will modify it later in order to solve the problem."
   ]
  },
  {
   "cell_type": "code",
   "execution_count": 31,
   "metadata": {},
   "outputs": [
    {
     "data": {
      "text/html": [
       "0"
      ],
      "text/latex": [
       "0"
      ],
      "text/markdown": [
       "0"
      ],
      "text/plain": [
       "[1] 0"
      ]
     },
     "metadata": {},
     "output_type": "display_data"
    }
   ],
   "source": [
    "b <- 0\n",
    "b"
   ]
  },
  {
   "cell_type": "markdown",
   "metadata": {},
   "source": [
    "## Exercise 10\n",
    "Create the sigmoid activation function `sigmoid`, which takes a vector or number `x` and returns as output the following:\n",
    "$$\n",
    "\\sigma(x) = sigmoid(x) = \\frac{1}{1 + e^{-x}}\n",
    "$$\n",
    "\n",
    "We have provided you with a skeleton below:\n",
    "\n",
    "**Hint**: you will need R's [`exp`](https://www.rdocumentation.org/packages/base/versions/3.5.1/topics/log) function."
   ]
  },
  {
   "cell_type": "code",
   "execution_count": 32,
   "metadata": {},
   "outputs": [],
   "source": [
    "sigmoid <- function(x) {\n",
    "    1 / (1 + exp(-x))\n",
    "}"
   ]
  },
  {
   "cell_type": "markdown",
   "metadata": {},
   "source": [
    "## Exercise 11\n",
    "Perform the complete calculation of the neuron in R. You can either use the diagram as a reference above, or use the following equation:\n",
    "\n",
    "$$\n",
    "\\hat{y} = \\sigma(\\mathbf{w} \\mathbf{X}^\\top + b)\n",
    "$$\n",
    "\n",
    "The result should be a matrix with **1 row and 50 columns**."
   ]
  },
  {
   "cell_type": "code",
   "execution_count": 38,
   "metadata": {},
   "outputs": [
    {
     "data": {
      "text/html": [
       "<table>\n",
       "<tbody>\n",
       "\t<tr><td>0.0998196 </td><td>0.07071153</td><td>0.1595477 </td><td>0.18923   </td><td>0.1226637 </td><td>0.1367853 </td><td>0.1521444 </td><td>0.1466655 </td><td>0.1574736 </td><td>0.08866246</td><td>⋯         </td><td>0.3100344 </td><td>0.4186631 </td><td>0.3745815 </td><td>0.4190436 </td><td>0.345187  </td><td>0.3690141 </td><td>0.3891087 </td><td>0.3022006 </td><td>0.363549  </td><td>0.3251728 </td></tr>\n",
       "</tbody>\n",
       "</table>\n"
      ],
      "text/latex": [
       "\\begin{tabular}{llllllllllllllllllllllllllllllllllllllllllllllllll}\n",
       "\t 0.0998196  & 0.07071153 & 0.1595477  & 0.18923    & 0.1226637  & 0.1367853  & 0.1521444  & 0.1466655  & 0.1574736  & 0.08866246 & ⋯          & 0.3100344  & 0.4186631  & 0.3745815  & 0.4190436  & 0.345187   & 0.3690141  & 0.3891087  & 0.3022006  & 0.363549   & 0.3251728 \\\\\n",
       "\\end{tabular}\n"
      ],
      "text/markdown": [
       "\n",
       "| 0.0998196  | 0.07071153 | 0.1595477  | 0.18923    | 0.1226637  | 0.1367853  | 0.1521444  | 0.1466655  | 0.1574736  | 0.08866246 | ⋯          | 0.3100344  | 0.4186631  | 0.3745815  | 0.4190436  | 0.345187   | 0.3690141  | 0.3891087  | 0.3022006  | 0.363549   | 0.3251728  | \n",
       "\n",
       "\n"
      ],
      "text/plain": [
       "     [,1]      [,2]       [,3]      [,4]    [,5]      [,6]      [,7]     \n",
       "[1,] 0.0998196 0.07071153 0.1595477 0.18923 0.1226637 0.1367853 0.1521444\n",
       "     [,8]      [,9]      [,10]      [,11] [,12]     [,13]     [,14]    \n",
       "[1,] 0.1466655 0.1574736 0.08866246 ⋯     0.3100344 0.4186631 0.3745815\n",
       "     [,15]     [,16]    [,17]     [,18]     [,19]     [,20]    [,21]    \n",
       "[1,] 0.4190436 0.345187 0.3690141 0.3891087 0.3022006 0.363549 0.3251728"
      ]
     },
     "metadata": {},
     "output_type": "display_data"
    }
   ],
   "source": [
    "w %*% t(X) + b"
   ]
  },
  {
   "cell_type": "markdown",
   "metadata": {},
   "source": [
    "## Exercise 12\n",
    "Put the calculation above in an R function called `neuron` that takes as its input an input matrix `X` and returns the neuron's output. We will use this function for easily recalculating the neuron's output when modifying the weights and bias of the neuron.\n",
    "\n",
    "We have provided you with a skeleton to fill in below:"
   ]
  },
  {
   "cell_type": "code",
   "execution_count": 44,
   "metadata": {},
   "outputs": [],
   "source": [
    "neuron <- function(X) {\n",
    "    sigmoid(w %*% t(X) + b)\n",
    "}"
   ]
  },
  {
   "cell_type": "markdown",
   "metadata": {},
   "source": [
    "## Exercise 13\n",
    "Apply the function you defined above to the input matrix `X`.\n",
    "\n",
    "The results will be the probability of the instance belonging to the positive class (the blue one). For classification problems we usually threshold the this probability, with a value larger than $0.5$ meaning the instance is classified as positive (the 'blue' class in our case). Given the probabilities and the labels in `y`, how do you think your classifier is performing?"
   ]
  },
  {
   "cell_type": "code",
   "execution_count": 45,
   "metadata": {},
   "outputs": [
    {
     "data": {
      "text/html": [
       "<table>\n",
       "<tbody>\n",
       "\t<tr><td>0.5249342</td><td>0.5176705</td><td>0.5398025</td><td>0.5471668</td><td>0.5306275</td><td>0.5341431</td><td>0.5379629</td><td>0.5366008</td><td>0.5392872</td><td>0.5221511</td><td>⋯        </td><td>0.5768937</td><td>0.6031633</td><td>0.5925656</td><td>0.6032544</td><td>0.58545  </td><td>0.5912207</td><td>0.5960681</td><td>0.5749804</td><td>0.5898993</td><td>0.5805844</td></tr>\n",
       "</tbody>\n",
       "</table>\n"
      ],
      "text/latex": [
       "\\begin{tabular}{llllllllllllllllllllllllllllllllllllllllllllllllll}\n",
       "\t 0.5249342 & 0.5176705 & 0.5398025 & 0.5471668 & 0.5306275 & 0.5341431 & 0.5379629 & 0.5366008 & 0.5392872 & 0.5221511 & ⋯         & 0.5768937 & 0.6031633 & 0.5925656 & 0.6032544 & 0.58545   & 0.5912207 & 0.5960681 & 0.5749804 & 0.5898993 & 0.5805844\\\\\n",
       "\\end{tabular}\n"
      ],
      "text/markdown": [
       "\n",
       "| 0.5249342 | 0.5176705 | 0.5398025 | 0.5471668 | 0.5306275 | 0.5341431 | 0.5379629 | 0.5366008 | 0.5392872 | 0.5221511 | ⋯         | 0.5768937 | 0.6031633 | 0.5925656 | 0.6032544 | 0.58545   | 0.5912207 | 0.5960681 | 0.5749804 | 0.5898993 | 0.5805844 | \n",
       "\n",
       "\n"
      ],
      "text/plain": [
       "     [,1]      [,2]      [,3]      [,4]      [,5]      [,6]      [,7]     \n",
       "[1,] 0.5249342 0.5176705 0.5398025 0.5471668 0.5306275 0.5341431 0.5379629\n",
       "     [,8]      [,9]      [,10]     [,11] [,12]     [,13]     [,14]    \n",
       "[1,] 0.5366008 0.5392872 0.5221511 ⋯     0.5768937 0.6031633 0.5925656\n",
       "     [,15]     [,16]   [,17]     [,18]     [,19]     [,20]     [,21]    \n",
       "[1,] 0.6032544 0.58545 0.5912207 0.5960681 0.5749804 0.5898993 0.5805844"
      ]
     },
     "metadata": {},
     "output_type": "display_data"
    }
   ],
   "source": [
    "neuron(X)  # All elements of the output are bigger than 0.5, so all instances are classified as class 1 (blue)"
   ]
  },
  {
   "cell_type": "markdown",
   "metadata": {},
   "source": [
    "Let's plot the results of your prediction with a helper function that we have created for you, called `plot_predictions`:"
   ]
  },
  {
   "cell_type": "code",
   "execution_count": 46,
   "metadata": {},
   "outputs": [
    {
     "data": {
      "image/png": "[encoded data removed]",
      "text/plain": [
       "plot without title"
      ]
     },
     "metadata": {},
     "output_type": "display_data"
    }
   ],
   "source": [
    "plot_predictions(X, y, neuron)"
   ]
  },
  {
   "cell_type": "markdown",
   "metadata": {},
   "source": [
    "As you can see, our accuracy is 50% simply because all instances are positive (blue). We need to tweak the decision boundary in order to get 100% accuracy."
   ]
  },
  {
   "cell_type": "markdown",
   "metadata": {},
   "source": [
    "## Exercise 14\n",
    "Modify the weights `w` and the bias variables `b` such that you classify the instances with 100% accuracy. Plot the probabilities and decision boundary based on your new weights and bias.\n",
    "\n",
    "How do the bias and weights affect the decision boundary?"
   ]
  },
  {
   "cell_type": "code",
   "execution_count": 52,
   "metadata": {},
   "outputs": [
    {
     "data": {
      "image/png": "[encoded data removed]",
      "text/plain": [
       "plot without title"
      ]
     },
     "metadata": {},
     "output_type": "display_data"
    }
   ],
   "source": [
    "w <- c(0.5, 0.5)\n",
    "b <- -0.5\n",
    "plot_predictions(X, y, neuron) # w controls the 'slope' of the decision boundary, b shifts it"
   ]
  }
 ],
 "metadata": {
  "kernelspec": {
   "display_name": "R",
   "language": "R",
   "name": "ir"
  },
  "language_info": {
   "codemirror_mode": "r",
   "file_extension": ".r",
   "mimetype": "text/x-r-source",
   "name": "R",
   "pygments_lexer": "r",
   "version": "3.5.1"
  }
 },
 "nbformat": 4,
 "nbformat_minor": 2
}
